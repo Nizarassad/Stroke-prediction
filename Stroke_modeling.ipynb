{
 "cells": [
  {
   "cell_type": "markdown",
   "metadata": {
    "id": "Hi7sq4a3d7_R"
   },
   "source": [
    "# Importing the libraries"
   ]
  },
  {
   "cell_type": "code",
   "execution_count": 1,
   "metadata": {
    "colab": {
     "base_uri": "https://localhost:8080/"
    },
    "id": "zVOAtVpNeMq9",
    "outputId": "08618767-c664-4500-d93d-0efb417b8107"
   },
   "outputs": [
    {
     "name": "stdout",
     "output_type": "stream",
     "text": [
      "\u001b[33mWARNING: pip is configured with locations that require TLS/SSL, however the ssl module in Python is not available.\u001b[0m\n",
      "\u001b[33mWARNING: Retrying (Retry(total=4, connect=None, read=None, redirect=None, status=None)) after connection broken by 'SSLError(\"Can't connect to HTTPS URL because the SSL module is not available.\")': /simple/catboost/\u001b[0m\n",
      "\u001b[33mWARNING: Retrying (Retry(total=3, connect=None, read=None, redirect=None, status=None)) after connection broken by 'SSLError(\"Can't connect to HTTPS URL because the SSL module is not available.\")': /simple/catboost/\u001b[0m\n",
      "\u001b[33mWARNING: Retrying (Retry(total=2, connect=None, read=None, redirect=None, status=None)) after connection broken by 'SSLError(\"Can't connect to HTTPS URL because the SSL module is not available.\")': /simple/catboost/\u001b[0m\n",
      "\u001b[33mWARNING: Retrying (Retry(total=1, connect=None, read=None, redirect=None, status=None)) after connection broken by 'SSLError(\"Can't connect to HTTPS URL because the SSL module is not available.\")': /simple/catboost/\u001b[0m\n",
      "\u001b[33mWARNING: Retrying (Retry(total=0, connect=None, read=None, redirect=None, status=None)) after connection broken by 'SSLError(\"Can't connect to HTTPS URL because the SSL module is not available.\")': /simple/catboost/\u001b[0m\n",
      "Could not fetch URL https://pypi.org/simple/catboost/: There was a problem confirming the ssl certificate: HTTPSConnectionPool(host='pypi.org', port=443): Max retries exceeded with url: /simple/catboost/ (Caused by SSLError(\"Can't connect to HTTPS URL because the SSL module is not available.\")) - skipping\n",
      "\u001b[31mERROR: Could not find a version that satisfies the requirement catboost (from versions: none)\u001b[0m\n",
      "\u001b[31mERROR: No matching distribution found for catboost\u001b[0m\n",
      "\u001b[33mWARNING: pip is configured with locations that require TLS/SSL, however the ssl module in Python is not available.\u001b[0m\n",
      "\u001b[33mWARNING: Retrying (Retry(total=4, connect=None, read=None, redirect=None, status=None)) after connection broken by 'SSLError(\"Can't connect to HTTPS URL because the SSL module is not available.\")': /simple/imblearn/\u001b[0m\n",
      "\u001b[33mWARNING: Retrying (Retry(total=3, connect=None, read=None, redirect=None, status=None)) after connection broken by 'SSLError(\"Can't connect to HTTPS URL because the SSL module is not available.\")': /simple/imblearn/\u001b[0m\n",
      "\u001b[33mWARNING: Retrying (Retry(total=2, connect=None, read=None, redirect=None, status=None)) after connection broken by 'SSLError(\"Can't connect to HTTPS URL because the SSL module is not available.\")': /simple/imblearn/\u001b[0m\n",
      "\u001b[33mWARNING: Retrying (Retry(total=1, connect=None, read=None, redirect=None, status=None)) after connection broken by 'SSLError(\"Can't connect to HTTPS URL because the SSL module is not available.\")': /simple/imblearn/\u001b[0m\n",
      "\u001b[33mWARNING: Retrying (Retry(total=0, connect=None, read=None, redirect=None, status=None)) after connection broken by 'SSLError(\"Can't connect to HTTPS URL because the SSL module is not available.\")': /simple/imblearn/\u001b[0m\n",
      "Could not fetch URL https://pypi.org/simple/imblearn/: There was a problem confirming the ssl certificate: HTTPSConnectionPool(host='pypi.org', port=443): Max retries exceeded with url: /simple/imblearn/ (Caused by SSLError(\"Can't connect to HTTPS URL because the SSL module is not available.\")) - skipping\n",
      "\u001b[31mERROR: Could not find a version that satisfies the requirement imblearn (from versions: none)\u001b[0m\n",
      "\u001b[31mERROR: No matching distribution found for imblearn\u001b[0m\n",
      "\u001b[33mWARNING: pip is configured with locations that require TLS/SSL, however the ssl module in Python is not available.\u001b[0m\n",
      "Requirement already satisfied: tensorflow in /Users/jamal/miniforge3/lib/python3.9/site-packages (2.4.1)\n",
      "Requirement already satisfied: h5py~=2.10.0 in /Users/jamal/miniforge3/lib/python3.9/site-packages (from tensorflow) (2.10.0)\n",
      "\u001b[33mWARNING: Retrying (Retry(total=4, connect=None, read=None, redirect=None, status=None)) after connection broken by 'SSLError(\"Can't connect to HTTPS URL because the SSL module is not available.\")': /simple/typing-extensions/\u001b[0m\n",
      "\u001b[33mWARNING: Retrying (Retry(total=3, connect=None, read=None, redirect=None, status=None)) after connection broken by 'SSLError(\"Can't connect to HTTPS URL because the SSL module is not available.\")': /simple/typing-extensions/\u001b[0m\n",
      "\u001b[33mWARNING: Retrying (Retry(total=2, connect=None, read=None, redirect=None, status=None)) after connection broken by 'SSLError(\"Can't connect to HTTPS URL because the SSL module is not available.\")': /simple/typing-extensions/\u001b[0m\n",
      "\u001b[33mWARNING: Retrying (Retry(total=1, connect=None, read=None, redirect=None, status=None)) after connection broken by 'SSLError(\"Can't connect to HTTPS URL because the SSL module is not available.\")': /simple/typing-extensions/\u001b[0m\n",
      "\u001b[33mWARNING: Retrying (Retry(total=0, connect=None, read=None, redirect=None, status=None)) after connection broken by 'SSLError(\"Can't connect to HTTPS URL because the SSL module is not available.\")': /simple/typing-extensions/\u001b[0m\n",
      "Could not fetch URL https://pypi.org/simple/typing-extensions/: There was a problem confirming the ssl certificate: HTTPSConnectionPool(host='pypi.org', port=443): Max retries exceeded with url: /simple/typing-extensions/ (Caused by SSLError(\"Can't connect to HTTPS URL because the SSL module is not available.\")) - skipping\n",
      "\u001b[33mWARNING: Retrying (Retry(total=4, connect=None, read=None, redirect=None, status=None)) after connection broken by 'SSLError(\"Can't connect to HTTPS URL because the SSL module is not available.\")': /simple/tensorflow/\u001b[0m\n",
      "\u001b[33mWARNING: Retrying (Retry(total=3, connect=None, read=None, redirect=None, status=None)) after connection broken by 'SSLError(\"Can't connect to HTTPS URL because the SSL module is not available.\")': /simple/tensorflow/\u001b[0m\n",
      "\u001b[33mWARNING: Retrying (Retry(total=2, connect=None, read=None, redirect=None, status=None)) after connection broken by 'SSLError(\"Can't connect to HTTPS URL because the SSL module is not available.\")': /simple/tensorflow/\u001b[0m\n",
      "\u001b[33mWARNING: Retrying (Retry(total=1, connect=None, read=None, redirect=None, status=None)) after connection broken by 'SSLError(\"Can't connect to HTTPS URL because the SSL module is not available.\")': /simple/tensorflow/\u001b[0m\n",
      "\u001b[33mWARNING: Retrying (Retry(total=0, connect=None, read=None, redirect=None, status=None)) after connection broken by 'SSLError(\"Can't connect to HTTPS URL because the SSL module is not available.\")': /simple/tensorflow/\u001b[0m\n",
      "Could not fetch URL https://pypi.org/simple/tensorflow/: There was a problem confirming the ssl certificate: HTTPSConnectionPool(host='pypi.org', port=443): Max retries exceeded with url: /simple/tensorflow/ (Caused by SSLError(\"Can't connect to HTTPS URL because the SSL module is not available.\")) - skipping\n",
      "\u001b[31mERROR: Could not find a version that satisfies the requirement typing-extensions~=3.7.4 (from tensorflow) (from versions: none)\u001b[0m\n",
      "\u001b[31mERROR: No matching distribution found for typing-extensions~=3.7.4\u001b[0m\n"
     ]
    }
   ],
   "source": [
    "import numpy as np\n",
    "import matplotlib.pyplot as plt\n",
    "import pandas as pd \n",
    "import seaborn as sns\n",
    "import warnings\n",
    "from sklearn.linear_model import LogisticRegression \n",
    "from sklearn.ensemble import RandomForestClassifier\n",
    "from sklearn.tree import DecisionTreeClassifier\n",
    "from sklearn.naive_bayes import GaussianNB\n",
    "from sklearn.neighbors import KNeighborsClassifier\n",
    "from sklearn.svm import SVC\n",
    "from sklearn.model_selection import cross_val_score \n",
    "\n",
    "from sklearn.svm import SVC\n",
    "from sklearn.metrics import confusion_matrix, accuracy_score, classification_report, plot_roc_curve, f1_score\n",
    "warnings.filterwarnings('ignore')\n",
    "from sklearn.model_selection import GridSearchCV\n",
    "# import sys\n",
    "# np.set_printoptions(threshold=sys.maxsize)\n",
    "!pip install catboost\n",
    "!pip install imblearn\n",
    "!pip install tensorflow\n",
    "from xgboost import XGBClassifier\n",
    "from catboost import CatBoostClassifier\n"
   ]
  },
  {
   "cell_type": "markdown",
   "metadata": {
    "id": "W2N1r8vYed9H"
   },
   "source": [
    "# Importing the dataset"
   ]
  },
  {
   "cell_type": "code",
   "execution_count": 2,
   "metadata": {
    "id": "wlyacMCYekIX"
   },
   "outputs": [],
   "source": [
    "dataset = pd.read_csv('data.csv')\n"
   ]
  },
  {
   "cell_type": "markdown",
   "metadata": {
    "id": "r_GIsnS1J_4U"
   },
   "source": [
    "# Data exploataion "
   ]
  },
  {
   "cell_type": "markdown",
   "metadata": {
    "id": "tOifXFo5srqT"
   },
   "source": [
    " **Understanding the data**\n"
   ]
  },
  {
   "cell_type": "markdown",
   "metadata": {
    "id": "8Qe74pLjEACl"
   },
   "source": [
    " Process of analysing data to better understand it; it can also be used to prepare data for pre processing modelling. "
   ]
  },
  {
   "cell_type": "code",
   "execution_count": 3,
   "metadata": {
    "colab": {
     "base_uri": "https://localhost:8080/",
     "height": 258
    },
    "id": "2baBXqqJqIwk",
    "outputId": "589a3f95-ddb5-4b57-f340-736f693b5cb8"
   },
   "outputs": [
    {
     "data": {
      "text/html": [
       "<div>\n",
       "<style scoped>\n",
       "    .dataframe tbody tr th:only-of-type {\n",
       "        vertical-align: middle;\n",
       "    }\n",
       "\n",
       "    .dataframe tbody tr th {\n",
       "        vertical-align: top;\n",
       "    }\n",
       "\n",
       "    .dataframe thead th {\n",
       "        text-align: right;\n",
       "    }\n",
       "</style>\n",
       "<table border=\"1\" class=\"dataframe\">\n",
       "  <thead>\n",
       "    <tr style=\"text-align: right;\">\n",
       "      <th></th>\n",
       "      <th>id</th>\n",
       "      <th>gender</th>\n",
       "      <th>age</th>\n",
       "      <th>hypertension</th>\n",
       "      <th>heart_disease</th>\n",
       "      <th>ever_married</th>\n",
       "      <th>work_type</th>\n",
       "      <th>Residence_type</th>\n",
       "      <th>avg_glucose_level</th>\n",
       "      <th>bmi</th>\n",
       "      <th>smoking_status</th>\n",
       "      <th>stroke</th>\n",
       "    </tr>\n",
       "  </thead>\n",
       "  <tbody>\n",
       "    <tr>\n",
       "      <th>0</th>\n",
       "      <td>9046</td>\n",
       "      <td>Male</td>\n",
       "      <td>67.0</td>\n",
       "      <td>0</td>\n",
       "      <td>1</td>\n",
       "      <td>Yes</td>\n",
       "      <td>Private</td>\n",
       "      <td>Urban</td>\n",
       "      <td>228.69</td>\n",
       "      <td>36.6</td>\n",
       "      <td>formerly smoked</td>\n",
       "      <td>1</td>\n",
       "    </tr>\n",
       "    <tr>\n",
       "      <th>1</th>\n",
       "      <td>51676</td>\n",
       "      <td>Female</td>\n",
       "      <td>61.0</td>\n",
       "      <td>0</td>\n",
       "      <td>0</td>\n",
       "      <td>Yes</td>\n",
       "      <td>Self-employed</td>\n",
       "      <td>Rural</td>\n",
       "      <td>202.21</td>\n",
       "      <td>NaN</td>\n",
       "      <td>never smoked</td>\n",
       "      <td>1</td>\n",
       "    </tr>\n",
       "    <tr>\n",
       "      <th>2</th>\n",
       "      <td>31112</td>\n",
       "      <td>Male</td>\n",
       "      <td>80.0</td>\n",
       "      <td>0</td>\n",
       "      <td>1</td>\n",
       "      <td>Yes</td>\n",
       "      <td>Private</td>\n",
       "      <td>Rural</td>\n",
       "      <td>105.92</td>\n",
       "      <td>32.5</td>\n",
       "      <td>never smoked</td>\n",
       "      <td>1</td>\n",
       "    </tr>\n",
       "    <tr>\n",
       "      <th>3</th>\n",
       "      <td>60182</td>\n",
       "      <td>Female</td>\n",
       "      <td>49.0</td>\n",
       "      <td>0</td>\n",
       "      <td>0</td>\n",
       "      <td>Yes</td>\n",
       "      <td>Private</td>\n",
       "      <td>Urban</td>\n",
       "      <td>171.23</td>\n",
       "      <td>34.4</td>\n",
       "      <td>smokes</td>\n",
       "      <td>1</td>\n",
       "    </tr>\n",
       "    <tr>\n",
       "      <th>4</th>\n",
       "      <td>1665</td>\n",
       "      <td>Female</td>\n",
       "      <td>79.0</td>\n",
       "      <td>1</td>\n",
       "      <td>0</td>\n",
       "      <td>Yes</td>\n",
       "      <td>Self-employed</td>\n",
       "      <td>Rural</td>\n",
       "      <td>174.12</td>\n",
       "      <td>24.0</td>\n",
       "      <td>never smoked</td>\n",
       "      <td>1</td>\n",
       "    </tr>\n",
       "  </tbody>\n",
       "</table>\n",
       "</div>"
      ],
      "text/plain": [
       "      id  gender   age  hypertension  heart_disease ever_married  \\\n",
       "0   9046    Male  67.0             0              1          Yes   \n",
       "1  51676  Female  61.0             0              0          Yes   \n",
       "2  31112    Male  80.0             0              1          Yes   \n",
       "3  60182  Female  49.0             0              0          Yes   \n",
       "4   1665  Female  79.0             1              0          Yes   \n",
       "\n",
       "       work_type Residence_type  avg_glucose_level   bmi   smoking_status  \\\n",
       "0        Private          Urban             228.69  36.6  formerly smoked   \n",
       "1  Self-employed          Rural             202.21   NaN     never smoked   \n",
       "2        Private          Rural             105.92  32.5     never smoked   \n",
       "3        Private          Urban             171.23  34.4           smokes   \n",
       "4  Self-employed          Rural             174.12  24.0     never smoked   \n",
       "\n",
       "   stroke  \n",
       "0       1  \n",
       "1       1  \n",
       "2       1  \n",
       "3       1  \n",
       "4       1  "
      ]
     },
     "execution_count": 3,
     "metadata": {},
     "output_type": "execute_result"
    }
   ],
   "source": [
    "dataset.head()\n",
    "#check the first 5 row of the data "
   ]
  },
  {
   "cell_type": "code",
   "execution_count": 4,
   "metadata": {
    "colab": {
     "base_uri": "https://localhost:8080/"
    },
    "id": "dskQskK_XMnb",
    "outputId": "7b4deaaf-3c07-4048-db3d-bfce2c4e1649"
   },
   "outputs": [
    {
     "data": {
      "text/plain": [
       "id                     int64\n",
       "gender                object\n",
       "age                  float64\n",
       "hypertension           int64\n",
       "heart_disease          int64\n",
       "ever_married          object\n",
       "work_type             object\n",
       "Residence_type        object\n",
       "avg_glucose_level    float64\n",
       "bmi                  float64\n",
       "smoking_status        object\n",
       "stroke                 int64\n",
       "dtype: object"
      ]
     },
     "execution_count": 4,
     "metadata": {},
     "output_type": "execute_result"
    }
   ],
   "source": [
    "#check the type of data in th columns\n",
    "dataset.dtypes\n"
   ]
  },
  {
   "cell_type": "code",
   "execution_count": 5,
   "metadata": {
    "colab": {
     "base_uri": "https://localhost:8080/"
    },
    "id": "oZy4Zsk0yrYM",
    "outputId": "6e8eb342-b7e1-4f55-b319-73e1e9a8871f"
   },
   "outputs": [
    {
     "data": {
      "text/plain": [
       "(5110, 12)"
      ]
     },
     "execution_count": 5,
     "metadata": {},
     "output_type": "execute_result"
    }
   ],
   "source": [
    "dataset.shape\n",
    "# this return the number of rows and columns  in the dataset "
   ]
  },
  {
   "cell_type": "code",
   "execution_count": 6,
   "metadata": {
    "colab": {
     "base_uri": "https://localhost:8080/",
     "height": 317
    },
    "id": "3W1gA_PfKHg2",
    "outputId": "da61fa85-778b-40d2-dc27-60ccb50d24f1"
   },
   "outputs": [
    {
     "data": {
      "text/html": [
       "<div>\n",
       "<style scoped>\n",
       "    .dataframe tbody tr th:only-of-type {\n",
       "        vertical-align: middle;\n",
       "    }\n",
       "\n",
       "    .dataframe tbody tr th {\n",
       "        vertical-align: top;\n",
       "    }\n",
       "\n",
       "    .dataframe thead th {\n",
       "        text-align: right;\n",
       "    }\n",
       "</style>\n",
       "<table border=\"1\" class=\"dataframe\">\n",
       "  <thead>\n",
       "    <tr style=\"text-align: right;\">\n",
       "      <th></th>\n",
       "      <th>id</th>\n",
       "      <th>age</th>\n",
       "      <th>hypertension</th>\n",
       "      <th>heart_disease</th>\n",
       "      <th>avg_glucose_level</th>\n",
       "      <th>bmi</th>\n",
       "      <th>stroke</th>\n",
       "    </tr>\n",
       "  </thead>\n",
       "  <tbody>\n",
       "    <tr>\n",
       "      <th>count</th>\n",
       "      <td>5110.000000</td>\n",
       "      <td>5110.000000</td>\n",
       "      <td>5110.000000</td>\n",
       "      <td>5110.000000</td>\n",
       "      <td>5110.000000</td>\n",
       "      <td>4909.000000</td>\n",
       "      <td>5110.000000</td>\n",
       "    </tr>\n",
       "    <tr>\n",
       "      <th>mean</th>\n",
       "      <td>36517.829354</td>\n",
       "      <td>43.226614</td>\n",
       "      <td>0.097456</td>\n",
       "      <td>0.054012</td>\n",
       "      <td>106.147677</td>\n",
       "      <td>28.893237</td>\n",
       "      <td>0.048728</td>\n",
       "    </tr>\n",
       "    <tr>\n",
       "      <th>std</th>\n",
       "      <td>21161.721625</td>\n",
       "      <td>22.612647</td>\n",
       "      <td>0.296607</td>\n",
       "      <td>0.226063</td>\n",
       "      <td>45.283560</td>\n",
       "      <td>7.854067</td>\n",
       "      <td>0.215320</td>\n",
       "    </tr>\n",
       "    <tr>\n",
       "      <th>min</th>\n",
       "      <td>67.000000</td>\n",
       "      <td>0.080000</td>\n",
       "      <td>0.000000</td>\n",
       "      <td>0.000000</td>\n",
       "      <td>55.120000</td>\n",
       "      <td>10.300000</td>\n",
       "      <td>0.000000</td>\n",
       "    </tr>\n",
       "    <tr>\n",
       "      <th>25%</th>\n",
       "      <td>17741.250000</td>\n",
       "      <td>25.000000</td>\n",
       "      <td>0.000000</td>\n",
       "      <td>0.000000</td>\n",
       "      <td>77.245000</td>\n",
       "      <td>23.500000</td>\n",
       "      <td>0.000000</td>\n",
       "    </tr>\n",
       "    <tr>\n",
       "      <th>50%</th>\n",
       "      <td>36932.000000</td>\n",
       "      <td>45.000000</td>\n",
       "      <td>0.000000</td>\n",
       "      <td>0.000000</td>\n",
       "      <td>91.885000</td>\n",
       "      <td>28.100000</td>\n",
       "      <td>0.000000</td>\n",
       "    </tr>\n",
       "    <tr>\n",
       "      <th>75%</th>\n",
       "      <td>54682.000000</td>\n",
       "      <td>61.000000</td>\n",
       "      <td>0.000000</td>\n",
       "      <td>0.000000</td>\n",
       "      <td>114.090000</td>\n",
       "      <td>33.100000</td>\n",
       "      <td>0.000000</td>\n",
       "    </tr>\n",
       "    <tr>\n",
       "      <th>max</th>\n",
       "      <td>72940.000000</td>\n",
       "      <td>82.000000</td>\n",
       "      <td>1.000000</td>\n",
       "      <td>1.000000</td>\n",
       "      <td>271.740000</td>\n",
       "      <td>97.600000</td>\n",
       "      <td>1.000000</td>\n",
       "    </tr>\n",
       "  </tbody>\n",
       "</table>\n",
       "</div>"
      ],
      "text/plain": [
       "                 id          age  hypertension  heart_disease  \\\n",
       "count   5110.000000  5110.000000   5110.000000    5110.000000   \n",
       "mean   36517.829354    43.226614      0.097456       0.054012   \n",
       "std    21161.721625    22.612647      0.296607       0.226063   \n",
       "min       67.000000     0.080000      0.000000       0.000000   \n",
       "25%    17741.250000    25.000000      0.000000       0.000000   \n",
       "50%    36932.000000    45.000000      0.000000       0.000000   \n",
       "75%    54682.000000    61.000000      0.000000       0.000000   \n",
       "max    72940.000000    82.000000      1.000000       1.000000   \n",
       "\n",
       "       avg_glucose_level          bmi       stroke  \n",
       "count        5110.000000  4909.000000  5110.000000  \n",
       "mean          106.147677    28.893237     0.048728  \n",
       "std            45.283560     7.854067     0.215320  \n",
       "min            55.120000    10.300000     0.000000  \n",
       "25%            77.245000    23.500000     0.000000  \n",
       "50%            91.885000    28.100000     0.000000  \n",
       "75%           114.090000    33.100000     0.000000  \n",
       "max           271.740000    97.600000     1.000000  "
      ]
     },
     "execution_count": 6,
     "metadata": {},
     "output_type": "execute_result"
    }
   ],
   "source": [
    "dataset.describe()\n",
    "#this functuon will return count, mean, standard deviation, minimum and maximum values and the quantiles of the data of the numerical values "
   ]
  },
  {
   "cell_type": "markdown",
   "metadata": {
    "id": "tKNK6NQP4QiB"
   },
   "source": [
    " **checking all unique values**"
   ]
  },
  {
   "cell_type": "code",
   "execution_count": 7,
   "metadata": {
    "colab": {
     "base_uri": "https://localhost:8080/"
    },
    "id": "titoDzJs3Etb",
    "outputId": "10c852e1-c7c0-4594-f4a1-3d83aeac8570"
   },
   "outputs": [
    {
     "data": {
      "text/plain": [
       "id                   5110\n",
       "gender                  3\n",
       "age                   104\n",
       "hypertension            2\n",
       "heart_disease           2\n",
       "ever_married            2\n",
       "work_type               5\n",
       "Residence_type          2\n",
       "avg_glucose_level    3979\n",
       "bmi                   418\n",
       "smoking_status          4\n",
       "stroke                  2\n",
       "dtype: int64"
      ]
     },
     "execution_count": 7,
     "metadata": {},
     "output_type": "execute_result"
    }
   ],
   "source": [
    "dataset.nunique()"
   ]
  },
  {
   "cell_type": "markdown",
   "metadata": {
    "id": "9nnFgNMkgkBV"
   },
   "source": [
    "**Checking outliers**\n",
    "From the output above i can tell that bmi and avg_glucose_level have a large number of uniqure values  value. thise feature will be needed to check for outliers` "
   ]
  },
  {
   "cell_type": "code",
   "execution_count": 8,
   "metadata": {
    "colab": {
     "base_uri": "https://localhost:8080/",
     "height": 88
    },
    "id": "REIo9uOCgjYt",
    "outputId": "97a2461a-b283-4772-ce32-a0fefbfdcc67"
   },
   "outputs": [
    {
     "data": {
      "text/plain": [
       "<seaborn.axisgrid.FacetGrid at 0x7f9e708ef190>"
      ]
     },
     "execution_count": 8,
     "metadata": {},
     "output_type": "execute_result"
    },
    {
     "data": {
      "image/png": "[encoded data removed]",
      "text/plain": [
       "<Figure size 432x288 with 1 Axes>"
      ]
     },
     "metadata": {
      "needs_background": "light"
     },
     "output_type": "display_data"
    },
    {
     "data": {
      "image/png": "[encoded data removed]",
      "text/plain": [
       "<Figure size 360x360 with 1 Axes>"
      ]
     },
     "metadata": {
      "needs_background": "light"
     },
     "output_type": "display_data"
    }
   ],
   "source": [
    "\n",
    "# Box plot\n",
    "sns.boxplot(dataset.avg_glucose_level)\n",
    "\n",
    "# Distribution plot\n",
    "sns.displot(dataset.avg_glucose_level)"
   ]
  },
  {
   "cell_type": "markdown",
   "metadata": {
    "id": "Wy_VkB3b0Wws"
   },
   "source": [
    "**Investigate into Age, Average Glucose Level, BMI**\n",
    "\n",
    "\n",
    "Further investigate into Age, Average Glucose Level, BMI to spot for any corelation"
   ]
  },
  {
   "cell_type": "code",
   "execution_count": 9,
   "metadata": {
    "colab": {
     "base_uri": "https://localhost:8080/",
     "height": 54
    },
    "id": "gQcoAlxW03Gs",
    "outputId": "42725ff5-e1cd-4929-c8a8-b457f40ae50a"
   },
   "outputs": [
    {
     "data": {
      "image/png": "[encoded data removed]",
      "text/plain": [
       "<Figure size 1512x360 with 3 Axes>"
      ]
     },
     "metadata": {},
     "output_type": "display_data"
    }
   ],
   "source": [
    "\n",
    "sns.set_style('dark')\n",
    "\n",
    "plt.figure(figsize=(21,5))\n",
    "\n",
    "plt.subplot(1,3,1)\n",
    "sns.kdeplot(x='age', alpha=0.2, palette=\"Set1\", label='Smoker', data =dataset, fill=True, linewidth=1.5, hue='stroke');\n",
    "sns.despine(fig=None, ax=None, top=True, right=True, left=True, bottom=True, offset=None, trim=False);\n",
    "plt.xlabel('');\n",
    "plt.title('Age Distribution');\n",
    "\n",
    "plt.subplot(1,3,2)\n",
    "sns.kdeplot(x=dataset['avg_glucose_level'], alpha=0.2, palette=\"Set1\", label='avg_glucose_level',linewidth=1.5, fill=True, hue=dataset['stroke']);\n",
    "sns.despine(fig=None, ax=None, top=True, right=True, left=True, bottom=True, offset=None, trim=False);\n",
    "plt.xlabel('');\n",
    "plt.title('Average Glucose Level');\n",
    "\n",
    "plt.subplot(1,3,3)\n",
    "sns.kdeplot(x='bmi', alpha=0.2, palette=\"Set1\", label='BMI',data = dataset, shade=True, linewidth=1.5, fill=True, hue='stroke');\n",
    "sns.despine(fig=None, ax=None, top=True, right=True, left=False, bottom=True, offset=None, trim=False);\n",
    "plt.xlabel('');\n",
    "plt.title('BMI');"
   ]
  },
  {
   "cell_type": "markdown",
   "metadata": {
    "id": "MByPB3r59t7C"
   },
   "source": [
    "## Cleaning the data"
   ]
  },
  {
   "cell_type": "markdown",
   "metadata": {
    "id": "STHwtXEr4bEF"
   },
   "source": [
    "**checking for null value**"
   ]
  },
  {
   "cell_type": "code",
   "execution_count": 10,
   "metadata": {
    "colab": {
     "base_uri": "https://localhost:8080/"
    },
    "id": "Xelr2_AJ4auk",
    "outputId": "03395184-19f5-4b83-98f4-f7d24985f9cc"
   },
   "outputs": [
    {
     "data": {
      "text/plain": [
       "id                     0\n",
       "gender                 0\n",
       "age                    0\n",
       "hypertension           0\n",
       "heart_disease          0\n",
       "ever_married           0\n",
       "work_type              0\n",
       "Residence_type         0\n",
       "avg_glucose_level      0\n",
       "bmi                  201\n",
       "smoking_status         0\n",
       "stroke                 0\n",
       "dtype: int64"
      ]
     },
     "execution_count": 10,
     "metadata": {},
     "output_type": "execute_result"
    }
   ],
   "source": [
    "dataset.isnull().sum()\n",
    "#this function will retun columns and it null sum od it null value  "
   ]
  },
  {
   "cell_type": "code",
   "execution_count": 11,
   "metadata": {
    "colab": {
     "base_uri": "https://localhost:8080/"
    },
    "id": "o_bC6De4Gphs",
    "outputId": "1c0ce9c4-efb6-4a3b-ca62-8dc55533f4ba"
   },
   "outputs": [
    {
     "data": {
      "text/plain": [
       "5110"
      ]
     },
     "execution_count": 11,
     "metadata": {},
     "output_type": "execute_result"
    }
   ],
   "source": [
    "len(dataset.bmi)"
   ]
  },
  {
   "cell_type": "markdown",
   "metadata": {
    "id": "uvZ0Udu-9244"
   },
   "source": [
    "**Cleaning the data**"
   ]
  },
  {
   "cell_type": "code",
   "execution_count": 12,
   "metadata": {
    "id": "TGO2-9h292cM"
   },
   "outputs": [],
   "source": [
    "#dro all bmi rows with null values\n",
    "dataset = dataset.dropna()\n"
   ]
  },
  {
   "cell_type": "code",
   "execution_count": 13,
   "metadata": {
    "colab": {
     "base_uri": "https://localhost:8080/",
     "height": 558
    },
    "id": "kHqb9fCl_YLs",
    "outputId": "922f0a5e-91b1-4fc7-854b-d490597b73af"
   },
   "outputs": [
    {
     "data": {
      "text/html": [
       "<div>\n",
       "<style scoped>\n",
       "    .dataframe tbody tr th:only-of-type {\n",
       "        vertical-align: middle;\n",
       "    }\n",
       "\n",
       "    .dataframe tbody tr th {\n",
       "        vertical-align: top;\n",
       "    }\n",
       "\n",
       "    .dataframe thead th {\n",
       "        text-align: right;\n",
       "    }\n",
       "</style>\n",
       "<table border=\"1\" class=\"dataframe\">\n",
       "  <thead>\n",
       "    <tr style=\"text-align: right;\">\n",
       "      <th></th>\n",
       "      <th>gender</th>\n",
       "      <th>age</th>\n",
       "      <th>hypertension</th>\n",
       "      <th>heart_disease</th>\n",
       "      <th>ever_married</th>\n",
       "      <th>work_type</th>\n",
       "      <th>Residence_type</th>\n",
       "      <th>avg_glucose_level</th>\n",
       "      <th>bmi</th>\n",
       "      <th>smoking_status</th>\n",
       "      <th>stroke</th>\n",
       "    </tr>\n",
       "  </thead>\n",
       "  <tbody>\n",
       "    <tr>\n",
       "      <th>0</th>\n",
       "      <td>Male</td>\n",
       "      <td>67</td>\n",
       "      <td>0</td>\n",
       "      <td>1</td>\n",
       "      <td>Yes</td>\n",
       "      <td>Private</td>\n",
       "      <td>Urban</td>\n",
       "      <td>228.69</td>\n",
       "      <td>36.6</td>\n",
       "      <td>formerly smoked</td>\n",
       "      <td>1</td>\n",
       "    </tr>\n",
       "    <tr>\n",
       "      <th>2</th>\n",
       "      <td>Male</td>\n",
       "      <td>80</td>\n",
       "      <td>0</td>\n",
       "      <td>1</td>\n",
       "      <td>Yes</td>\n",
       "      <td>Private</td>\n",
       "      <td>Rural</td>\n",
       "      <td>105.92</td>\n",
       "      <td>32.5</td>\n",
       "      <td>never smoked</td>\n",
       "      <td>1</td>\n",
       "    </tr>\n",
       "    <tr>\n",
       "      <th>3</th>\n",
       "      <td>Female</td>\n",
       "      <td>49</td>\n",
       "      <td>0</td>\n",
       "      <td>0</td>\n",
       "      <td>Yes</td>\n",
       "      <td>Private</td>\n",
       "      <td>Urban</td>\n",
       "      <td>171.23</td>\n",
       "      <td>34.4</td>\n",
       "      <td>smokes</td>\n",
       "      <td>1</td>\n",
       "    </tr>\n",
       "    <tr>\n",
       "      <th>4</th>\n",
       "      <td>Female</td>\n",
       "      <td>79</td>\n",
       "      <td>1</td>\n",
       "      <td>0</td>\n",
       "      <td>Yes</td>\n",
       "      <td>Self-employed</td>\n",
       "      <td>Rural</td>\n",
       "      <td>174.12</td>\n",
       "      <td>24.0</td>\n",
       "      <td>never smoked</td>\n",
       "      <td>1</td>\n",
       "    </tr>\n",
       "    <tr>\n",
       "      <th>5</th>\n",
       "      <td>Male</td>\n",
       "      <td>81</td>\n",
       "      <td>0</td>\n",
       "      <td>0</td>\n",
       "      <td>Yes</td>\n",
       "      <td>Private</td>\n",
       "      <td>Urban</td>\n",
       "      <td>186.21</td>\n",
       "      <td>29.0</td>\n",
       "      <td>formerly smoked</td>\n",
       "      <td>1</td>\n",
       "    </tr>\n",
       "    <tr>\n",
       "      <th>...</th>\n",
       "      <td>...</td>\n",
       "      <td>...</td>\n",
       "      <td>...</td>\n",
       "      <td>...</td>\n",
       "      <td>...</td>\n",
       "      <td>...</td>\n",
       "      <td>...</td>\n",
       "      <td>...</td>\n",
       "      <td>...</td>\n",
       "      <td>...</td>\n",
       "      <td>...</td>\n",
       "    </tr>\n",
       "    <tr>\n",
       "      <th>5104</th>\n",
       "      <td>Female</td>\n",
       "      <td>13</td>\n",
       "      <td>0</td>\n",
       "      <td>0</td>\n",
       "      <td>No</td>\n",
       "      <td>children</td>\n",
       "      <td>Rural</td>\n",
       "      <td>103.08</td>\n",
       "      <td>18.6</td>\n",
       "      <td>Unknown</td>\n",
       "      <td>0</td>\n",
       "    </tr>\n",
       "    <tr>\n",
       "      <th>5106</th>\n",
       "      <td>Female</td>\n",
       "      <td>81</td>\n",
       "      <td>0</td>\n",
       "      <td>0</td>\n",
       "      <td>Yes</td>\n",
       "      <td>Self-employed</td>\n",
       "      <td>Urban</td>\n",
       "      <td>125.20</td>\n",
       "      <td>40.0</td>\n",
       "      <td>never smoked</td>\n",
       "      <td>0</td>\n",
       "    </tr>\n",
       "    <tr>\n",
       "      <th>5107</th>\n",
       "      <td>Female</td>\n",
       "      <td>35</td>\n",
       "      <td>0</td>\n",
       "      <td>0</td>\n",
       "      <td>Yes</td>\n",
       "      <td>Self-employed</td>\n",
       "      <td>Rural</td>\n",
       "      <td>82.99</td>\n",
       "      <td>30.6</td>\n",
       "      <td>never smoked</td>\n",
       "      <td>0</td>\n",
       "    </tr>\n",
       "    <tr>\n",
       "      <th>5108</th>\n",
       "      <td>Male</td>\n",
       "      <td>51</td>\n",
       "      <td>0</td>\n",
       "      <td>0</td>\n",
       "      <td>Yes</td>\n",
       "      <td>Private</td>\n",
       "      <td>Rural</td>\n",
       "      <td>166.29</td>\n",
       "      <td>25.6</td>\n",
       "      <td>formerly smoked</td>\n",
       "      <td>0</td>\n",
       "    </tr>\n",
       "    <tr>\n",
       "      <th>5109</th>\n",
       "      <td>Female</td>\n",
       "      <td>44</td>\n",
       "      <td>0</td>\n",
       "      <td>0</td>\n",
       "      <td>Yes</td>\n",
       "      <td>Govt_job</td>\n",
       "      <td>Urban</td>\n",
       "      <td>85.28</td>\n",
       "      <td>26.2</td>\n",
       "      <td>Unknown</td>\n",
       "      <td>0</td>\n",
       "    </tr>\n",
       "  </tbody>\n",
       "</table>\n",
       "<p>4908 rows × 11 columns</p>\n",
       "</div>"
      ],
      "text/plain": [
       "      gender  age  hypertension  heart_disease ever_married      work_type  \\\n",
       "0       Male   67             0              1          Yes        Private   \n",
       "2       Male   80             0              1          Yes        Private   \n",
       "3     Female   49             0              0          Yes        Private   \n",
       "4     Female   79             1              0          Yes  Self-employed   \n",
       "5       Male   81             0              0          Yes        Private   \n",
       "...      ...  ...           ...            ...          ...            ...   \n",
       "5104  Female   13             0              0           No       children   \n",
       "5106  Female   81             0              0          Yes  Self-employed   \n",
       "5107  Female   35             0              0          Yes  Self-employed   \n",
       "5108    Male   51             0              0          Yes        Private   \n",
       "5109  Female   44             0              0          Yes       Govt_job   \n",
       "\n",
       "     Residence_type  avg_glucose_level   bmi   smoking_status  stroke  \n",
       "0             Urban             228.69  36.6  formerly smoked       1  \n",
       "2             Rural             105.92  32.5     never smoked       1  \n",
       "3             Urban             171.23  34.4           smokes       1  \n",
       "4             Rural             174.12  24.0     never smoked       1  \n",
       "5             Urban             186.21  29.0  formerly smoked       1  \n",
       "...             ...                ...   ...              ...     ...  \n",
       "5104          Rural             103.08  18.6          Unknown       0  \n",
       "5106          Urban             125.20  40.0     never smoked       0  \n",
       "5107          Rural              82.99  30.6     never smoked       0  \n",
       "5108          Rural             166.29  25.6  formerly smoked       0  \n",
       "5109          Urban              85.28  26.2          Unknown       0  \n",
       "\n",
       "[4908 rows x 11 columns]"
      ]
     },
     "execution_count": 13,
     "metadata": {},
     "output_type": "execute_result"
    }
   ],
   "source": [
    "#drop the id colums \n",
    "dataset = dataset.drop('id', axis=1)\n",
    "#drop the other in the gender \n",
    "dataset.drop(dataset.loc[dataset['gender']=='Other'].index, inplace=True)\n",
    "dataset.age = dataset.age.round().astype('int')\n",
    "dataset"
   ]
  },
  {
   "cell_type": "markdown",
   "metadata": {
    "id": "wTP4IU6_GlrY"
   },
   "source": [
    "## Relationship analysis"
   ]
  },
  {
   "cell_type": "code",
   "execution_count": 14,
   "metadata": {
    "colab": {
     "base_uri": "https://localhost:8080/",
     "height": 71
    },
    "id": "NVpem5O5HdX_",
    "outputId": "2bf2472c-2818-49ed-f285-6a3d3e2ec069"
   },
   "outputs": [
    {
     "data": {
      "text/plain": [
       "<AxesSubplot:>"
      ]
     },
     "execution_count": 14,
     "metadata": {},
     "output_type": "execute_result"
    },
    {
     "data": {
      "image/png": "[encoded data removed]",
      "text/plain": [
       "<Figure size 432x288 with 2 Axes>"
      ]
     },
     "metadata": {},
     "output_type": "display_data"
    }
   ],
   "source": [
    "corre = dataset.corr()\n",
    "#heatmaap aloww visualisation that uses color to show how a value of interest changes depending on the values of two other variables.\n",
    "sns.heatmap(corre, xticklabels=corre.columns, yticklabels=corre.columns,annot=True)"
   ]
  },
  {
   "cell_type": "markdown",
   "metadata": {
    "id": "1cMl0wKdwx0J"
   },
   "source": [
    " **Visualising features**\n",
    " \n",
    " Start making some assumptions \n",
    "\n",
    "1.   Choice of residence, work, type, and glucose level can have effect possibility of one getting stroke  \n",
    "2.    Gender, hypertension and any history of heart diseases effect the stroke probability¶\n",
    "\n"
   ]
  },
  {
   "cell_type": "code",
   "execution_count": 15,
   "metadata": {
    "colab": {
     "base_uri": "https://localhost:8080/",
     "height": 54
    },
    "id": "oGHvesv7y7rY",
    "outputId": "972dc6a8-0a95-456c-eac7-ecec321b71ee"
   },
   "outputs": [
    {
     "data": {
      "image/png": "[encoded data removed]",
      "text/plain": [
       "<Figure size 1512x360 with 3 Axes>"
      ]
     },
     "metadata": {},
     "output_type": "display_data"
    }
   ],
   "source": [
    "#1 Choice of residence, work, type, and glucose level can have effect possibility of one getting stroke\n",
    "\n",
    "plt.figure(figsize=(21,5))\n",
    "\n",
    "plt.subplot(1,3,1)\n",
    "sns.countplot(x='smoking_status', alpha=0.8, palette=\"Paired\",hue='stroke', data = dataset );\n",
    "sns.despine(fig=None, ax=None, top=True, right=True, left=False, bottom=True, offset=None, trim=False);\n",
    "plt.xlabel('');\n",
    "plt.title('Smoking Status');\n",
    "\n",
    "plt.subplot(1,3,2)\n",
    "sns.countplot(x='work_type', alpha=0.8, palette=\"Paired\", hue='stroke',data = dataset);\n",
    "sns.despine(fig=None, ax=None, top=True, right=True, left=False, bottom=True, offset=None, trim=False);\n",
    "plt.xlabel('');\n",
    "plt.title('Work Type');\n",
    "\n",
    "plt.subplot(1,3,3)\n",
    "sns.countplot(x='Residence_type', alpha=0.8, palette=\"Paired\", hue='stroke',data = dataset);\n",
    "sns.despine(fig=None, ax=None, top=True, right=True, left=False, bottom=True, offset=None, trim=False);\n",
    "plt.xlabel('');\n",
    "plt.title('Residence Type');\n",
    "\n"
   ]
  },
  {
   "cell_type": "code",
   "execution_count": 16,
   "metadata": {
    "colab": {
     "base_uri": "https://localhost:8080/",
     "height": 54
    },
    "id": "mIk4nqFD5irR",
    "outputId": "db780394-5802-40c4-ed62-619670c48c96"
   },
   "outputs": [
    {
     "data": {
      "image/png": "[encoded data removed]",
      "text/plain": [
       "<Figure size 1512x360 with 3 Axes>"
      ]
     },
     "metadata": {},
     "output_type": "display_data"
    }
   ],
   "source": [
    "# 2 Gender, hypertension and any history of heart diseases effect the stroke probability¶\n",
    "plt.figure(figsize=(21,5))\n",
    "\n",
    "plt.subplot(1,3,1)\n",
    "sns.countplot(x='gender', alpha=0.8, palette=\"Paired\", hue='stroke',data = dataset);\n",
    "plt.tick_params(axis='both', which='both', bottom=False, left=True, right=False, top=False, labelbottom=True, labelleft=True);\n",
    "sns.despine(fig=None, ax=None, top=True, right=True, left=False, bottom=True, offset=None, trim=False);\n",
    "plt.xlabel('')\n",
    "plt.title('Gender, F/M : 59/41 %');\n",
    "\n",
    "plt.subplot(1,3,2)\n",
    "sns.countplot(x='hypertension', alpha=0.75, palette=\"Paired\", hue='stroke',data = dataset);\n",
    "sns.despine(fig=None, ax=None, top=True, right=True, left=False, bottom=True, offset=None, trim=False);\n",
    "plt.xlabel('');\n",
    "plt.title('Hypertension');\n",
    "\n",
    "plt.subplot(1,3,3)\n",
    "sns.countplot(x='heart_disease', alpha=0.75, palette=\"Paired\", hue='stroke',data = dataset);\n",
    "sns.despine(fig=None, ax=None, top=True, right=True, left=False, bottom=True, offset=None, trim=False);\n",
    "plt.xlabel('');\n",
    "plt.title('Heart Disease');"
   ]
  },
  {
   "cell_type": "markdown",
   "metadata": {
    "id": "hNWcbAR4A5m_"
   },
   "source": [
    "**check the ratio of the two to see the imbalances**"
   ]
  },
  {
   "cell_type": "code",
   "execution_count": 17,
   "metadata": {
    "colab": {
     "base_uri": "https://localhost:8080/"
    },
    "id": "pnkOtP49_vUc",
    "outputId": "d4471362-d737-44fc-c6af-eb444b20b140"
   },
   "outputs": [
    {
     "name": "stdout",
     "output_type": "stream",
     "text": [
      "Patient that dont stroke ratio: 0.04258353708231459\n",
      "Patient that have stroke ratio : 0.9574164629176855\n"
     ]
    },
    {
     "data": {
      "text/plain": [
       "0    4699\n",
       "1     209\n",
       "Name: stroke, dtype: int64"
      ]
     },
     "execution_count": 17,
     "metadata": {},
     "output_type": "execute_result"
    }
   ],
   "source": [
    "\n",
    "print(\"Patient that dont stroke ratio: \" + str(dataset.stroke.value_counts()[1]/len(dataset)))\n",
    "print(\"Patient that have stroke ratio : \" + str(dataset.stroke.value_counts()[0]/len(dataset)))\n",
    "dataset.stroke.value_counts()\n",
    "dataset.stroke.value_counts()"
   ]
  },
  {
   "cell_type": "markdown",
   "metadata": {
    "id": "_mmiah9tTUKa"
   },
   "source": [
    "Visualise age distribution \n"
   ]
  },
  {
   "cell_type": "code",
   "execution_count": 18,
   "metadata": {
    "colab": {
     "base_uri": "https://localhost:8080/",
     "height": 71
    },
    "id": "1vMBXbHcdiiL",
    "outputId": "cf9a4873-bee6-4c91-8c3f-106ec126f387"
   },
   "outputs": [
    {
     "data": {
      "text/plain": [
       "<Figure size 1512x360 with 0 Axes>"
      ]
     },
     "metadata": {},
     "output_type": "display_data"
    },
    {
     "data": {
      "image/png": "[encoded data removed]",
      "text/plain": [
       "<Figure size 360x360 with 1 Axes>"
      ]
     },
     "metadata": {},
     "output_type": "display_data"
    }
   ],
   "source": [
    "plt.figure(figsize=(21,5))\n",
    "sns.displot(dataset['age'], bins=max(dataset['age']),color='red', kde=False);"
   ]
  },
  {
   "cell_type": "markdown",
   "metadata": {
    "id": "OLdI9FlYgrHq"
   },
   "source": [
    "**Visualise age and stroke **\n",
    "this is need to check the ccorrelation betwen the row varibale \n"
   ]
  },
  {
   "cell_type": "code",
   "execution_count": 19,
   "metadata": {
    "colab": {
     "base_uri": "https://localhost:8080/",
     "height": 88
    },
    "id": "CmS4UljkgjUe",
    "outputId": "fae373dc-7c50-48fa-b70b-a9a9fa9aa6cc"
   },
   "outputs": [
    {
     "data": {
      "text/plain": [
       "<Figure size 720x360 with 0 Axes>"
      ]
     },
     "metadata": {},
     "output_type": "display_data"
    },
    {
     "data": {
      "image/png": "[encoded data removed]",
      "text/plain": [
       "<Figure size 360x360 with 1 Axes>"
      ]
     },
     "metadata": {},
     "output_type": "display_data"
    },
    {
     "data": {
      "image/png": "[encoded data removed]",
      "text/plain": [
       "<Figure size 360x360 with 1 Axes>"
      ]
     },
     "metadata": {},
     "output_type": "display_data"
    }
   ],
   "source": [
    "plt.figure(figsize=(10, 5))\n",
    "\n",
    "sns.displot(dataset[dataset['stroke'] == 0][\"age\"], bins=max(dataset['age']), color='red',kde=False)\n",
    "sns.displot(dataset[dataset['stroke'] == 1][\"age\"], bins=max(dataset['age']), color='blue', kde=False)\n",
    "\n",
    "plt.title('Age cpunt of Stroke Negative vs Stroke Positive Patient ', fontsize=15)\n",
    "plt.xlim([min(dataset['age']),max(dataset['age'])])\n",
    "plt.show()"
   ]
  },
  {
   "cell_type": "markdown",
   "metadata": {
    "id": "xldvKkjTeIzb"
   },
   "source": [
    "# Data Preprocessing "
   ]
  },
  {
   "cell_type": "markdown",
   "metadata": {
    "id": "I86tttDyuy1R"
   },
   "source": [
    "Slicing the dataset into dependent and independent variable"
   ]
  },
  {
   "cell_type": "code",
   "execution_count": 20,
   "metadata": {
    "id": "C4FCrMFcQQdg"
   },
   "outputs": [],
   "source": [
    "\n",
    "X = dataset.iloc[:, :-1].values\n",
    "y = dataset.iloc[:, -1].values "
   ]
  },
  {
   "cell_type": "markdown",
   "metadata": {
    "id": "Kn_UbMBZHln5"
   },
   "source": [
    "### Encoding categorical data with label encoder\n"
   ]
  },
  {
   "cell_type": "markdown",
   "metadata": {
    "id": "1xKkoiE9v6be"
   },
   "source": [
    "label encoding is used for datapoint with only two values"
   ]
  },
  {
   "cell_type": "code",
   "execution_count": 21,
   "metadata": {
    "id": "TxhQi6oOQo-Z"
   },
   "outputs": [],
   "source": [
    "from sklearn.preprocessing import LabelEncoder\n",
    "le = LabelEncoder()\n",
    "X[:,0] = le.fit_transform(X[:,0])\n",
    "X[:,4] = le.fit_transform(X[:,4])\n",
    "X[:,6] = le.fit_transform(X[:,6])\n"
   ]
  },
  {
   "cell_type": "markdown",
   "metadata": {
    "id": "2TKY3mGWCbjy"
   },
   "source": [
    "### One Hot Encoding the \"Work_type and  \"somke_status\" column\" column"
   ]
  },
  {
   "cell_type": "code",
   "execution_count": 22,
   "metadata": {
    "id": "w9b5EZr8-2t5"
   },
   "outputs": [],
   "source": [
    "from sklearn.compose import ColumnTransformer\n",
    "from sklearn.preprocessing import OneHotEncoder\n",
    "ct = ColumnTransformer(transformers=[('encoder',\n",
    "OneHotEncoder(), [5,9])], remainder='passthrough')\n",
    "X = np.array(ct.fit_transform(X))"
   ]
  },
  {
   "cell_type": "markdown",
   "metadata": {
    "id": "W-xCwKGZC-dH"
   },
   "source": [
    "**Note** Onehotencoder is used one  datapoint with only two or more values which have numeric order"
   ]
  },
  {
   "cell_type": "code",
   "execution_count": 23,
   "metadata": {
    "colab": {
     "base_uri": "https://localhost:8080/"
    },
    "id": "TS_38h3rBwAy",
    "outputId": "9db63626-e32a-4241-bd02-db09de8f2122"
   },
   "outputs": [
    {
     "data": {
      "text/plain": [
       "array([[0.0, 0.0, 1.0, ..., 1, 228.69, 36.6],\n",
       "       [0.0, 0.0, 1.0, ..., 0, 105.92, 32.5],\n",
       "       [0.0, 0.0, 1.0, ..., 1, 171.23, 34.4],\n",
       "       ...,\n",
       "       [0.0, 0.0, 0.0, ..., 0, 82.99, 30.6],\n",
       "       [0.0, 0.0, 1.0, ..., 0, 166.29, 25.6],\n",
       "       [1.0, 0.0, 0.0, ..., 1, 85.28, 26.2]], dtype=object)"
      ]
     },
     "execution_count": 23,
     "metadata": {},
     "output_type": "execute_result"
    }
   ],
   "source": [
    "X"
   ]
  },
  {
   "cell_type": "code",
   "execution_count": 24,
   "metadata": {
    "colab": {
     "base_uri": "https://localhost:8080/"
    },
    "id": "nFeFjh1QonB5",
    "outputId": "3f641cab-5638-4a7a-b759-a4812135d979"
   },
   "outputs": [
    {
     "data": {
      "text/plain": [
       "(4908, 17)"
      ]
     },
     "execution_count": 24,
     "metadata": {},
     "output_type": "execute_result"
    }
   ],
   "source": [
    "X.shape"
   ]
  },
  {
   "cell_type": "code",
   "execution_count": 25,
   "metadata": {
    "id": "W38paD54VJSZ"
   },
   "outputs": [],
   "source": [
    "from imblearn.over_sampling import SMOTE\n",
    "\n",
    "sm = SMOTE()\n",
    "X, y = sm.fit_resample(X, y)\n"
   ]
  },
  {
   "cell_type": "markdown",
   "metadata": {
    "id": "qpxbKW5g84_O"
   },
   "source": [
    "### Feature Selection "
   ]
  },
  {
   "cell_type": "code",
   "execution_count": 26,
   "metadata": {
    "colab": {
     "base_uri": "https://localhost:8080/"
    },
    "id": "L0ZwCayW84FR",
    "outputId": "a64f328d-82f4-4b44-ae2f-a1ea0fd4eb3b"
   },
   "outputs": [
    {
     "name": "stdout",
     "output_type": "stream",
     "text": [
      "[1.938e+00 2.200e+01 8.575e+00 9.230e+01 6.413e+02 2.907e+02 1.242e+02\n",
      " 9.850e-01 2.984e+01 9.889e+00 2.978e+04 5.119e+02 4.939e+02 2.027e+02\n",
      " 7.199e-04 1.912e+04 1.209e+02]\n"
     ]
    }
   ],
   "source": [
    "from sklearn.feature_selection import SelectKBest\n",
    "from sklearn.feature_selection import chi2\n",
    "test = SelectKBest(score_func=chi2, k='all')\n",
    "fit = test.fit(X, y)\n",
    "np.set_printoptions(precision=3)\n",
    "print(fit.scores_)\n",
    "\n",
    "X = fit.transform(X)"
   ]
  },
  {
   "cell_type": "code",
   "execution_count": 27,
   "metadata": {
    "id": "ruUXaBVigLzO"
   },
   "outputs": [],
   "source": [
    "#patient to be used for preditction \n",
    "patient = [0.0, 0.0, 1.0, 0.0, 0.0, 0.0, 1.0, 0.0, 0.0, 1, 67, 0, 1, 1, 1,228.69, 36.6]"
   ]
  },
  {
   "cell_type": "markdown",
   "metadata": {
    "id": "JFEDskTywWSs"
   },
   "source": [
    "## Splitting dateset"
   ]
  },
  {
   "cell_type": "code",
   "execution_count": 28,
   "metadata": {
    "id": "4dodyeJTUDV8"
   },
   "outputs": [],
   "source": [
    "from sklearn.model_selection import train_test_split\n",
    "X_train, X_test, y_train, y_test, = train_test_split(X,y,test_size=0.2, random_state = 1)\n",
    "\n"
   ]
  },
  {
   "cell_type": "markdown",
   "metadata": {
    "id": "P4PmssroZKOE"
   },
   "source": [
    "**Handling imbalances data**"
   ]
  },
  {
   "cell_type": "markdown",
   "metadata": {
    "id": "IFFnYvvIBecp"
   },
   "source": [
    "Verifying of  oversampling"
   ]
  },
  {
   "cell_type": "code",
   "execution_count": 29,
   "metadata": {
    "colab": {
     "base_uri": "https://localhost:8080/"
    },
    "id": "fMH1nKzcxdc3",
    "outputId": "11089a0d-23ae-4052-8f16-69601315666b"
   },
   "outputs": [
    {
     "data": {
      "text/plain": [
       "array([[  0.   ,   0.   ,   1.   , ...,   0.   ,  96.422,  27.483],\n",
       "       [  0.   ,   0.   ,   1.   , ...,   1.   , 197.69 ,  28.4  ],\n",
       "       [  0.   ,   0.   ,   0.   , ...,   1.   ,  99.13 ,  22.8  ],\n",
       "       ...,\n",
       "       [  0.   ,   0.   ,   1.   , ...,   1.   , 212.776,  30.856],\n",
       "       [  0.386,   0.   ,   0.614, ...,   1.   ,  68.451,  25.063],\n",
       "       [  0.   ,   0.   ,   1.   , ...,   0.392, 215.187,  42.517]])"
      ]
     },
     "execution_count": 29,
     "metadata": {},
     "output_type": "execute_result"
    }
   ],
   "source": [
    "X_test"
   ]
  },
  {
   "cell_type": "code",
   "execution_count": 30,
   "metadata": {
    "colab": {
     "base_uri": "https://localhost:8080/"
    },
    "id": "48H6wjXPFYbp",
    "outputId": "5791145a-d5f8-4a93-a214-d06f8f21ac24"
   },
   "outputs": [
    {
     "data": {
      "text/plain": [
       "array([[0.000e+00, 0.000e+00, 5.233e-01, ..., 0.000e+00, 7.826e+01,\n",
       "        1.967e+01],\n",
       "       [6.970e-01, 0.000e+00, 3.030e-01, ..., 0.000e+00, 1.885e+02,\n",
       "        3.022e+01],\n",
       "       [8.889e-01, 0.000e+00, 1.111e-01, ..., 8.889e-01, 2.643e+02,\n",
       "        3.786e+01],\n",
       "       ...,\n",
       "       [0.000e+00, 0.000e+00, 1.000e+00, ..., 0.000e+00, 7.742e+01,\n",
       "        2.610e+01],\n",
       "       [0.000e+00, 0.000e+00, 1.000e+00, ..., 0.000e+00, 7.908e+01,\n",
       "        2.037e+01],\n",
       "       [1.000e+00, 0.000e+00, 0.000e+00, ..., 0.000e+00, 9.461e+01,\n",
       "        2.840e+01]])"
      ]
     },
     "execution_count": 30,
     "metadata": {},
     "output_type": "execute_result"
    }
   ],
   "source": [
    "X_train"
   ]
  },
  {
   "cell_type": "code",
   "execution_count": 31,
   "metadata": {
    "colab": {
     "base_uri": "https://localhost:8080/"
    },
    "id": "JExwCkmIsxgG",
    "outputId": "5b9b968f-29db-4cd9-d709-e8cfb2a04fef"
   },
   "outputs": [
    {
     "name": "stdout",
     "output_type": "stream",
     "text": [
      "[1 0 0 ... 1 1 1]\n"
     ]
    }
   ],
   "source": [
    "print(y_test)"
   ]
  },
  {
   "cell_type": "code",
   "execution_count": 32,
   "metadata": {
    "colab": {
     "base_uri": "https://localhost:8080/"
    },
    "id": "CYPsoH82tgPE",
    "outputId": "3b223706-1069-4c1b-ea56-5e2909f05215"
   },
   "outputs": [
    {
     "name": "stdout",
     "output_type": "stream",
     "text": [
      "[1 1 1 ... 0 1 0]\n"
     ]
    }
   ],
   "source": [
    "print(y_train)"
   ]
  },
  {
   "cell_type": "markdown",
   "metadata": {
    "id": "kG3xS3xpV3tx"
   },
   "source": [
    "## Feature Scaling"
   ]
  },
  {
   "cell_type": "code",
   "execution_count": 33,
   "metadata": {
    "id": "TYUVJBgX13v2"
   },
   "outputs": [],
   "source": [
    "from sklearn.preprocessing import StandardScaler\n",
    "sc = StandardScaler()\n",
    "X_train = sc.fit_transform(X_train)\n",
    "X_test = sc.transform(X_test)"
   ]
  },
  {
   "cell_type": "code",
   "execution_count": 34,
   "metadata": {
    "colab": {
     "base_uri": "https://localhost:8080/"
    },
    "id": "jvnr6c4Z19GS",
    "outputId": "ecf3c760-0655-4b2a-8fb7-9080c73e7f04"
   },
   "outputs": [
    {
     "name": "stdout",
     "output_type": "stream",
     "text": [
      "[[-0.434 -0.05   0.888 ... -1.105 -0.425 -0.292]\n",
      " [-0.434 -0.05   0.888 ...  1.074  1.392 -0.157]\n",
      " [-0.434 -0.05  -1.308 ...  1.074 -0.376 -0.982]\n",
      " ...\n",
      " [-0.434 -0.05   0.888 ...  1.074  1.662  0.205]\n",
      " [ 0.806 -0.05   0.041 ...  1.074 -0.927 -0.648]\n",
      " [-0.434 -0.05   0.888 ... -0.25   1.706  1.923]]\n"
     ]
    }
   ],
   "source": [
    "print(X_test)"
   ]
  },
  {
   "cell_type": "markdown",
   "metadata": {
    "id": "xLKCeFRIsETB"
   },
   "source": [
    "# Helper Functions"
   ]
  },
  {
   "cell_type": "markdown",
   "metadata": {
    "id": "el6w4I3uZDkB"
   },
   "source": [
    "**Prediction Function**"
   ]
  },
  {
   "cell_type": "code",
   "execution_count": 35,
   "metadata": {
    "id": "3nmNqTAWZFj0"
   },
   "outputs": [],
   "source": [
    "#this function will be use to make predictions after models is train \n",
    "def prediction(classifier, X=X_test):\n",
    "  y_pred = classifier.predict(X)\n",
    "\n",
    "  print(\"Accuracy: {:.2f} %\".format(accuracy_score(y_test, y_pred)*100))\n",
    "  print()\n",
    "\n",
    "     #this condition check if model accuracy is below 90% if so it apply tunning using gridsearch\n",
    "  if accuracy_score(y_test, y_pred) < 0.90:\n",
    "    print(\"MODELS RESULT IS BELOW 90% TUNNING WILL BE APPLIED \")\n",
    "    grid_search_tunning(classifier,parameters)\n",
    "    \n",
    "  print()\n",
    "  # Predicting the Test set results \n",
    "  print(\"Predicting the Test set results \")\n",
    "  #matching all predtiction with true values this help eliminate overfiting\n",
    "  print(np.concatenate((y_pred.reshape(len(y_pred),1), y_test.reshape(len(y_test),1)),1))\n",
    "  print()\n",
    "  print(f\" Predicting for: \")\n",
    "  #get the patient that will be used to make prediction from dataset\n",
    "  print(dataset[:1])\n",
    "  print(f\" y_predicted :{classifier.predict(sc.transform([patient]))}\")\n",
    "  print(\"==================================================================\")\n",
    "  print()\n",
    "\n",
    "\n",
    "\n"
   ]
  },
  {
   "cell_type": "markdown",
   "metadata": {
    "id": "3_DHRhmEqo13"
   },
   "source": [
    "**Function for training models** "
   ]
  },
  {
   "cell_type": "code",
   "execution_count": 36,
   "metadata": {
    "id": "mr3l1cfKXhOP"
   },
   "outputs": [],
   "source": [
    "def trainmodels(classifier, X_train, y_train):\n",
    "\n",
    "  #this function takes the untrain models, train it then return the train model\n",
    "\n",
    "  classifier.fit(X_train, y_train)\n",
    "  #calling the prediction function to make predictions on the train models\n",
    "  prediction(classifier)\n",
    "  #making confusion matrix\n",
    "  makin_confusion_matrix(classifier)\n",
    "  \n",
    "\n",
    "  #this function return nthe train model.\n",
    "  return classifier\n"
   ]
  },
  {
   "cell_type": "markdown",
   "metadata": {
    "id": "rapgtV-Qa-D6"
   },
   "source": [
    "**Making the Confusion Matrix Function**"
   ]
  },
  {
   "cell_type": "code",
   "execution_count": 37,
   "metadata": {
    "id": "YHaOM8viagJa"
   },
   "outputs": [],
   "source": [
    "def makin_confusion_matrix(classifier,X=X_test):\n",
    "  #this function takes train model and make matrix on it \n",
    "  y_pred = classifier.predict(X)\n",
    "  cm = confusion_matrix(y_test, y_pred )\n",
    "  classifier_report=classification_report(y_test, y_pred )\n",
    "  print()\n",
    "  print(\"Making the Confusion Matrix\")\n",
    "  print(\"**************************\")\n",
    "  print(\"Accuracy: {:.2f} %\".format(accuracy_score(y_test,y_pred)*100))\n",
    "  print(cm)\n",
    "  print(\"\")\n",
    "  print(\"\")\n",
    "  print(\"Accuracy repeort\")\n",
    "  print(classifier_report)\n",
    "  \n",
    "\n",
    "  \n"
   ]
  },
  {
   "cell_type": "markdown",
   "metadata": {
    "id": "IKX556R9wtim"
   },
   "source": [
    "**Plot Confusion matrix function **"
   ]
  },
  {
   "cell_type": "code",
   "execution_count": 38,
   "metadata": {
    "id": "77rZHOtArRsv"
   },
   "outputs": [],
   "source": [
    "def plot_confusion_matrix(classifier, X=X_test):\n",
    "  y_pred = classifier.predict(X)\n",
    "  cm_map = sns.heatmap(confusion_matrix(y_test, y_pred),annot=True,cmap='OrRd', fmt='g')\n",
    "  plt.show(cm_map)"
   ]
  },
  {
   "cell_type": "markdown",
   "metadata": {
    "id": "J874PEP0hzpL"
   },
   "source": [
    "**Function for app K-Fold cross validation**"
   ]
  },
  {
   "cell_type": "code",
   "execution_count": 39,
   "metadata": {
    "id": "VNnykzs7hyEj"
   },
   "outputs": [],
   "source": [
    "def k_fold_cross_validation(classifier, X_train, y_train, cv:int):\n",
    "  print(\"****************************************************\")\n",
    "  accuracies = cross_val_score(estimator =  classifier, X = X_train, y = y_train, cv = 15)\n",
    "  print(\"Accuracy: {:.2f} %\".format(accuracies.mean()*100))\n",
    "  print(\"Standard Deviation: {:.2f} %\".format(accuracies.std()*100))\n",
    "  \n",
    "  "
   ]
  },
  {
   "cell_type": "markdown",
   "metadata": {
    "id": "qIcVgdORmhRM"
   },
   "source": [
    "**Function for Grid search fine tuning**"
   ]
  },
  {
   "cell_type": "markdown",
   "metadata": {
    "id": "67DeFy3o4iWc"
   },
   "source": [
    "**Note:** tunning is only apply to models with accuracy below 90%"
   ]
  },
  {
   "cell_type": "code",
   "execution_count": 40,
   "metadata": {
    "id": "gfP7vfUhmonn"
   },
   "outputs": [],
   "source": [
    "def grid_search_tunning (classifier,parameters):\n",
    "  grid_search = GridSearchCV(estimator=classifier, param_grid=parameters, verbose=1, cv=10, n_jobs=-1)\n",
    "  grid_search.fit(X_train, y_train)\n",
    "  best_accuracy = grid_search.best_score_\n",
    "  best_parameters = grid_search.best_params_\n",
    "  print(\"Best Accuracy: {:.2f} %\".format(best_accuracy*100))\n",
    "  print(\"Best Parameters:\", best_parameters)"
   ]
  },
  {
   "cell_type": "markdown",
   "metadata": {
    "id": "X-saNY9IatBO"
   },
   "source": [
    "# Classifications Modeling "
   ]
  },
  {
   "cell_type": "markdown",
   "metadata": {
    "id": "IF4E-3iipv5B"
   },
   "source": [
    "## Logistic Regression"
   ]
  },
  {
   "cell_type": "code",
   "execution_count": 41,
   "metadata": {
    "id": "RGNQJq-kpvU5"
   },
   "outputs": [
    {
     "name": "stdout",
     "output_type": "stream",
     "text": [
      "Accuracy: 77.82 %\n",
      "\n",
      "MODELS RESULT IS BELOW 90% TUNNING WILL BE APPLIED \n",
      "Fitting 10 folds for each of 16 candidates, totalling 160 fits\n"
     ]
    },
    {
     "name": "stderr",
     "output_type": "stream",
     "text": [
      "/opt/anaconda3/lib/python3.9/site-packages/sklearn/model_selection/_validation.py:615: FitFailedWarning: Estimator fit failed. The score on this train-test partition for these parameters will be set to nan. Details: \n",
      "Traceback (most recent call last):\n",
      "  File \"/opt/anaconda3/lib/python3.9/site-packages/sklearn/model_selection/_validation.py\", line 598, in _fit_and_score\n",
      "    estimator.fit(X_train, y_train, **fit_params)\n",
      "  File \"/opt/anaconda3/lib/python3.9/site-packages/sklearn/linear_model/_logistic.py\", line 1306, in fit\n",
      "    solver = _check_solver(self.solver, self.penalty, self.dual)\n",
      "  File \"/opt/anaconda3/lib/python3.9/site-packages/sklearn/linear_model/_logistic.py\", line 443, in _check_solver\n",
      "    raise ValueError(\"Solver %s supports only 'l2' or 'none' penalties, \"\n",
      "ValueError: Solver lbfgs supports only 'l2' or 'none' penalties, got l1 penalty.\n",
      "\n",
      "  warnings.warn(\"Estimator fit failed. The score on this train-test\"\n",
      "/opt/anaconda3/lib/python3.9/site-packages/sklearn/model_selection/_validation.py:615: FitFailedWarning: Estimator fit failed. The score on this train-test partition for these parameters will be set to nan. Details: \n",
      "Traceback (most recent call last):\n",
      "  File \"/opt/anaconda3/lib/python3.9/site-packages/sklearn/model_selection/_validation.py\", line 598, in _fit_and_score\n",
      "    estimator.fit(X_train, y_train, **fit_params)\n",
      "  File \"/opt/anaconda3/lib/python3.9/site-packages/sklearn/linear_model/_logistic.py\", line 1306, in fit\n",
      "    solver = _check_solver(self.solver, self.penalty, self.dual)\n",
      "  File \"/opt/anaconda3/lib/python3.9/site-packages/sklearn/linear_model/_logistic.py\", line 443, in _check_solver\n",
      "    raise ValueError(\"Solver %s supports only 'l2' or 'none' penalties, \"\n",
      "ValueError: Solver lbfgs supports only 'l2' or 'none' penalties, got l1 penalty.\n",
      "\n",
      "  warnings.warn(\"Estimator fit failed. The score on this train-test\"\n",
      "/opt/anaconda3/lib/python3.9/site-packages/sklearn/model_selection/_validation.py:615: FitFailedWarning: Estimator fit failed. The score on this train-test partition for these parameters will be set to nan. Details: \n",
      "Traceback (most recent call last):\n",
      "  File \"/opt/anaconda3/lib/python3.9/site-packages/sklearn/model_selection/_validation.py\", line 598, in _fit_and_score\n",
      "    estimator.fit(X_train, y_train, **fit_params)\n",
      "  File \"/opt/anaconda3/lib/python3.9/site-packages/sklearn/linear_model/_logistic.py\", line 1306, in fit\n",
      "    solver = _check_solver(self.solver, self.penalty, self.dual)\n",
      "  File \"/opt/anaconda3/lib/python3.9/site-packages/sklearn/linear_model/_logistic.py\", line 443, in _check_solver\n",
      "    raise ValueError(\"Solver %s supports only 'l2' or 'none' penalties, \"\n",
      "ValueError: Solver lbfgs supports only 'l2' or 'none' penalties, got l1 penalty.\n",
      "\n",
      "  warnings.warn(\"Estimator fit failed. The score on this train-test\"\n",
      "/opt/anaconda3/lib/python3.9/site-packages/sklearn/model_selection/_validation.py:615: FitFailedWarning: Estimator fit failed. The score on this train-test partition for these parameters will be set to nan. Details: \n",
      "Traceback (most recent call last):\n",
      "  File \"/opt/anaconda3/lib/python3.9/site-packages/sklearn/model_selection/_validation.py\", line 598, in _fit_and_score\n",
      "    estimator.fit(X_train, y_train, **fit_params)\n",
      "  File \"/opt/anaconda3/lib/python3.9/site-packages/sklearn/linear_model/_logistic.py\", line 1306, in fit\n",
      "    solver = _check_solver(self.solver, self.penalty, self.dual)\n",
      "  File \"/opt/anaconda3/lib/python3.9/site-packages/sklearn/linear_model/_logistic.py\", line 443, in _check_solver\n",
      "    raise ValueError(\"Solver %s supports only 'l2' or 'none' penalties, \"\n",
      "ValueError: Solver lbfgs supports only 'l2' or 'none' penalties, got l1 penalty.\n",
      "\n",
      "  warnings.warn(\"Estimator fit failed. The score on this train-test\"\n",
      "/opt/anaconda3/lib/python3.9/site-packages/sklearn/model_selection/_validation.py:615: FitFailedWarning: Estimator fit failed. The score on this train-test partition for these parameters will be set to nan. Details: \n",
      "Traceback (most recent call last):\n",
      "  File \"/opt/anaconda3/lib/python3.9/site-packages/sklearn/model_selection/_validation.py\", line 598, in _fit_and_score\n",
      "    estimator.fit(X_train, y_train, **fit_params)\n",
      "  File \"/opt/anaconda3/lib/python3.9/site-packages/sklearn/linear_model/_logistic.py\", line 1306, in fit\n",
      "    solver = _check_solver(self.solver, self.penalty, self.dual)\n",
      "  File \"/opt/anaconda3/lib/python3.9/site-packages/sklearn/linear_model/_logistic.py\", line 443, in _check_solver\n",
      "    raise ValueError(\"Solver %s supports only 'l2' or 'none' penalties, \"\n",
      "ValueError: Solver lbfgs supports only 'l2' or 'none' penalties, got l1 penalty.\n",
      "\n",
      "  warnings.warn(\"Estimator fit failed. The score on this train-test\"\n",
      "/opt/anaconda3/lib/python3.9/site-packages/sklearn/model_selection/_validation.py:615: FitFailedWarning: Estimator fit failed. The score on this train-test partition for these parameters will be set to nan. Details: \n",
      "Traceback (most recent call last):\n",
      "  File \"/opt/anaconda3/lib/python3.9/site-packages/sklearn/model_selection/_validation.py\", line 598, in _fit_and_score\n",
      "    estimator.fit(X_train, y_train, **fit_params)\n",
      "  File \"/opt/anaconda3/lib/python3.9/site-packages/sklearn/linear_model/_logistic.py\", line 1306, in fit\n",
      "    solver = _check_solver(self.solver, self.penalty, self.dual)\n",
      "  File \"/opt/anaconda3/lib/python3.9/site-packages/sklearn/linear_model/_logistic.py\", line 443, in _check_solver\n",
      "    raise ValueError(\"Solver %s supports only 'l2' or 'none' penalties, \"\n",
      "ValueError: Solver lbfgs supports only 'l2' or 'none' penalties, got l1 penalty.\n",
      "\n",
      "  warnings.warn(\"Estimator fit failed. The score on this train-test\"\n",
      "/opt/anaconda3/lib/python3.9/site-packages/sklearn/model_selection/_validation.py:615: FitFailedWarning: Estimator fit failed. The score on this train-test partition for these parameters will be set to nan. Details: \n",
      "Traceback (most recent call last):\n",
      "  File \"/opt/anaconda3/lib/python3.9/site-packages/sklearn/model_selection/_validation.py\", line 598, in _fit_and_score\n",
      "    estimator.fit(X_train, y_train, **fit_params)\n",
      "  File \"/opt/anaconda3/lib/python3.9/site-packages/sklearn/linear_model/_logistic.py\", line 1306, in fit\n",
      "    solver = _check_solver(self.solver, self.penalty, self.dual)\n",
      "  File \"/opt/anaconda3/lib/python3.9/site-packages/sklearn/linear_model/_logistic.py\", line 443, in _check_solver\n",
      "    raise ValueError(\"Solver %s supports only 'l2' or 'none' penalties, \"\n",
      "ValueError: Solver lbfgs supports only 'l2' or 'none' penalties, got l1 penalty.\n",
      "\n",
      "  warnings.warn(\"Estimator fit failed. The score on this train-test\"\n",
      "/opt/anaconda3/lib/python3.9/site-packages/sklearn/model_selection/_validation.py:615: FitFailedWarning: Estimator fit failed. The score on this train-test partition for these parameters will be set to nan. Details: \n",
      "Traceback (most recent call last):\n",
      "  File \"/opt/anaconda3/lib/python3.9/site-packages/sklearn/model_selection/_validation.py\", line 598, in _fit_and_score\n",
      "    estimator.fit(X_train, y_train, **fit_params)\n",
      "  File \"/opt/anaconda3/lib/python3.9/site-packages/sklearn/linear_model/_logistic.py\", line 1306, in fit\n",
      "    solver = _check_solver(self.solver, self.penalty, self.dual)\n",
      "  File \"/opt/anaconda3/lib/python3.9/site-packages/sklearn/linear_model/_logistic.py\", line 443, in _check_solver\n",
      "    raise ValueError(\"Solver %s supports only 'l2' or 'none' penalties, \"\n",
      "ValueError: Solver lbfgs supports only 'l2' or 'none' penalties, got l1 penalty.\n",
      "\n",
      "  warnings.warn(\"Estimator fit failed. The score on this train-test\"\n",
      "/opt/anaconda3/lib/python3.9/site-packages/sklearn/model_selection/_validation.py:615: FitFailedWarning: Estimator fit failed. The score on this train-test partition for these parameters will be set to nan. Details: \n",
      "Traceback (most recent call last):\n",
      "  File \"/opt/anaconda3/lib/python3.9/site-packages/sklearn/model_selection/_validation.py\", line 598, in _fit_and_score\n",
      "    estimator.fit(X_train, y_train, **fit_params)\n",
      "  File \"/opt/anaconda3/lib/python3.9/site-packages/sklearn/linear_model/_logistic.py\", line 1306, in fit\n",
      "    solver = _check_solver(self.solver, self.penalty, self.dual)\n",
      "  File \"/opt/anaconda3/lib/python3.9/site-packages/sklearn/linear_model/_logistic.py\", line 443, in _check_solver\n",
      "    raise ValueError(\"Solver %s supports only 'l2' or 'none' penalties, \"\n",
      "ValueError: Solver lbfgs supports only 'l2' or 'none' penalties, got l1 penalty.\n",
      "\n",
      "  warnings.warn(\"Estimator fit failed. The score on this train-test\"\n",
      "/opt/anaconda3/lib/python3.9/site-packages/sklearn/model_selection/_validation.py:615: FitFailedWarning: Estimator fit failed. The score on this train-test partition for these parameters will be set to nan. Details: \n",
      "Traceback (most recent call last):\n",
      "  File \"/opt/anaconda3/lib/python3.9/site-packages/sklearn/model_selection/_validation.py\", line 598, in _fit_and_score\n",
      "    estimator.fit(X_train, y_train, **fit_params)\n",
      "  File \"/opt/anaconda3/lib/python3.9/site-packages/sklearn/linear_model/_logistic.py\", line 1306, in fit\n",
      "    solver = _check_solver(self.solver, self.penalty, self.dual)\n",
      "  File \"/opt/anaconda3/lib/python3.9/site-packages/sklearn/linear_model/_logistic.py\", line 443, in _check_solver\n",
      "    raise ValueError(\"Solver %s supports only 'l2' or 'none' penalties, \"\n",
      "ValueError: Solver lbfgs supports only 'l2' or 'none' penalties, got l1 penalty.\n",
      "\n",
      "  warnings.warn(\"Estimator fit failed. The score on this train-test\"\n",
      "/opt/anaconda3/lib/python3.9/site-packages/sklearn/model_selection/_validation.py:615: FitFailedWarning: Estimator fit failed. The score on this train-test partition for these parameters will be set to nan. Details: \n",
      "Traceback (most recent call last):\n",
      "  File \"/opt/anaconda3/lib/python3.9/site-packages/sklearn/model_selection/_validation.py\", line 598, in _fit_and_score\n",
      "    estimator.fit(X_train, y_train, **fit_params)\n",
      "  File \"/opt/anaconda3/lib/python3.9/site-packages/sklearn/linear_model/_logistic.py\", line 1306, in fit\n",
      "    solver = _check_solver(self.solver, self.penalty, self.dual)\n",
      "  File \"/opt/anaconda3/lib/python3.9/site-packages/sklearn/linear_model/_logistic.py\", line 443, in _check_solver\n",
      "    raise ValueError(\"Solver %s supports only 'l2' or 'none' penalties, \"\n",
      "ValueError: Solver lbfgs supports only 'l2' or 'none' penalties, got l1 penalty.\n",
      "\n",
      "  warnings.warn(\"Estimator fit failed. The score on this train-test\"\n",
      "/opt/anaconda3/lib/python3.9/site-packages/sklearn/model_selection/_validation.py:615: FitFailedWarning: Estimator fit failed. The score on this train-test partition for these parameters will be set to nan. Details: \n",
      "Traceback (most recent call last):\n",
      "  File \"/opt/anaconda3/lib/python3.9/site-packages/sklearn/model_selection/_validation.py\", line 598, in _fit_and_score\n",
      "    estimator.fit(X_train, y_train, **fit_params)\n",
      "  File \"/opt/anaconda3/lib/python3.9/site-packages/sklearn/linear_model/_logistic.py\", line 1306, in fit\n",
      "    solver = _check_solver(self.solver, self.penalty, self.dual)\n",
      "  File \"/opt/anaconda3/lib/python3.9/site-packages/sklearn/linear_model/_logistic.py\", line 443, in _check_solver\n",
      "    raise ValueError(\"Solver %s supports only 'l2' or 'none' penalties, \"\n",
      "ValueError: Solver lbfgs supports only 'l2' or 'none' penalties, got l1 penalty.\n",
      "\n",
      "  warnings.warn(\"Estimator fit failed. The score on this train-test\"\n",
      "/opt/anaconda3/lib/python3.9/site-packages/sklearn/model_selection/_validation.py:615: FitFailedWarning: Estimator fit failed. The score on this train-test partition for these parameters will be set to nan. Details: \n",
      "Traceback (most recent call last):\n",
      "  File \"/opt/anaconda3/lib/python3.9/site-packages/sklearn/model_selection/_validation.py\", line 598, in _fit_and_score\n",
      "    estimator.fit(X_train, y_train, **fit_params)\n",
      "  File \"/opt/anaconda3/lib/python3.9/site-packages/sklearn/linear_model/_logistic.py\", line 1306, in fit\n",
      "    solver = _check_solver(self.solver, self.penalty, self.dual)\n",
      "  File \"/opt/anaconda3/lib/python3.9/site-packages/sklearn/linear_model/_logistic.py\", line 443, in _check_solver\n",
      "    raise ValueError(\"Solver %s supports only 'l2' or 'none' penalties, \"\n",
      "ValueError: Solver lbfgs supports only 'l2' or 'none' penalties, got l1 penalty.\n",
      "\n",
      "  warnings.warn(\"Estimator fit failed. The score on this train-test\"\n",
      "/opt/anaconda3/lib/python3.9/site-packages/sklearn/model_selection/_validation.py:615: FitFailedWarning: Estimator fit failed. The score on this train-test partition for these parameters will be set to nan. Details: \n",
      "Traceback (most recent call last):\n",
      "  File \"/opt/anaconda3/lib/python3.9/site-packages/sklearn/model_selection/_validation.py\", line 598, in _fit_and_score\n",
      "    estimator.fit(X_train, y_train, **fit_params)\n",
      "  File \"/opt/anaconda3/lib/python3.9/site-packages/sklearn/linear_model/_logistic.py\", line 1306, in fit\n",
      "    solver = _check_solver(self.solver, self.penalty, self.dual)\n",
      "  File \"/opt/anaconda3/lib/python3.9/site-packages/sklearn/linear_model/_logistic.py\", line 443, in _check_solver\n",
      "    raise ValueError(\"Solver %s supports only 'l2' or 'none' penalties, \"\n",
      "ValueError: Solver lbfgs supports only 'l2' or 'none' penalties, got l1 penalty.\n",
      "\n",
      "  warnings.warn(\"Estimator fit failed. The score on this train-test\"\n",
      "/opt/anaconda3/lib/python3.9/site-packages/sklearn/model_selection/_validation.py:615: FitFailedWarning: Estimator fit failed. The score on this train-test partition for these parameters will be set to nan. Details: \n",
      "Traceback (most recent call last):\n",
      "  File \"/opt/anaconda3/lib/python3.9/site-packages/sklearn/model_selection/_validation.py\", line 598, in _fit_and_score\n",
      "    estimator.fit(X_train, y_train, **fit_params)\n",
      "  File \"/opt/anaconda3/lib/python3.9/site-packages/sklearn/linear_model/_logistic.py\", line 1306, in fit\n",
      "    solver = _check_solver(self.solver, self.penalty, self.dual)\n",
      "  File \"/opt/anaconda3/lib/python3.9/site-packages/sklearn/linear_model/_logistic.py\", line 443, in _check_solver\n",
      "    raise ValueError(\"Solver %s supports only 'l2' or 'none' penalties, \"\n",
      "ValueError: Solver lbfgs supports only 'l2' or 'none' penalties, got l1 penalty.\n",
      "\n",
      "  warnings.warn(\"Estimator fit failed. The score on this train-test\"\n",
      "/opt/anaconda3/lib/python3.9/site-packages/sklearn/model_selection/_validation.py:615: FitFailedWarning: Estimator fit failed. The score on this train-test partition for these parameters will be set to nan. Details: \n",
      "Traceback (most recent call last):\n",
      "  File \"/opt/anaconda3/lib/python3.9/site-packages/sklearn/model_selection/_validation.py\", line 598, in _fit_and_score\n",
      "    estimator.fit(X_train, y_train, **fit_params)\n",
      "  File \"/opt/anaconda3/lib/python3.9/site-packages/sklearn/linear_model/_logistic.py\", line 1306, in fit\n",
      "    solver = _check_solver(self.solver, self.penalty, self.dual)\n",
      "  File \"/opt/anaconda3/lib/python3.9/site-packages/sklearn/linear_model/_logistic.py\", line 443, in _check_solver\n",
      "    raise ValueError(\"Solver %s supports only 'l2' or 'none' penalties, \"\n",
      "ValueError: Solver lbfgs supports only 'l2' or 'none' penalties, got l1 penalty.\n",
      "\n",
      "  warnings.warn(\"Estimator fit failed. The score on this train-test\"\n",
      "/opt/anaconda3/lib/python3.9/site-packages/sklearn/model_selection/_validation.py:615: FitFailedWarning: Estimator fit failed. The score on this train-test partition for these parameters will be set to nan. Details: \n",
      "Traceback (most recent call last):\n",
      "  File \"/opt/anaconda3/lib/python3.9/site-packages/sklearn/model_selection/_validation.py\", line 598, in _fit_and_score\n",
      "    estimator.fit(X_train, y_train, **fit_params)\n",
      "  File \"/opt/anaconda3/lib/python3.9/site-packages/sklearn/linear_model/_logistic.py\", line 1306, in fit\n",
      "    solver = _check_solver(self.solver, self.penalty, self.dual)\n",
      "  File \"/opt/anaconda3/lib/python3.9/site-packages/sklearn/linear_model/_logistic.py\", line 443, in _check_solver\n",
      "    raise ValueError(\"Solver %s supports only 'l2' or 'none' penalties, \"\n",
      "ValueError: Solver lbfgs supports only 'l2' or 'none' penalties, got l1 penalty.\n",
      "\n",
      "  warnings.warn(\"Estimator fit failed. The score on this train-test\"\n",
      "/opt/anaconda3/lib/python3.9/site-packages/sklearn/model_selection/_validation.py:615: FitFailedWarning: Estimator fit failed. The score on this train-test partition for these parameters will be set to nan. Details: \n",
      "Traceback (most recent call last):\n",
      "  File \"/opt/anaconda3/lib/python3.9/site-packages/sklearn/model_selection/_validation.py\", line 598, in _fit_and_score\n",
      "    estimator.fit(X_train, y_train, **fit_params)\n",
      "  File \"/opt/anaconda3/lib/python3.9/site-packages/sklearn/linear_model/_logistic.py\", line 1306, in fit\n",
      "    solver = _check_solver(self.solver, self.penalty, self.dual)\n",
      "  File \"/opt/anaconda3/lib/python3.9/site-packages/sklearn/linear_model/_logistic.py\", line 443, in _check_solver\n",
      "    raise ValueError(\"Solver %s supports only 'l2' or 'none' penalties, \"\n",
      "ValueError: Solver lbfgs supports only 'l2' or 'none' penalties, got l1 penalty.\n",
      "\n",
      "  warnings.warn(\"Estimator fit failed. The score on this train-test\"\n",
      "/opt/anaconda3/lib/python3.9/site-packages/sklearn/model_selection/_validation.py:615: FitFailedWarning: Estimator fit failed. The score on this train-test partition for these parameters will be set to nan. Details: \n",
      "Traceback (most recent call last):\n",
      "  File \"/opt/anaconda3/lib/python3.9/site-packages/sklearn/model_selection/_validation.py\", line 598, in _fit_and_score\n",
      "    estimator.fit(X_train, y_train, **fit_params)\n",
      "  File \"/opt/anaconda3/lib/python3.9/site-packages/sklearn/linear_model/_logistic.py\", line 1306, in fit\n",
      "    solver = _check_solver(self.solver, self.penalty, self.dual)\n",
      "  File \"/opt/anaconda3/lib/python3.9/site-packages/sklearn/linear_model/_logistic.py\", line 443, in _check_solver\n",
      "    raise ValueError(\"Solver %s supports only 'l2' or 'none' penalties, \"\n",
      "ValueError: Solver lbfgs supports only 'l2' or 'none' penalties, got l1 penalty.\n",
      "\n",
      "  warnings.warn(\"Estimator fit failed. The score on this train-test\"\n",
      "/opt/anaconda3/lib/python3.9/site-packages/sklearn/model_selection/_validation.py:615: FitFailedWarning: Estimator fit failed. The score on this train-test partition for these parameters will be set to nan. Details: \n",
      "Traceback (most recent call last):\n",
      "  File \"/opt/anaconda3/lib/python3.9/site-packages/sklearn/model_selection/_validation.py\", line 598, in _fit_and_score\n",
      "    estimator.fit(X_train, y_train, **fit_params)\n",
      "  File \"/opt/anaconda3/lib/python3.9/site-packages/sklearn/linear_model/_logistic.py\", line 1306, in fit\n",
      "    solver = _check_solver(self.solver, self.penalty, self.dual)\n",
      "  File \"/opt/anaconda3/lib/python3.9/site-packages/sklearn/linear_model/_logistic.py\", line 443, in _check_solver\n",
      "    raise ValueError(\"Solver %s supports only 'l2' or 'none' penalties, \"\n",
      "ValueError: Solver lbfgs supports only 'l2' or 'none' penalties, got l1 penalty.\n",
      "\n",
      "  warnings.warn(\"Estimator fit failed. The score on this train-test\"\n",
      "/opt/anaconda3/lib/python3.9/site-packages/sklearn/model_selection/_validation.py:615: FitFailedWarning: Estimator fit failed. The score on this train-test partition for these parameters will be set to nan. Details: \n",
      "Traceback (most recent call last):\n",
      "  File \"/opt/anaconda3/lib/python3.9/site-packages/sklearn/model_selection/_validation.py\", line 598, in _fit_and_score\n",
      "    estimator.fit(X_train, y_train, **fit_params)\n",
      "  File \"/opt/anaconda3/lib/python3.9/site-packages/sklearn/linear_model/_logistic.py\", line 1306, in fit\n",
      "    solver = _check_solver(self.solver, self.penalty, self.dual)\n",
      "  File \"/opt/anaconda3/lib/python3.9/site-packages/sklearn/linear_model/_logistic.py\", line 443, in _check_solver\n",
      "    raise ValueError(\"Solver %s supports only 'l2' or 'none' penalties, \"\n",
      "ValueError: Solver lbfgs supports only 'l2' or 'none' penalties, got l1 penalty.\n",
      "\n",
      "  warnings.warn(\"Estimator fit failed. The score on this train-test\"\n",
      "/opt/anaconda3/lib/python3.9/site-packages/sklearn/model_selection/_validation.py:615: FitFailedWarning: Estimator fit failed. The score on this train-test partition for these parameters will be set to nan. Details: \n",
      "Traceback (most recent call last):\n",
      "  File \"/opt/anaconda3/lib/python3.9/site-packages/sklearn/model_selection/_validation.py\", line 598, in _fit_and_score\n",
      "    estimator.fit(X_train, y_train, **fit_params)\n",
      "  File \"/opt/anaconda3/lib/python3.9/site-packages/sklearn/linear_model/_logistic.py\", line 1306, in fit\n",
      "    solver = _check_solver(self.solver, self.penalty, self.dual)\n",
      "  File \"/opt/anaconda3/lib/python3.9/site-packages/sklearn/linear_model/_logistic.py\", line 443, in _check_solver\n",
      "    raise ValueError(\"Solver %s supports only 'l2' or 'none' penalties, \"\n",
      "ValueError: Solver lbfgs supports only 'l2' or 'none' penalties, got l1 penalty.\n",
      "\n",
      "  warnings.warn(\"Estimator fit failed. The score on this train-test\"\n",
      "/opt/anaconda3/lib/python3.9/site-packages/sklearn/model_selection/_validation.py:615: FitFailedWarning: Estimator fit failed. The score on this train-test partition for these parameters will be set to nan. Details: \n",
      "Traceback (most recent call last):\n",
      "  File \"/opt/anaconda3/lib/python3.9/site-packages/sklearn/model_selection/_validation.py\", line 598, in _fit_and_score\n",
      "    estimator.fit(X_train, y_train, **fit_params)\n",
      "  File \"/opt/anaconda3/lib/python3.9/site-packages/sklearn/linear_model/_logistic.py\", line 1306, in fit\n",
      "    solver = _check_solver(self.solver, self.penalty, self.dual)\n",
      "  File \"/opt/anaconda3/lib/python3.9/site-packages/sklearn/linear_model/_logistic.py\", line 443, in _check_solver\n",
      "    raise ValueError(\"Solver %s supports only 'l2' or 'none' penalties, \"\n",
      "ValueError: Solver lbfgs supports only 'l2' or 'none' penalties, got l1 penalty.\n",
      "\n",
      "  warnings.warn(\"Estimator fit failed. The score on this train-test\"\n",
      "/opt/anaconda3/lib/python3.9/site-packages/sklearn/model_selection/_validation.py:615: FitFailedWarning: Estimator fit failed. The score on this train-test partition for these parameters will be set to nan. Details: \n",
      "Traceback (most recent call last):\n",
      "  File \"/opt/anaconda3/lib/python3.9/site-packages/sklearn/model_selection/_validation.py\", line 598, in _fit_and_score\n",
      "    estimator.fit(X_train, y_train, **fit_params)\n",
      "  File \"/opt/anaconda3/lib/python3.9/site-packages/sklearn/linear_model/_logistic.py\", line 1306, in fit\n",
      "    solver = _check_solver(self.solver, self.penalty, self.dual)\n",
      "  File \"/opt/anaconda3/lib/python3.9/site-packages/sklearn/linear_model/_logistic.py\", line 443, in _check_solver\n",
      "    raise ValueError(\"Solver %s supports only 'l2' or 'none' penalties, \"\n",
      "ValueError: Solver lbfgs supports only 'l2' or 'none' penalties, got l1 penalty.\n",
      "\n",
      "  warnings.warn(\"Estimator fit failed. The score on this train-test\"\n",
      "/opt/anaconda3/lib/python3.9/site-packages/sklearn/model_selection/_validation.py:615: FitFailedWarning: Estimator fit failed. The score on this train-test partition for these parameters will be set to nan. Details: \n",
      "Traceback (most recent call last):\n",
      "  File \"/opt/anaconda3/lib/python3.9/site-packages/sklearn/model_selection/_validation.py\", line 598, in _fit_and_score\n",
      "    estimator.fit(X_train, y_train, **fit_params)\n",
      "  File \"/opt/anaconda3/lib/python3.9/site-packages/sklearn/linear_model/_logistic.py\", line 1306, in fit\n",
      "    solver = _check_solver(self.solver, self.penalty, self.dual)\n",
      "  File \"/opt/anaconda3/lib/python3.9/site-packages/sklearn/linear_model/_logistic.py\", line 443, in _check_solver\n",
      "    raise ValueError(\"Solver %s supports only 'l2' or 'none' penalties, \"\n",
      "ValueError: Solver lbfgs supports only 'l2' or 'none' penalties, got l1 penalty.\n",
      "\n",
      "  warnings.warn(\"Estimator fit failed. The score on this train-test\"\n",
      "/opt/anaconda3/lib/python3.9/site-packages/sklearn/model_selection/_validation.py:615: FitFailedWarning: Estimator fit failed. The score on this train-test partition for these parameters will be set to nan. Details: \n",
      "Traceback (most recent call last):\n",
      "  File \"/opt/anaconda3/lib/python3.9/site-packages/sklearn/model_selection/_validation.py\", line 598, in _fit_and_score\n",
      "    estimator.fit(X_train, y_train, **fit_params)\n",
      "  File \"/opt/anaconda3/lib/python3.9/site-packages/sklearn/linear_model/_logistic.py\", line 1306, in fit\n",
      "    solver = _check_solver(self.solver, self.penalty, self.dual)\n",
      "  File \"/opt/anaconda3/lib/python3.9/site-packages/sklearn/linear_model/_logistic.py\", line 443, in _check_solver\n",
      "    raise ValueError(\"Solver %s supports only 'l2' or 'none' penalties, \"\n",
      "ValueError: Solver lbfgs supports only 'l2' or 'none' penalties, got l1 penalty.\n",
      "\n",
      "  warnings.warn(\"Estimator fit failed. The score on this train-test\"\n",
      "/opt/anaconda3/lib/python3.9/site-packages/sklearn/model_selection/_validation.py:615: FitFailedWarning: Estimator fit failed. The score on this train-test partition for these parameters will be set to nan. Details: \n",
      "Traceback (most recent call last):\n",
      "  File \"/opt/anaconda3/lib/python3.9/site-packages/sklearn/model_selection/_validation.py\", line 598, in _fit_and_score\n",
      "    estimator.fit(X_train, y_train, **fit_params)\n",
      "  File \"/opt/anaconda3/lib/python3.9/site-packages/sklearn/linear_model/_logistic.py\", line 1306, in fit\n",
      "    solver = _check_solver(self.solver, self.penalty, self.dual)\n",
      "  File \"/opt/anaconda3/lib/python3.9/site-packages/sklearn/linear_model/_logistic.py\", line 443, in _check_solver\n",
      "    raise ValueError(\"Solver %s supports only 'l2' or 'none' penalties, \"\n",
      "ValueError: Solver lbfgs supports only 'l2' or 'none' penalties, got l1 penalty.\n",
      "\n",
      "  warnings.warn(\"Estimator fit failed. The score on this train-test\"\n",
      "/opt/anaconda3/lib/python3.9/site-packages/sklearn/model_selection/_validation.py:615: FitFailedWarning: Estimator fit failed. The score on this train-test partition for these parameters will be set to nan. Details: \n",
      "Traceback (most recent call last):\n",
      "  File \"/opt/anaconda3/lib/python3.9/site-packages/sklearn/model_selection/_validation.py\", line 598, in _fit_and_score\n",
      "    estimator.fit(X_train, y_train, **fit_params)\n",
      "  File \"/opt/anaconda3/lib/python3.9/site-packages/sklearn/linear_model/_logistic.py\", line 1306, in fit\n",
      "    solver = _check_solver(self.solver, self.penalty, self.dual)\n",
      "  File \"/opt/anaconda3/lib/python3.9/site-packages/sklearn/linear_model/_logistic.py\", line 443, in _check_solver\n",
      "    raise ValueError(\"Solver %s supports only 'l2' or 'none' penalties, \"\n",
      "ValueError: Solver lbfgs supports only 'l2' or 'none' penalties, got l1 penalty.\n",
      "\n",
      "  warnings.warn(\"Estimator fit failed. The score on this train-test\"\n",
      "/opt/anaconda3/lib/python3.9/site-packages/sklearn/model_selection/_validation.py:615: FitFailedWarning: Estimator fit failed. The score on this train-test partition for these parameters will be set to nan. Details: \n",
      "Traceback (most recent call last):\n",
      "  File \"/opt/anaconda3/lib/python3.9/site-packages/sklearn/model_selection/_validation.py\", line 598, in _fit_and_score\n",
      "    estimator.fit(X_train, y_train, **fit_params)\n",
      "  File \"/opt/anaconda3/lib/python3.9/site-packages/sklearn/linear_model/_logistic.py\", line 1306, in fit\n",
      "    solver = _check_solver(self.solver, self.penalty, self.dual)\n",
      "  File \"/opt/anaconda3/lib/python3.9/site-packages/sklearn/linear_model/_logistic.py\", line 443, in _check_solver\n",
      "    raise ValueError(\"Solver %s supports only 'l2' or 'none' penalties, \"\n",
      "ValueError: Solver lbfgs supports only 'l2' or 'none' penalties, got l1 penalty.\n",
      "\n",
      "  warnings.warn(\"Estimator fit failed. The score on this train-test\"\n",
      "/opt/anaconda3/lib/python3.9/site-packages/sklearn/model_selection/_validation.py:615: FitFailedWarning: Estimator fit failed. The score on this train-test partition for these parameters will be set to nan. Details: \n",
      "Traceback (most recent call last):\n",
      "  File \"/opt/anaconda3/lib/python3.9/site-packages/sklearn/model_selection/_validation.py\", line 598, in _fit_and_score\n",
      "    estimator.fit(X_train, y_train, **fit_params)\n",
      "  File \"/opt/anaconda3/lib/python3.9/site-packages/sklearn/linear_model/_logistic.py\", line 1306, in fit\n",
      "    solver = _check_solver(self.solver, self.penalty, self.dual)\n",
      "  File \"/opt/anaconda3/lib/python3.9/site-packages/sklearn/linear_model/_logistic.py\", line 443, in _check_solver\n",
      "    raise ValueError(\"Solver %s supports only 'l2' or 'none' penalties, \"\n",
      "ValueError: Solver lbfgs supports only 'l2' or 'none' penalties, got l1 penalty.\n",
      "\n",
      "  warnings.warn(\"Estimator fit failed. The score on this train-test\"\n",
      "/opt/anaconda3/lib/python3.9/site-packages/sklearn/model_selection/_validation.py:615: FitFailedWarning: Estimator fit failed. The score on this train-test partition for these parameters will be set to nan. Details: \n",
      "Traceback (most recent call last):\n",
      "  File \"/opt/anaconda3/lib/python3.9/site-packages/sklearn/model_selection/_validation.py\", line 598, in _fit_and_score\n",
      "    estimator.fit(X_train, y_train, **fit_params)\n",
      "  File \"/opt/anaconda3/lib/python3.9/site-packages/sklearn/linear_model/_logistic.py\", line 1306, in fit\n",
      "    solver = _check_solver(self.solver, self.penalty, self.dual)\n",
      "  File \"/opt/anaconda3/lib/python3.9/site-packages/sklearn/linear_model/_logistic.py\", line 443, in _check_solver\n",
      "    raise ValueError(\"Solver %s supports only 'l2' or 'none' penalties, \"\n",
      "ValueError: Solver lbfgs supports only 'l2' or 'none' penalties, got l1 penalty.\n",
      "\n",
      "  warnings.warn(\"Estimator fit failed. The score on this train-test\"\n",
      "/opt/anaconda3/lib/python3.9/site-packages/sklearn/model_selection/_validation.py:615: FitFailedWarning: Estimator fit failed. The score on this train-test partition for these parameters will be set to nan. Details: \n",
      "Traceback (most recent call last):\n",
      "  File \"/opt/anaconda3/lib/python3.9/site-packages/sklearn/model_selection/_validation.py\", line 598, in _fit_and_score\n",
      "    estimator.fit(X_train, y_train, **fit_params)\n",
      "  File \"/opt/anaconda3/lib/python3.9/site-packages/sklearn/linear_model/_logistic.py\", line 1306, in fit\n",
      "    solver = _check_solver(self.solver, self.penalty, self.dual)\n",
      "  File \"/opt/anaconda3/lib/python3.9/site-packages/sklearn/linear_model/_logistic.py\", line 443, in _check_solver\n",
      "    raise ValueError(\"Solver %s supports only 'l2' or 'none' penalties, \"\n",
      "ValueError: Solver lbfgs supports only 'l2' or 'none' penalties, got l1 penalty.\n",
      "\n",
      "  warnings.warn(\"Estimator fit failed. The score on this train-test\"\n",
      "/opt/anaconda3/lib/python3.9/site-packages/sklearn/model_selection/_validation.py:615: FitFailedWarning: Estimator fit failed. The score on this train-test partition for these parameters will be set to nan. Details: \n",
      "Traceback (most recent call last):\n",
      "  File \"/opt/anaconda3/lib/python3.9/site-packages/sklearn/model_selection/_validation.py\", line 598, in _fit_and_score\n",
      "    estimator.fit(X_train, y_train, **fit_params)\n",
      "  File \"/opt/anaconda3/lib/python3.9/site-packages/sklearn/linear_model/_logistic.py\", line 1306, in fit\n",
      "    solver = _check_solver(self.solver, self.penalty, self.dual)\n",
      "  File \"/opt/anaconda3/lib/python3.9/site-packages/sklearn/linear_model/_logistic.py\", line 443, in _check_solver\n",
      "    raise ValueError(\"Solver %s supports only 'l2' or 'none' penalties, \"\n",
      "ValueError: Solver lbfgs supports only 'l2' or 'none' penalties, got l1 penalty.\n",
      "\n",
      "  warnings.warn(\"Estimator fit failed. The score on this train-test\"\n",
      "/opt/anaconda3/lib/python3.9/site-packages/sklearn/model_selection/_validation.py:615: FitFailedWarning: Estimator fit failed. The score on this train-test partition for these parameters will be set to nan. Details: \n",
      "Traceback (most recent call last):\n",
      "  File \"/opt/anaconda3/lib/python3.9/site-packages/sklearn/model_selection/_validation.py\", line 598, in _fit_and_score\n",
      "    estimator.fit(X_train, y_train, **fit_params)\n",
      "  File \"/opt/anaconda3/lib/python3.9/site-packages/sklearn/linear_model/_logistic.py\", line 1306, in fit\n",
      "    solver = _check_solver(self.solver, self.penalty, self.dual)\n",
      "  File \"/opt/anaconda3/lib/python3.9/site-packages/sklearn/linear_model/_logistic.py\", line 443, in _check_solver\n",
      "    raise ValueError(\"Solver %s supports only 'l2' or 'none' penalties, \"\n",
      "ValueError: Solver lbfgs supports only 'l2' or 'none' penalties, got l1 penalty.\n",
      "\n",
      "  warnings.warn(\"Estimator fit failed. The score on this train-test\"\n",
      "/opt/anaconda3/lib/python3.9/site-packages/sklearn/model_selection/_validation.py:615: FitFailedWarning: Estimator fit failed. The score on this train-test partition for these parameters will be set to nan. Details: \n",
      "Traceback (most recent call last):\n",
      "  File \"/opt/anaconda3/lib/python3.9/site-packages/sklearn/model_selection/_validation.py\", line 598, in _fit_and_score\n",
      "    estimator.fit(X_train, y_train, **fit_params)\n",
      "  File \"/opt/anaconda3/lib/python3.9/site-packages/sklearn/linear_model/_logistic.py\", line 1306, in fit\n",
      "    solver = _check_solver(self.solver, self.penalty, self.dual)\n",
      "  File \"/opt/anaconda3/lib/python3.9/site-packages/sklearn/linear_model/_logistic.py\", line 443, in _check_solver\n",
      "    raise ValueError(\"Solver %s supports only 'l2' or 'none' penalties, \"\n",
      "ValueError: Solver lbfgs supports only 'l2' or 'none' penalties, got l1 penalty.\n",
      "\n",
      "  warnings.warn(\"Estimator fit failed. The score on this train-test\"\n",
      "/opt/anaconda3/lib/python3.9/site-packages/sklearn/model_selection/_validation.py:615: FitFailedWarning: Estimator fit failed. The score on this train-test partition for these parameters will be set to nan. Details: \n",
      "Traceback (most recent call last):\n",
      "  File \"/opt/anaconda3/lib/python3.9/site-packages/sklearn/model_selection/_validation.py\", line 598, in _fit_and_score\n",
      "    estimator.fit(X_train, y_train, **fit_params)\n",
      "  File \"/opt/anaconda3/lib/python3.9/site-packages/sklearn/linear_model/_logistic.py\", line 1306, in fit\n",
      "    solver = _check_solver(self.solver, self.penalty, self.dual)\n",
      "  File \"/opt/anaconda3/lib/python3.9/site-packages/sklearn/linear_model/_logistic.py\", line 443, in _check_solver\n",
      "    raise ValueError(\"Solver %s supports only 'l2' or 'none' penalties, \"\n",
      "ValueError: Solver lbfgs supports only 'l2' or 'none' penalties, got l1 penalty.\n",
      "\n",
      "  warnings.warn(\"Estimator fit failed. The score on this train-test\"\n",
      "/opt/anaconda3/lib/python3.9/site-packages/sklearn/model_selection/_validation.py:615: FitFailedWarning: Estimator fit failed. The score on this train-test partition for these parameters will be set to nan. Details: \n",
      "Traceback (most recent call last):\n",
      "  File \"/opt/anaconda3/lib/python3.9/site-packages/sklearn/model_selection/_validation.py\", line 598, in _fit_and_score\n",
      "    estimator.fit(X_train, y_train, **fit_params)\n",
      "  File \"/opt/anaconda3/lib/python3.9/site-packages/sklearn/linear_model/_logistic.py\", line 1306, in fit\n",
      "    solver = _check_solver(self.solver, self.penalty, self.dual)\n",
      "  File \"/opt/anaconda3/lib/python3.9/site-packages/sklearn/linear_model/_logistic.py\", line 443, in _check_solver\n",
      "    raise ValueError(\"Solver %s supports only 'l2' or 'none' penalties, \"\n",
      "ValueError: Solver lbfgs supports only 'l2' or 'none' penalties, got l1 penalty.\n",
      "\n",
      "  warnings.warn(\"Estimator fit failed. The score on this train-test\"\n",
      "/opt/anaconda3/lib/python3.9/site-packages/sklearn/model_selection/_validation.py:615: FitFailedWarning: Estimator fit failed. The score on this train-test partition for these parameters will be set to nan. Details: \n",
      "Traceback (most recent call last):\n",
      "  File \"/opt/anaconda3/lib/python3.9/site-packages/sklearn/model_selection/_validation.py\", line 598, in _fit_and_score\n",
      "    estimator.fit(X_train, y_train, **fit_params)\n",
      "  File \"/opt/anaconda3/lib/python3.9/site-packages/sklearn/linear_model/_logistic.py\", line 1306, in fit\n",
      "    solver = _check_solver(self.solver, self.penalty, self.dual)\n",
      "  File \"/opt/anaconda3/lib/python3.9/site-packages/sklearn/linear_model/_logistic.py\", line 443, in _check_solver\n",
      "    raise ValueError(\"Solver %s supports only 'l2' or 'none' penalties, \"\n",
      "ValueError: Solver lbfgs supports only 'l2' or 'none' penalties, got l1 penalty.\n",
      "\n",
      "  warnings.warn(\"Estimator fit failed. The score on this train-test\"\n",
      "/opt/anaconda3/lib/python3.9/site-packages/sklearn/model_selection/_validation.py:615: FitFailedWarning: Estimator fit failed. The score on this train-test partition for these parameters will be set to nan. Details: \n",
      "Traceback (most recent call last):\n",
      "  File \"/opt/anaconda3/lib/python3.9/site-packages/sklearn/model_selection/_validation.py\", line 598, in _fit_and_score\n",
      "    estimator.fit(X_train, y_train, **fit_params)\n",
      "  File \"/opt/anaconda3/lib/python3.9/site-packages/sklearn/linear_model/_logistic.py\", line 1306, in fit\n",
      "    solver = _check_solver(self.solver, self.penalty, self.dual)\n",
      "  File \"/opt/anaconda3/lib/python3.9/site-packages/sklearn/linear_model/_logistic.py\", line 443, in _check_solver\n",
      "    raise ValueError(\"Solver %s supports only 'l2' or 'none' penalties, \"\n",
      "ValueError: Solver lbfgs supports only 'l2' or 'none' penalties, got l1 penalty.\n",
      "\n",
      "  warnings.warn(\"Estimator fit failed. The score on this train-test\"\n",
      "/opt/anaconda3/lib/python3.9/site-packages/sklearn/model_selection/_validation.py:615: FitFailedWarning: Estimator fit failed. The score on this train-test partition for these parameters will be set to nan. Details: \n",
      "Traceback (most recent call last):\n",
      "  File \"/opt/anaconda3/lib/python3.9/site-packages/sklearn/model_selection/_validation.py\", line 598, in _fit_and_score\n",
      "    estimator.fit(X_train, y_train, **fit_params)\n",
      "  File \"/opt/anaconda3/lib/python3.9/site-packages/sklearn/linear_model/_logistic.py\", line 1306, in fit\n",
      "    solver = _check_solver(self.solver, self.penalty, self.dual)\n",
      "  File \"/opt/anaconda3/lib/python3.9/site-packages/sklearn/linear_model/_logistic.py\", line 443, in _check_solver\n",
      "    raise ValueError(\"Solver %s supports only 'l2' or 'none' penalties, \"\n",
      "ValueError: Solver lbfgs supports only 'l2' or 'none' penalties, got l1 penalty.\n",
      "\n",
      "  warnings.warn(\"Estimator fit failed. The score on this train-test\"\n"
     ]
    },
    {
     "name": "stderr",
     "output_type": "stream",
     "text": [
      "/opt/anaconda3/lib/python3.9/site-packages/sklearn/model_selection/_validation.py:615: FitFailedWarning: Estimator fit failed. The score on this train-test partition for these parameters will be set to nan. Details: \n",
      "Traceback (most recent call last):\n",
      "  File \"/opt/anaconda3/lib/python3.9/site-packages/sklearn/model_selection/_validation.py\", line 598, in _fit_and_score\n",
      "    estimator.fit(X_train, y_train, **fit_params)\n",
      "  File \"/opt/anaconda3/lib/python3.9/site-packages/sklearn/linear_model/_logistic.py\", line 1306, in fit\n",
      "    solver = _check_solver(self.solver, self.penalty, self.dual)\n",
      "  File \"/opt/anaconda3/lib/python3.9/site-packages/sklearn/linear_model/_logistic.py\", line 443, in _check_solver\n",
      "    raise ValueError(\"Solver %s supports only 'l2' or 'none' penalties, \"\n",
      "ValueError: Solver lbfgs supports only 'l2' or 'none' penalties, got l1 penalty.\n",
      "\n",
      "  warnings.warn(\"Estimator fit failed. The score on this train-test\"\n",
      "/opt/anaconda3/lib/python3.9/site-packages/sklearn/model_selection/_validation.py:615: FitFailedWarning: Estimator fit failed. The score on this train-test partition for these parameters will be set to nan. Details: \n",
      "Traceback (most recent call last):\n",
      "  File \"/opt/anaconda3/lib/python3.9/site-packages/sklearn/model_selection/_validation.py\", line 598, in _fit_and_score\n",
      "    estimator.fit(X_train, y_train, **fit_params)\n",
      "  File \"/opt/anaconda3/lib/python3.9/site-packages/sklearn/linear_model/_logistic.py\", line 1306, in fit\n",
      "    solver = _check_solver(self.solver, self.penalty, self.dual)\n",
      "  File \"/opt/anaconda3/lib/python3.9/site-packages/sklearn/linear_model/_logistic.py\", line 443, in _check_solver\n",
      "    raise ValueError(\"Solver %s supports only 'l2' or 'none' penalties, \"\n",
      "ValueError: Solver lbfgs supports only 'l2' or 'none' penalties, got l1 penalty.\n",
      "\n",
      "  warnings.warn(\"Estimator fit failed. The score on this train-test\"\n",
      "/opt/anaconda3/lib/python3.9/site-packages/sklearn/model_selection/_validation.py:615: FitFailedWarning: Estimator fit failed. The score on this train-test partition for these parameters will be set to nan. Details: \n",
      "Traceback (most recent call last):\n",
      "  File \"/opt/anaconda3/lib/python3.9/site-packages/sklearn/model_selection/_validation.py\", line 598, in _fit_and_score\n",
      "    estimator.fit(X_train, y_train, **fit_params)\n",
      "  File \"/opt/anaconda3/lib/python3.9/site-packages/sklearn/linear_model/_logistic.py\", line 1306, in fit\n",
      "    solver = _check_solver(self.solver, self.penalty, self.dual)\n",
      "  File \"/opt/anaconda3/lib/python3.9/site-packages/sklearn/linear_model/_logistic.py\", line 443, in _check_solver\n",
      "    raise ValueError(\"Solver %s supports only 'l2' or 'none' penalties, \"\n",
      "ValueError: Solver lbfgs supports only 'l2' or 'none' penalties, got l1 penalty.\n",
      "\n",
      "  warnings.warn(\"Estimator fit failed. The score on this train-test\"\n",
      "/opt/anaconda3/lib/python3.9/site-packages/sklearn/model_selection/_validation.py:615: FitFailedWarning: Estimator fit failed. The score on this train-test partition for these parameters will be set to nan. Details: \n",
      "Traceback (most recent call last):\n",
      "  File \"/opt/anaconda3/lib/python3.9/site-packages/sklearn/model_selection/_validation.py\", line 598, in _fit_and_score\n",
      "    estimator.fit(X_train, y_train, **fit_params)\n",
      "  File \"/opt/anaconda3/lib/python3.9/site-packages/sklearn/linear_model/_logistic.py\", line 1306, in fit\n",
      "    solver = _check_solver(self.solver, self.penalty, self.dual)\n",
      "  File \"/opt/anaconda3/lib/python3.9/site-packages/sklearn/linear_model/_logistic.py\", line 443, in _check_solver\n",
      "    raise ValueError(\"Solver %s supports only 'l2' or 'none' penalties, \"\n",
      "ValueError: Solver lbfgs supports only 'l2' or 'none' penalties, got l1 penalty.\n",
      "\n",
      "  warnings.warn(\"Estimator fit failed. The score on this train-test\"\n",
      "/opt/anaconda3/lib/python3.9/site-packages/sklearn/model_selection/_validation.py:615: FitFailedWarning: Estimator fit failed. The score on this train-test partition for these parameters will be set to nan. Details: \n",
      "Traceback (most recent call last):\n",
      "  File \"/opt/anaconda3/lib/python3.9/site-packages/sklearn/model_selection/_validation.py\", line 598, in _fit_and_score\n",
      "    estimator.fit(X_train, y_train, **fit_params)\n",
      "  File \"/opt/anaconda3/lib/python3.9/site-packages/sklearn/linear_model/_logistic.py\", line 1306, in fit\n",
      "    solver = _check_solver(self.solver, self.penalty, self.dual)\n",
      "  File \"/opt/anaconda3/lib/python3.9/site-packages/sklearn/linear_model/_logistic.py\", line 443, in _check_solver\n",
      "    raise ValueError(\"Solver %s supports only 'l2' or 'none' penalties, \"\n",
      "ValueError: Solver lbfgs supports only 'l2' or 'none' penalties, got l1 penalty.\n",
      "\n",
      "  warnings.warn(\"Estimator fit failed. The score on this train-test\"\n",
      "/opt/anaconda3/lib/python3.9/site-packages/sklearn/model_selection/_validation.py:615: FitFailedWarning: Estimator fit failed. The score on this train-test partition for these parameters will be set to nan. Details: \n",
      "Traceback (most recent call last):\n",
      "  File \"/opt/anaconda3/lib/python3.9/site-packages/sklearn/model_selection/_validation.py\", line 598, in _fit_and_score\n",
      "    estimator.fit(X_train, y_train, **fit_params)\n",
      "  File \"/opt/anaconda3/lib/python3.9/site-packages/sklearn/linear_model/_logistic.py\", line 1306, in fit\n",
      "    solver = _check_solver(self.solver, self.penalty, self.dual)\n",
      "  File \"/opt/anaconda3/lib/python3.9/site-packages/sklearn/linear_model/_logistic.py\", line 443, in _check_solver\n",
      "    raise ValueError(\"Solver %s supports only 'l2' or 'none' penalties, \"\n",
      "ValueError: Solver lbfgs supports only 'l2' or 'none' penalties, got l1 penalty.\n",
      "\n",
      "  warnings.warn(\"Estimator fit failed. The score on this train-test\"\n",
      "/opt/anaconda3/lib/python3.9/site-packages/sklearn/model_selection/_validation.py:615: FitFailedWarning: Estimator fit failed. The score on this train-test partition for these parameters will be set to nan. Details: \n",
      "Traceback (most recent call last):\n",
      "  File \"/opt/anaconda3/lib/python3.9/site-packages/sklearn/model_selection/_validation.py\", line 598, in _fit_and_score\n",
      "    estimator.fit(X_train, y_train, **fit_params)\n",
      "  File \"/opt/anaconda3/lib/python3.9/site-packages/sklearn/linear_model/_logistic.py\", line 1306, in fit\n",
      "    solver = _check_solver(self.solver, self.penalty, self.dual)\n",
      "  File \"/opt/anaconda3/lib/python3.9/site-packages/sklearn/linear_model/_logistic.py\", line 443, in _check_solver\n",
      "    raise ValueError(\"Solver %s supports only 'l2' or 'none' penalties, \"\n",
      "ValueError: Solver lbfgs supports only 'l2' or 'none' penalties, got l1 penalty.\n",
      "\n",
      "  warnings.warn(\"Estimator fit failed. The score on this train-test\"\n",
      "/opt/anaconda3/lib/python3.9/site-packages/sklearn/model_selection/_validation.py:615: FitFailedWarning: Estimator fit failed. The score on this train-test partition for these parameters will be set to nan. Details: \n",
      "Traceback (most recent call last):\n",
      "  File \"/opt/anaconda3/lib/python3.9/site-packages/sklearn/model_selection/_validation.py\", line 598, in _fit_and_score\n",
      "    estimator.fit(X_train, y_train, **fit_params)\n",
      "  File \"/opt/anaconda3/lib/python3.9/site-packages/sklearn/linear_model/_logistic.py\", line 1306, in fit\n",
      "    solver = _check_solver(self.solver, self.penalty, self.dual)\n",
      "  File \"/opt/anaconda3/lib/python3.9/site-packages/sklearn/linear_model/_logistic.py\", line 443, in _check_solver\n",
      "    raise ValueError(\"Solver %s supports only 'l2' or 'none' penalties, \"\n",
      "ValueError: Solver lbfgs supports only 'l2' or 'none' penalties, got l1 penalty.\n",
      "\n",
      "  warnings.warn(\"Estimator fit failed. The score on this train-test\"\n",
      "/opt/anaconda3/lib/python3.9/site-packages/sklearn/model_selection/_validation.py:615: FitFailedWarning: Estimator fit failed. The score on this train-test partition for these parameters will be set to nan. Details: \n",
      "Traceback (most recent call last):\n",
      "  File \"/opt/anaconda3/lib/python3.9/site-packages/sklearn/model_selection/_validation.py\", line 598, in _fit_and_score\n",
      "    estimator.fit(X_train, y_train, **fit_params)\n",
      "  File \"/opt/anaconda3/lib/python3.9/site-packages/sklearn/linear_model/_logistic.py\", line 1306, in fit\n",
      "    solver = _check_solver(self.solver, self.penalty, self.dual)\n",
      "  File \"/opt/anaconda3/lib/python3.9/site-packages/sklearn/linear_model/_logistic.py\", line 443, in _check_solver\n",
      "    raise ValueError(\"Solver %s supports only 'l2' or 'none' penalties, \"\n",
      "ValueError: Solver lbfgs supports only 'l2' or 'none' penalties, got l1 penalty.\n",
      "\n",
      "  warnings.warn(\"Estimator fit failed. The score on this train-test\"\n",
      "/opt/anaconda3/lib/python3.9/site-packages/sklearn/model_selection/_validation.py:615: FitFailedWarning: Estimator fit failed. The score on this train-test partition for these parameters will be set to nan. Details: \n",
      "Traceback (most recent call last):\n",
      "  File \"/opt/anaconda3/lib/python3.9/site-packages/sklearn/model_selection/_validation.py\", line 598, in _fit_and_score\n",
      "    estimator.fit(X_train, y_train, **fit_params)\n",
      "  File \"/opt/anaconda3/lib/python3.9/site-packages/sklearn/linear_model/_logistic.py\", line 1306, in fit\n",
      "    solver = _check_solver(self.solver, self.penalty, self.dual)\n",
      "  File \"/opt/anaconda3/lib/python3.9/site-packages/sklearn/linear_model/_logistic.py\", line 443, in _check_solver\n",
      "    raise ValueError(\"Solver %s supports only 'l2' or 'none' penalties, \"\n",
      "ValueError: Solver lbfgs supports only 'l2' or 'none' penalties, got l1 penalty.\n",
      "\n",
      "  warnings.warn(\"Estimator fit failed. The score on this train-test\"\n",
      "/opt/anaconda3/lib/python3.9/site-packages/sklearn/model_selection/_validation.py:615: FitFailedWarning: Estimator fit failed. The score on this train-test partition for these parameters will be set to nan. Details: \n",
      "Traceback (most recent call last):\n",
      "  File \"/opt/anaconda3/lib/python3.9/site-packages/sklearn/model_selection/_validation.py\", line 598, in _fit_and_score\n",
      "    estimator.fit(X_train, y_train, **fit_params)\n",
      "  File \"/opt/anaconda3/lib/python3.9/site-packages/sklearn/linear_model/_logistic.py\", line 1306, in fit\n",
      "    solver = _check_solver(self.solver, self.penalty, self.dual)\n",
      "  File \"/opt/anaconda3/lib/python3.9/site-packages/sklearn/linear_model/_logistic.py\", line 443, in _check_solver\n",
      "    raise ValueError(\"Solver %s supports only 'l2' or 'none' penalties, \"\n",
      "ValueError: Solver lbfgs supports only 'l2' or 'none' penalties, got l1 penalty.\n",
      "\n",
      "  warnings.warn(\"Estimator fit failed. The score on this train-test\"\n",
      "/opt/anaconda3/lib/python3.9/site-packages/sklearn/model_selection/_validation.py:615: FitFailedWarning: Estimator fit failed. The score on this train-test partition for these parameters will be set to nan. Details: \n",
      "Traceback (most recent call last):\n",
      "  File \"/opt/anaconda3/lib/python3.9/site-packages/sklearn/model_selection/_validation.py\", line 598, in _fit_and_score\n",
      "    estimator.fit(X_train, y_train, **fit_params)\n",
      "  File \"/opt/anaconda3/lib/python3.9/site-packages/sklearn/linear_model/_logistic.py\", line 1306, in fit\n",
      "    solver = _check_solver(self.solver, self.penalty, self.dual)\n",
      "  File \"/opt/anaconda3/lib/python3.9/site-packages/sklearn/linear_model/_logistic.py\", line 443, in _check_solver\n",
      "    raise ValueError(\"Solver %s supports only 'l2' or 'none' penalties, \"\n",
      "ValueError: Solver lbfgs supports only 'l2' or 'none' penalties, got l1 penalty.\n",
      "\n",
      "  warnings.warn(\"Estimator fit failed. The score on this train-test\"\n",
      "/opt/anaconda3/lib/python3.9/site-packages/sklearn/model_selection/_validation.py:615: FitFailedWarning: Estimator fit failed. The score on this train-test partition for these parameters will be set to nan. Details: \n",
      "Traceback (most recent call last):\n",
      "  File \"/opt/anaconda3/lib/python3.9/site-packages/sklearn/model_selection/_validation.py\", line 598, in _fit_and_score\n",
      "    estimator.fit(X_train, y_train, **fit_params)\n",
      "  File \"/opt/anaconda3/lib/python3.9/site-packages/sklearn/linear_model/_logistic.py\", line 1306, in fit\n",
      "    solver = _check_solver(self.solver, self.penalty, self.dual)\n",
      "  File \"/opt/anaconda3/lib/python3.9/site-packages/sklearn/linear_model/_logistic.py\", line 443, in _check_solver\n",
      "    raise ValueError(\"Solver %s supports only 'l2' or 'none' penalties, \"\n",
      "ValueError: Solver lbfgs supports only 'l2' or 'none' penalties, got l1 penalty.\n",
      "\n",
      "  warnings.warn(\"Estimator fit failed. The score on this train-test\"\n",
      "/opt/anaconda3/lib/python3.9/site-packages/sklearn/model_selection/_validation.py:615: FitFailedWarning: Estimator fit failed. The score on this train-test partition for these parameters will be set to nan. Details: \n",
      "Traceback (most recent call last):\n",
      "  File \"/opt/anaconda3/lib/python3.9/site-packages/sklearn/model_selection/_validation.py\", line 598, in _fit_and_score\n",
      "    estimator.fit(X_train, y_train, **fit_params)\n",
      "  File \"/opt/anaconda3/lib/python3.9/site-packages/sklearn/linear_model/_logistic.py\", line 1306, in fit\n",
      "    solver = _check_solver(self.solver, self.penalty, self.dual)\n",
      "  File \"/opt/anaconda3/lib/python3.9/site-packages/sklearn/linear_model/_logistic.py\", line 443, in _check_solver\n",
      "    raise ValueError(\"Solver %s supports only 'l2' or 'none' penalties, \"\n",
      "ValueError: Solver lbfgs supports only 'l2' or 'none' penalties, got l1 penalty.\n",
      "\n",
      "  warnings.warn(\"Estimator fit failed. The score on this train-test\"\n",
      "/opt/anaconda3/lib/python3.9/site-packages/sklearn/model_selection/_validation.py:615: FitFailedWarning: Estimator fit failed. The score on this train-test partition for these parameters will be set to nan. Details: \n",
      "Traceback (most recent call last):\n",
      "  File \"/opt/anaconda3/lib/python3.9/site-packages/sklearn/model_selection/_validation.py\", line 598, in _fit_and_score\n",
      "    estimator.fit(X_train, y_train, **fit_params)\n",
      "  File \"/opt/anaconda3/lib/python3.9/site-packages/sklearn/linear_model/_logistic.py\", line 1306, in fit\n",
      "    solver = _check_solver(self.solver, self.penalty, self.dual)\n",
      "  File \"/opt/anaconda3/lib/python3.9/site-packages/sklearn/linear_model/_logistic.py\", line 443, in _check_solver\n",
      "    raise ValueError(\"Solver %s supports only 'l2' or 'none' penalties, \"\n",
      "ValueError: Solver lbfgs supports only 'l2' or 'none' penalties, got l1 penalty.\n",
      "\n",
      "  warnings.warn(\"Estimator fit failed. The score on this train-test\"\n",
      "/opt/anaconda3/lib/python3.9/site-packages/sklearn/model_selection/_validation.py:615: FitFailedWarning: Estimator fit failed. The score on this train-test partition for these parameters will be set to nan. Details: \n",
      "Traceback (most recent call last):\n",
      "  File \"/opt/anaconda3/lib/python3.9/site-packages/sklearn/model_selection/_validation.py\", line 598, in _fit_and_score\n",
      "    estimator.fit(X_train, y_train, **fit_params)\n",
      "  File \"/opt/anaconda3/lib/python3.9/site-packages/sklearn/linear_model/_logistic.py\", line 1306, in fit\n",
      "    solver = _check_solver(self.solver, self.penalty, self.dual)\n",
      "  File \"/opt/anaconda3/lib/python3.9/site-packages/sklearn/linear_model/_logistic.py\", line 443, in _check_solver\n",
      "    raise ValueError(\"Solver %s supports only 'l2' or 'none' penalties, \"\n",
      "ValueError: Solver lbfgs supports only 'l2' or 'none' penalties, got l1 penalty.\n",
      "\n",
      "  warnings.warn(\"Estimator fit failed. The score on this train-test\"\n",
      "/opt/anaconda3/lib/python3.9/site-packages/sklearn/model_selection/_validation.py:615: FitFailedWarning: Estimator fit failed. The score on this train-test partition for these parameters will be set to nan. Details: \n",
      "Traceback (most recent call last):\n",
      "  File \"/opt/anaconda3/lib/python3.9/site-packages/sklearn/model_selection/_validation.py\", line 598, in _fit_and_score\n",
      "    estimator.fit(X_train, y_train, **fit_params)\n",
      "  File \"/opt/anaconda3/lib/python3.9/site-packages/sklearn/linear_model/_logistic.py\", line 1306, in fit\n",
      "    solver = _check_solver(self.solver, self.penalty, self.dual)\n",
      "  File \"/opt/anaconda3/lib/python3.9/site-packages/sklearn/linear_model/_logistic.py\", line 443, in _check_solver\n",
      "    raise ValueError(\"Solver %s supports only 'l2' or 'none' penalties, \"\n",
      "ValueError: Solver lbfgs supports only 'l2' or 'none' penalties, got l1 penalty.\n",
      "\n",
      "  warnings.warn(\"Estimator fit failed. The score on this train-test\"\n",
      "/opt/anaconda3/lib/python3.9/site-packages/sklearn/model_selection/_validation.py:615: FitFailedWarning: Estimator fit failed. The score on this train-test partition for these parameters will be set to nan. Details: \n",
      "Traceback (most recent call last):\n",
      "  File \"/opt/anaconda3/lib/python3.9/site-packages/sklearn/model_selection/_validation.py\", line 598, in _fit_and_score\n",
      "    estimator.fit(X_train, y_train, **fit_params)\n",
      "  File \"/opt/anaconda3/lib/python3.9/site-packages/sklearn/linear_model/_logistic.py\", line 1306, in fit\n",
      "    solver = _check_solver(self.solver, self.penalty, self.dual)\n",
      "  File \"/opt/anaconda3/lib/python3.9/site-packages/sklearn/linear_model/_logistic.py\", line 443, in _check_solver\n",
      "    raise ValueError(\"Solver %s supports only 'l2' or 'none' penalties, \"\n",
      "ValueError: Solver lbfgs supports only 'l2' or 'none' penalties, got l1 penalty.\n",
      "\n",
      "  warnings.warn(\"Estimator fit failed. The score on this train-test\"\n",
      "/opt/anaconda3/lib/python3.9/site-packages/sklearn/model_selection/_validation.py:615: FitFailedWarning: Estimator fit failed. The score on this train-test partition for these parameters will be set to nan. Details: \n",
      "Traceback (most recent call last):\n",
      "  File \"/opt/anaconda3/lib/python3.9/site-packages/sklearn/model_selection/_validation.py\", line 598, in _fit_and_score\n",
      "    estimator.fit(X_train, y_train, **fit_params)\n",
      "  File \"/opt/anaconda3/lib/python3.9/site-packages/sklearn/linear_model/_logistic.py\", line 1306, in fit\n",
      "    solver = _check_solver(self.solver, self.penalty, self.dual)\n",
      "  File \"/opt/anaconda3/lib/python3.9/site-packages/sklearn/linear_model/_logistic.py\", line 443, in _check_solver\n",
      "    raise ValueError(\"Solver %s supports only 'l2' or 'none' penalties, \"\n",
      "ValueError: Solver lbfgs supports only 'l2' or 'none' penalties, got l1 penalty.\n",
      "\n",
      "  warnings.warn(\"Estimator fit failed. The score on this train-test\"\n",
      "/opt/anaconda3/lib/python3.9/site-packages/sklearn/model_selection/_validation.py:615: FitFailedWarning: Estimator fit failed. The score on this train-test partition for these parameters will be set to nan. Details: \n",
      "Traceback (most recent call last):\n",
      "  File \"/opt/anaconda3/lib/python3.9/site-packages/sklearn/model_selection/_validation.py\", line 598, in _fit_and_score\n",
      "    estimator.fit(X_train, y_train, **fit_params)\n",
      "  File \"/opt/anaconda3/lib/python3.9/site-packages/sklearn/linear_model/_logistic.py\", line 1306, in fit\n",
      "    solver = _check_solver(self.solver, self.penalty, self.dual)\n",
      "  File \"/opt/anaconda3/lib/python3.9/site-packages/sklearn/linear_model/_logistic.py\", line 443, in _check_solver\n",
      "    raise ValueError(\"Solver %s supports only 'l2' or 'none' penalties, \"\n",
      "ValueError: Solver lbfgs supports only 'l2' or 'none' penalties, got l1 penalty.\n",
      "\n",
      "  warnings.warn(\"Estimator fit failed. The score on this train-test\"\n",
      "/opt/anaconda3/lib/python3.9/site-packages/sklearn/model_selection/_validation.py:615: FitFailedWarning: Estimator fit failed. The score on this train-test partition for these parameters will be set to nan. Details: \n",
      "Traceback (most recent call last):\n",
      "  File \"/opt/anaconda3/lib/python3.9/site-packages/sklearn/model_selection/_validation.py\", line 598, in _fit_and_score\n",
      "    estimator.fit(X_train, y_train, **fit_params)\n",
      "  File \"/opt/anaconda3/lib/python3.9/site-packages/sklearn/linear_model/_logistic.py\", line 1306, in fit\n",
      "    solver = _check_solver(self.solver, self.penalty, self.dual)\n",
      "  File \"/opt/anaconda3/lib/python3.9/site-packages/sklearn/linear_model/_logistic.py\", line 443, in _check_solver\n",
      "    raise ValueError(\"Solver %s supports only 'l2' or 'none' penalties, \"\n",
      "ValueError: Solver lbfgs supports only 'l2' or 'none' penalties, got l1 penalty.\n",
      "\n",
      "  warnings.warn(\"Estimator fit failed. The score on this train-test\"\n",
      "/opt/anaconda3/lib/python3.9/site-packages/sklearn/model_selection/_validation.py:615: FitFailedWarning: Estimator fit failed. The score on this train-test partition for these parameters will be set to nan. Details: \n",
      "Traceback (most recent call last):\n",
      "  File \"/opt/anaconda3/lib/python3.9/site-packages/sklearn/model_selection/_validation.py\", line 598, in _fit_and_score\n",
      "    estimator.fit(X_train, y_train, **fit_params)\n",
      "  File \"/opt/anaconda3/lib/python3.9/site-packages/sklearn/linear_model/_logistic.py\", line 1306, in fit\n",
      "    solver = _check_solver(self.solver, self.penalty, self.dual)\n",
      "  File \"/opt/anaconda3/lib/python3.9/site-packages/sklearn/linear_model/_logistic.py\", line 443, in _check_solver\n",
      "    raise ValueError(\"Solver %s supports only 'l2' or 'none' penalties, \"\n",
      "ValueError: Solver lbfgs supports only 'l2' or 'none' penalties, got l1 penalty.\n",
      "\n",
      "  warnings.warn(\"Estimator fit failed. The score on this train-test\"\n",
      "/opt/anaconda3/lib/python3.9/site-packages/sklearn/model_selection/_validation.py:615: FitFailedWarning: Estimator fit failed. The score on this train-test partition for these parameters will be set to nan. Details: \n",
      "Traceback (most recent call last):\n",
      "  File \"/opt/anaconda3/lib/python3.9/site-packages/sklearn/model_selection/_validation.py\", line 598, in _fit_and_score\n",
      "    estimator.fit(X_train, y_train, **fit_params)\n",
      "  File \"/opt/anaconda3/lib/python3.9/site-packages/sklearn/linear_model/_logistic.py\", line 1306, in fit\n",
      "    solver = _check_solver(self.solver, self.penalty, self.dual)\n",
      "  File \"/opt/anaconda3/lib/python3.9/site-packages/sklearn/linear_model/_logistic.py\", line 443, in _check_solver\n",
      "    raise ValueError(\"Solver %s supports only 'l2' or 'none' penalties, \"\n",
      "ValueError: Solver lbfgs supports only 'l2' or 'none' penalties, got l1 penalty.\n",
      "\n",
      "  warnings.warn(\"Estimator fit failed. The score on this train-test\"\n",
      "/opt/anaconda3/lib/python3.9/site-packages/sklearn/model_selection/_validation.py:615: FitFailedWarning: Estimator fit failed. The score on this train-test partition for these parameters will be set to nan. Details: \n",
      "Traceback (most recent call last):\n",
      "  File \"/opt/anaconda3/lib/python3.9/site-packages/sklearn/model_selection/_validation.py\", line 598, in _fit_and_score\n",
      "    estimator.fit(X_train, y_train, **fit_params)\n",
      "  File \"/opt/anaconda3/lib/python3.9/site-packages/sklearn/linear_model/_logistic.py\", line 1306, in fit\n",
      "    solver = _check_solver(self.solver, self.penalty, self.dual)\n",
      "  File \"/opt/anaconda3/lib/python3.9/site-packages/sklearn/linear_model/_logistic.py\", line 443, in _check_solver\n",
      "    raise ValueError(\"Solver %s supports only 'l2' or 'none' penalties, \"\n",
      "ValueError: Solver lbfgs supports only 'l2' or 'none' penalties, got l1 penalty.\n",
      "\n",
      "  warnings.warn(\"Estimator fit failed. The score on this train-test\"\n",
      "/opt/anaconda3/lib/python3.9/site-packages/sklearn/model_selection/_validation.py:615: FitFailedWarning: Estimator fit failed. The score on this train-test partition for these parameters will be set to nan. Details: \n",
      "Traceback (most recent call last):\n",
      "  File \"/opt/anaconda3/lib/python3.9/site-packages/sklearn/model_selection/_validation.py\", line 598, in _fit_and_score\n",
      "    estimator.fit(X_train, y_train, **fit_params)\n",
      "  File \"/opt/anaconda3/lib/python3.9/site-packages/sklearn/linear_model/_logistic.py\", line 1306, in fit\n",
      "    solver = _check_solver(self.solver, self.penalty, self.dual)\n",
      "  File \"/opt/anaconda3/lib/python3.9/site-packages/sklearn/linear_model/_logistic.py\", line 443, in _check_solver\n",
      "    raise ValueError(\"Solver %s supports only 'l2' or 'none' penalties, \"\n",
      "ValueError: Solver lbfgs supports only 'l2' or 'none' penalties, got l1 penalty.\n",
      "\n",
      "  warnings.warn(\"Estimator fit failed. The score on this train-test\"\n",
      "/opt/anaconda3/lib/python3.9/site-packages/sklearn/model_selection/_validation.py:615: FitFailedWarning: Estimator fit failed. The score on this train-test partition for these parameters will be set to nan. Details: \n",
      "Traceback (most recent call last):\n",
      "  File \"/opt/anaconda3/lib/python3.9/site-packages/sklearn/model_selection/_validation.py\", line 598, in _fit_and_score\n",
      "    estimator.fit(X_train, y_train, **fit_params)\n",
      "  File \"/opt/anaconda3/lib/python3.9/site-packages/sklearn/linear_model/_logistic.py\", line 1306, in fit\n",
      "    solver = _check_solver(self.solver, self.penalty, self.dual)\n",
      "  File \"/opt/anaconda3/lib/python3.9/site-packages/sklearn/linear_model/_logistic.py\", line 443, in _check_solver\n",
      "    raise ValueError(\"Solver %s supports only 'l2' or 'none' penalties, \"\n",
      "ValueError: Solver lbfgs supports only 'l2' or 'none' penalties, got l1 penalty.\n",
      "\n",
      "  warnings.warn(\"Estimator fit failed. The score on this train-test\"\n",
      "/opt/anaconda3/lib/python3.9/site-packages/sklearn/model_selection/_validation.py:615: FitFailedWarning: Estimator fit failed. The score on this train-test partition for these parameters will be set to nan. Details: \n",
      "Traceback (most recent call last):\n",
      "  File \"/opt/anaconda3/lib/python3.9/site-packages/sklearn/model_selection/_validation.py\", line 598, in _fit_and_score\n",
      "    estimator.fit(X_train, y_train, **fit_params)\n",
      "  File \"/opt/anaconda3/lib/python3.9/site-packages/sklearn/linear_model/_logistic.py\", line 1306, in fit\n",
      "    solver = _check_solver(self.solver, self.penalty, self.dual)\n",
      "  File \"/opt/anaconda3/lib/python3.9/site-packages/sklearn/linear_model/_logistic.py\", line 443, in _check_solver\n",
      "    raise ValueError(\"Solver %s supports only 'l2' or 'none' penalties, \"\n",
      "ValueError: Solver lbfgs supports only 'l2' or 'none' penalties, got l1 penalty.\n",
      "\n",
      "  warnings.warn(\"Estimator fit failed. The score on this train-test\"\n",
      "/opt/anaconda3/lib/python3.9/site-packages/sklearn/model_selection/_validation.py:615: FitFailedWarning: Estimator fit failed. The score on this train-test partition for these parameters will be set to nan. Details: \n",
      "Traceback (most recent call last):\n",
      "  File \"/opt/anaconda3/lib/python3.9/site-packages/sklearn/model_selection/_validation.py\", line 598, in _fit_and_score\n",
      "    estimator.fit(X_train, y_train, **fit_params)\n",
      "  File \"/opt/anaconda3/lib/python3.9/site-packages/sklearn/linear_model/_logistic.py\", line 1306, in fit\n",
      "    solver = _check_solver(self.solver, self.penalty, self.dual)\n",
      "  File \"/opt/anaconda3/lib/python3.9/site-packages/sklearn/linear_model/_logistic.py\", line 443, in _check_solver\n",
      "    raise ValueError(\"Solver %s supports only 'l2' or 'none' penalties, \"\n",
      "ValueError: Solver lbfgs supports only 'l2' or 'none' penalties, got l1 penalty.\n",
      "\n",
      "  warnings.warn(\"Estimator fit failed. The score on this train-test\"\n",
      "/opt/anaconda3/lib/python3.9/site-packages/sklearn/model_selection/_validation.py:615: FitFailedWarning: Estimator fit failed. The score on this train-test partition for these parameters will be set to nan. Details: \n",
      "Traceback (most recent call last):\n",
      "  File \"/opt/anaconda3/lib/python3.9/site-packages/sklearn/model_selection/_validation.py\", line 598, in _fit_and_score\n",
      "    estimator.fit(X_train, y_train, **fit_params)\n",
      "  File \"/opt/anaconda3/lib/python3.9/site-packages/sklearn/linear_model/_logistic.py\", line 1306, in fit\n",
      "    solver = _check_solver(self.solver, self.penalty, self.dual)\n",
      "  File \"/opt/anaconda3/lib/python3.9/site-packages/sklearn/linear_model/_logistic.py\", line 443, in _check_solver\n",
      "    raise ValueError(\"Solver %s supports only 'l2' or 'none' penalties, \"\n",
      "ValueError: Solver lbfgs supports only 'l2' or 'none' penalties, got l1 penalty.\n",
      "\n",
      "  warnings.warn(\"Estimator fit failed. The score on this train-test\"\n",
      "/opt/anaconda3/lib/python3.9/site-packages/sklearn/model_selection/_validation.py:615: FitFailedWarning: Estimator fit failed. The score on this train-test partition for these parameters will be set to nan. Details: \n",
      "Traceback (most recent call last):\n",
      "  File \"/opt/anaconda3/lib/python3.9/site-packages/sklearn/model_selection/_validation.py\", line 598, in _fit_and_score\n",
      "    estimator.fit(X_train, y_train, **fit_params)\n",
      "  File \"/opt/anaconda3/lib/python3.9/site-packages/sklearn/linear_model/_logistic.py\", line 1306, in fit\n",
      "    solver = _check_solver(self.solver, self.penalty, self.dual)\n",
      "  File \"/opt/anaconda3/lib/python3.9/site-packages/sklearn/linear_model/_logistic.py\", line 443, in _check_solver\n",
      "    raise ValueError(\"Solver %s supports only 'l2' or 'none' penalties, \"\n",
      "ValueError: Solver lbfgs supports only 'l2' or 'none' penalties, got l1 penalty.\n",
      "\n",
      "  warnings.warn(\"Estimator fit failed. The score on this train-test\"\n",
      "/opt/anaconda3/lib/python3.9/site-packages/sklearn/model_selection/_validation.py:615: FitFailedWarning: Estimator fit failed. The score on this train-test partition for these parameters will be set to nan. Details: \n",
      "Traceback (most recent call last):\n",
      "  File \"/opt/anaconda3/lib/python3.9/site-packages/sklearn/model_selection/_validation.py\", line 598, in _fit_and_score\n",
      "    estimator.fit(X_train, y_train, **fit_params)\n",
      "  File \"/opt/anaconda3/lib/python3.9/site-packages/sklearn/linear_model/_logistic.py\", line 1306, in fit\n",
      "    solver = _check_solver(self.solver, self.penalty, self.dual)\n",
      "  File \"/opt/anaconda3/lib/python3.9/site-packages/sklearn/linear_model/_logistic.py\", line 443, in _check_solver\n",
      "    raise ValueError(\"Solver %s supports only 'l2' or 'none' penalties, \"\n",
      "ValueError: Solver lbfgs supports only 'l2' or 'none' penalties, got l1 penalty.\n",
      "\n",
      "  warnings.warn(\"Estimator fit failed. The score on this train-test\"\n",
      "/opt/anaconda3/lib/python3.9/site-packages/sklearn/model_selection/_validation.py:615: FitFailedWarning: Estimator fit failed. The score on this train-test partition for these parameters will be set to nan. Details: \n",
      "Traceback (most recent call last):\n",
      "  File \"/opt/anaconda3/lib/python3.9/site-packages/sklearn/model_selection/_validation.py\", line 598, in _fit_and_score\n",
      "    estimator.fit(X_train, y_train, **fit_params)\n",
      "  File \"/opt/anaconda3/lib/python3.9/site-packages/sklearn/linear_model/_logistic.py\", line 1306, in fit\n",
      "    solver = _check_solver(self.solver, self.penalty, self.dual)\n",
      "  File \"/opt/anaconda3/lib/python3.9/site-packages/sklearn/linear_model/_logistic.py\", line 443, in _check_solver\n",
      "    raise ValueError(\"Solver %s supports only 'l2' or 'none' penalties, \"\n",
      "ValueError: Solver lbfgs supports only 'l2' or 'none' penalties, got l1 penalty.\n",
      "\n",
      "  warnings.warn(\"Estimator fit failed. The score on this train-test\"\n",
      "/opt/anaconda3/lib/python3.9/site-packages/sklearn/model_selection/_validation.py:615: FitFailedWarning: Estimator fit failed. The score on this train-test partition for these parameters will be set to nan. Details: \n",
      "Traceback (most recent call last):\n",
      "  File \"/opt/anaconda3/lib/python3.9/site-packages/sklearn/model_selection/_validation.py\", line 598, in _fit_and_score\n",
      "    estimator.fit(X_train, y_train, **fit_params)\n",
      "  File \"/opt/anaconda3/lib/python3.9/site-packages/sklearn/linear_model/_logistic.py\", line 1306, in fit\n",
      "    solver = _check_solver(self.solver, self.penalty, self.dual)\n",
      "  File \"/opt/anaconda3/lib/python3.9/site-packages/sklearn/linear_model/_logistic.py\", line 443, in _check_solver\n",
      "    raise ValueError(\"Solver %s supports only 'l2' or 'none' penalties, \"\n",
      "ValueError: Solver lbfgs supports only 'l2' or 'none' penalties, got l1 penalty.\n",
      "\n",
      "  warnings.warn(\"Estimator fit failed. The score on this train-test\"\n",
      "/opt/anaconda3/lib/python3.9/site-packages/sklearn/model_selection/_validation.py:615: FitFailedWarning: Estimator fit failed. The score on this train-test partition for these parameters will be set to nan. Details: \n",
      "Traceback (most recent call last):\n",
      "  File \"/opt/anaconda3/lib/python3.9/site-packages/sklearn/model_selection/_validation.py\", line 598, in _fit_and_score\n",
      "    estimator.fit(X_train, y_train, **fit_params)\n",
      "  File \"/opt/anaconda3/lib/python3.9/site-packages/sklearn/linear_model/_logistic.py\", line 1306, in fit\n",
      "    solver = _check_solver(self.solver, self.penalty, self.dual)\n",
      "  File \"/opt/anaconda3/lib/python3.9/site-packages/sklearn/linear_model/_logistic.py\", line 443, in _check_solver\n",
      "    raise ValueError(\"Solver %s supports only 'l2' or 'none' penalties, \"\n",
      "ValueError: Solver lbfgs supports only 'l2' or 'none' penalties, got l1 penalty.\n",
      "\n",
      "  warnings.warn(\"Estimator fit failed. The score on this train-test\"\n",
      "/opt/anaconda3/lib/python3.9/site-packages/sklearn/model_selection/_validation.py:615: FitFailedWarning: Estimator fit failed. The score on this train-test partition for these parameters will be set to nan. Details: \n",
      "Traceback (most recent call last):\n",
      "  File \"/opt/anaconda3/lib/python3.9/site-packages/sklearn/model_selection/_validation.py\", line 598, in _fit_and_score\n",
      "    estimator.fit(X_train, y_train, **fit_params)\n",
      "  File \"/opt/anaconda3/lib/python3.9/site-packages/sklearn/linear_model/_logistic.py\", line 1306, in fit\n",
      "    solver = _check_solver(self.solver, self.penalty, self.dual)\n",
      "  File \"/opt/anaconda3/lib/python3.9/site-packages/sklearn/linear_model/_logistic.py\", line 443, in _check_solver\n",
      "    raise ValueError(\"Solver %s supports only 'l2' or 'none' penalties, \"\n",
      "ValueError: Solver lbfgs supports only 'l2' or 'none' penalties, got l1 penalty.\n",
      "\n",
      "  warnings.warn(\"Estimator fit failed. The score on this train-test\"\n",
      "/opt/anaconda3/lib/python3.9/site-packages/sklearn/model_selection/_validation.py:615: FitFailedWarning: Estimator fit failed. The score on this train-test partition for these parameters will be set to nan. Details: \n",
      "Traceback (most recent call last):\n",
      "  File \"/opt/anaconda3/lib/python3.9/site-packages/sklearn/model_selection/_validation.py\", line 598, in _fit_and_score\n",
      "    estimator.fit(X_train, y_train, **fit_params)\n",
      "  File \"/opt/anaconda3/lib/python3.9/site-packages/sklearn/linear_model/_logistic.py\", line 1306, in fit\n",
      "    solver = _check_solver(self.solver, self.penalty, self.dual)\n",
      "  File \"/opt/anaconda3/lib/python3.9/site-packages/sklearn/linear_model/_logistic.py\", line 443, in _check_solver\n",
      "    raise ValueError(\"Solver %s supports only 'l2' or 'none' penalties, \"\n",
      "ValueError: Solver lbfgs supports only 'l2' or 'none' penalties, got l1 penalty.\n",
      "\n",
      "  warnings.warn(\"Estimator fit failed. The score on this train-test\"\n",
      "/opt/anaconda3/lib/python3.9/site-packages/sklearn/model_selection/_validation.py:615: FitFailedWarning: Estimator fit failed. The score on this train-test partition for these parameters will be set to nan. Details: \n",
      "Traceback (most recent call last):\n",
      "  File \"/opt/anaconda3/lib/python3.9/site-packages/sklearn/model_selection/_validation.py\", line 598, in _fit_and_score\n",
      "    estimator.fit(X_train, y_train, **fit_params)\n",
      "  File \"/opt/anaconda3/lib/python3.9/site-packages/sklearn/linear_model/_logistic.py\", line 1306, in fit\n",
      "    solver = _check_solver(self.solver, self.penalty, self.dual)\n",
      "  File \"/opt/anaconda3/lib/python3.9/site-packages/sklearn/linear_model/_logistic.py\", line 443, in _check_solver\n",
      "    raise ValueError(\"Solver %s supports only 'l2' or 'none' penalties, \"\n",
      "ValueError: Solver lbfgs supports only 'l2' or 'none' penalties, got l1 penalty.\n",
      "\n",
      "  warnings.warn(\"Estimator fit failed. The score on this train-test\"\n",
      "/opt/anaconda3/lib/python3.9/site-packages/sklearn/model_selection/_validation.py:615: FitFailedWarning: Estimator fit failed. The score on this train-test partition for these parameters will be set to nan. Details: \n",
      "Traceback (most recent call last):\n",
      "  File \"/opt/anaconda3/lib/python3.9/site-packages/sklearn/model_selection/_validation.py\", line 598, in _fit_and_score\n",
      "    estimator.fit(X_train, y_train, **fit_params)\n",
      "  File \"/opt/anaconda3/lib/python3.9/site-packages/sklearn/linear_model/_logistic.py\", line 1306, in fit\n",
      "    solver = _check_solver(self.solver, self.penalty, self.dual)\n",
      "  File \"/opt/anaconda3/lib/python3.9/site-packages/sklearn/linear_model/_logistic.py\", line 443, in _check_solver\n",
      "    raise ValueError(\"Solver %s supports only 'l2' or 'none' penalties, \"\n",
      "ValueError: Solver lbfgs supports only 'l2' or 'none' penalties, got l1 penalty.\n",
      "\n",
      "  warnings.warn(\"Estimator fit failed. The score on this train-test\"\n",
      "/opt/anaconda3/lib/python3.9/site-packages/sklearn/model_selection/_validation.py:615: FitFailedWarning: Estimator fit failed. The score on this train-test partition for these parameters will be set to nan. Details: \n",
      "Traceback (most recent call last):\n",
      "  File \"/opt/anaconda3/lib/python3.9/site-packages/sklearn/model_selection/_validation.py\", line 598, in _fit_and_score\n",
      "    estimator.fit(X_train, y_train, **fit_params)\n",
      "  File \"/opt/anaconda3/lib/python3.9/site-packages/sklearn/linear_model/_logistic.py\", line 1306, in fit\n",
      "    solver = _check_solver(self.solver, self.penalty, self.dual)\n",
      "  File \"/opt/anaconda3/lib/python3.9/site-packages/sklearn/linear_model/_logistic.py\", line 443, in _check_solver\n",
      "    raise ValueError(\"Solver %s supports only 'l2' or 'none' penalties, \"\n",
      "ValueError: Solver lbfgs supports only 'l2' or 'none' penalties, got l1 penalty.\n",
      "\n",
      "  warnings.warn(\"Estimator fit failed. The score on this train-test\"\n",
      "/opt/anaconda3/lib/python3.9/site-packages/sklearn/model_selection/_validation.py:615: FitFailedWarning: Estimator fit failed. The score on this train-test partition for these parameters will be set to nan. Details: \n",
      "Traceback (most recent call last):\n",
      "  File \"/opt/anaconda3/lib/python3.9/site-packages/sklearn/model_selection/_validation.py\", line 598, in _fit_and_score\n",
      "    estimator.fit(X_train, y_train, **fit_params)\n",
      "  File \"/opt/anaconda3/lib/python3.9/site-packages/sklearn/linear_model/_logistic.py\", line 1306, in fit\n",
      "    solver = _check_solver(self.solver, self.penalty, self.dual)\n",
      "  File \"/opt/anaconda3/lib/python3.9/site-packages/sklearn/linear_model/_logistic.py\", line 443, in _check_solver\n",
      "    raise ValueError(\"Solver %s supports only 'l2' or 'none' penalties, \"\n",
      "ValueError: Solver lbfgs supports only 'l2' or 'none' penalties, got l1 penalty.\n",
      "\n",
      "  warnings.warn(\"Estimator fit failed. The score on this train-test\"\n"
     ]
    },
    {
     "name": "stdout",
     "output_type": "stream",
     "text": [
      "Best Accuracy: 78.04 %\n",
      "Best Parameters: {'C': 0.009, 'class_weight': 'dictbalanced', 'penalty': 'l2'}\n",
      "\n",
      "Predicting the Test set results \n",
      "[[1 1]\n",
      " [1 0]\n",
      " [0 0]\n",
      " ...\n",
      " [1 1]\n",
      " [1 1]\n",
      " [1 1]]\n",
      "\n",
      " Predicting for: \n",
      "  gender  age  hypertension  heart_disease ever_married work_type  \\\n",
      "0   Male   67             0              1          Yes   Private   \n",
      "\n",
      "  Residence_type  avg_glucose_level   bmi   smoking_status  stroke  \n",
      "0          Urban             228.69  36.6  formerly smoked       1  \n",
      " y_predicted :[1]\n",
      "==================================================================\n",
      "\n",
      "\n",
      "Making the Confusion Matrix\n",
      "**************************\n",
      "Accuracy: 77.82 %\n",
      "[[696 234]\n",
      " [183 767]]\n",
      "\n",
      "\n",
      "Accuracy repeort\n",
      "              precision    recall  f1-score   support\n",
      "\n",
      "           0       0.79      0.75      0.77       930\n",
      "           1       0.77      0.81      0.79       950\n",
      "\n",
      "    accuracy                           0.78      1880\n",
      "   macro avg       0.78      0.78      0.78      1880\n",
      "weighted avg       0.78      0.78      0.78      1880\n",
      "\n"
     ]
    }
   ],
   "source": [
    "parameters = {\n",
    "    'penalty': ['l1', 'l2'],'C':[0.001,.009,0.01,.09,1,5,10,25],'class_weight':['dict' 'balanced']}\n",
    "LR = trainmodels(LogisticRegression(class_weight='balanace'),X_train, y_train)"
   ]
  },
  {
   "cell_type": "markdown",
   "metadata": {
    "id": "z93j2l9eWNna"
   },
   "source": [
    "**Tunning using GridSearch**"
   ]
  },
  {
   "cell_type": "markdown",
   "metadata": {
    "id": "rWjtDBWcxRbY"
   },
   "source": [
    "**Note: gridsearch is only applied on low preforming models**"
   ]
  },
  {
   "cell_type": "markdown",
   "metadata": {
    "id": "tLaC4Z7GwV6e"
   },
   "source": [
    "## Random Forest "
   ]
  },
  {
   "cell_type": "markdown",
   "metadata": {
    "id": "CrcOoBjPvpI4"
   },
   "source": [
    "**Training the Random Forest Classification model on the Training set**"
   ]
  },
  {
   "cell_type": "code",
   "execution_count": 42,
   "metadata": {
    "colab": {
     "base_uri": "https://localhost:8080/",
     "height": 911
    },
    "id": "qlKLstDqvsx5",
    "outputId": "628e8f4a-fbf2-423f-f4ae-b1e01bcd1412"
   },
   "outputs": [
    {
     "name": "stdout",
     "output_type": "stream",
     "text": [
      "Accuracy: 97.45 %\n",
      "\n",
      "\n",
      "Predicting the Test set results \n",
      "[[1 1]\n",
      " [0 0]\n",
      " [0 0]\n",
      " ...\n",
      " [1 1]\n",
      " [1 1]\n",
      " [1 1]]\n",
      "\n",
      " Predicting for: \n",
      "  gender  age  hypertension  heart_disease ever_married work_type  \\\n",
      "0   Male   67             0              1          Yes   Private   \n",
      "\n",
      "  Residence_type  avg_glucose_level   bmi   smoking_status  stroke  \n",
      "0          Urban             228.69  36.6  formerly smoked       1  \n",
      " y_predicted :[1]\n",
      "==================================================================\n",
      "\n",
      "\n",
      "Making the Confusion Matrix\n",
      "**************************\n",
      "Accuracy: 97.45 %\n",
      "[[921   9]\n",
      " [ 39 911]]\n",
      "\n",
      "\n",
      "Accuracy repeort\n",
      "              precision    recall  f1-score   support\n",
      "\n",
      "           0       0.96      0.99      0.97       930\n",
      "           1       0.99      0.96      0.97       950\n",
      "\n",
      "    accuracy                           0.97      1880\n",
      "   macro avg       0.97      0.97      0.97      1880\n",
      "weighted avg       0.97      0.97      0.97      1880\n",
      "\n"
     ]
    }
   ],
   "source": [
    "RF= trainmodels(RandomForestClassifier(n_estimators = 10, criterion = 'entropy'),X_train, y_train)"
   ]
  },
  {
   "cell_type": "markdown",
   "metadata": {
    "id": "UC1djveOq0v-"
   },
   "source": [
    "## Decision Tree Classification"
   ]
  },
  {
   "cell_type": "markdown",
   "metadata": {
    "id": "bAIiETdDq0v_"
   },
   "source": [
    "**Training the Random Forest Classification model on the Training set**"
   ]
  },
  {
   "cell_type": "code",
   "execution_count": 43,
   "metadata": {
    "colab": {
     "base_uri": "https://localhost:8080/",
     "height": 700
    },
    "id": "tJSmh-fPq0v_",
    "outputId": "0fe72e88-9511-48f2-85b4-d9a9db7d0866"
   },
   "outputs": [
    {
     "name": "stdout",
     "output_type": "stream",
     "text": [
      "Accuracy: 95.21 %\n",
      "\n",
      "\n",
      "Predicting the Test set results \n",
      "[[1 1]\n",
      " [0 0]\n",
      " [0 0]\n",
      " ...\n",
      " [1 1]\n",
      " [1 1]\n",
      " [1 1]]\n",
      "\n",
      " Predicting for: \n",
      "  gender  age  hypertension  heart_disease ever_married work_type  \\\n",
      "0   Male   67             0              1          Yes   Private   \n",
      "\n",
      "  Residence_type  avg_glucose_level   bmi   smoking_status  stroke  \n",
      "0          Urban             228.69  36.6  formerly smoked       1  \n",
      " y_predicted :[1]\n",
      "==================================================================\n",
      "\n",
      "\n",
      "Making the Confusion Matrix\n",
      "**************************\n",
      "Accuracy: 95.21 %\n",
      "[[877  53]\n",
      " [ 37 913]]\n",
      "\n",
      "\n",
      "Accuracy repeort\n",
      "              precision    recall  f1-score   support\n",
      "\n",
      "           0       0.96      0.94      0.95       930\n",
      "           1       0.95      0.96      0.95       950\n",
      "\n",
      "    accuracy                           0.95      1880\n",
      "   macro avg       0.95      0.95      0.95      1880\n",
      "weighted avg       0.95      0.95      0.95      1880\n",
      "\n"
     ]
    }
   ],
   "source": [
    "parameters = {'max_leaf_nodes': list(range(2, 100)), 'min_samples_split': [2, 3, 4]}\n",
    "DTC= trainmodels(DecisionTreeClassifier(criterion = 'entropy'),X_train,y_train)"
   ]
  },
  {
   "cell_type": "markdown",
   "metadata": {
    "id": "mMfhfuxv396y"
   },
   "source": [
    "## Naive Bayes"
   ]
  },
  {
   "cell_type": "markdown",
   "metadata": {
    "id": "-h4FHIGn7Lwf"
   },
   "source": [
    "**Training the Naive Bayes model on the Training set**"
   ]
  },
  {
   "cell_type": "code",
   "execution_count": 44,
   "metadata": {
    "colab": {
     "base_uri": "https://localhost:8080/",
     "height": 768
    },
    "id": "fUI0-moB4OIu",
    "outputId": "10a87b9e-85be-4a28-a6cd-dd868714bb3c"
   },
   "outputs": [
    {
     "name": "stdout",
     "output_type": "stream",
     "text": [
      "Accuracy: 63.09 %\n",
      "\n",
      "MODELS RESULT IS BELOW 90% TUNNING WILL BE APPLIED \n",
      "Fitting 10 folds for each of 100 candidates, totalling 1000 fits\n",
      "Best Accuracy: 72.23 %\n",
      "Best Parameters: {'var_smoothing': 0.12328467394420659}\n",
      "\n",
      "Predicting the Test set results \n",
      "[[1 1]\n",
      " [1 0]\n",
      " [0 0]\n",
      " ...\n",
      " [1 1]\n",
      " [1 1]\n",
      " [1 1]]\n",
      "\n",
      " Predicting for: \n",
      "  gender  age  hypertension  heart_disease ever_married work_type  \\\n",
      "0   Male   67             0              1          Yes   Private   \n",
      "\n",
      "  Residence_type  avg_glucose_level   bmi   smoking_status  stroke  \n",
      "0          Urban             228.69  36.6  formerly smoked       1  \n",
      " y_predicted :[1]\n",
      "==================================================================\n",
      "\n",
      "\n",
      "Making the Confusion Matrix\n",
      "**************************\n",
      "Accuracy: 63.09 %\n",
      "[[237 693]\n",
      " [  1 949]]\n",
      "\n",
      "\n",
      "Accuracy repeort\n",
      "              precision    recall  f1-score   support\n",
      "\n",
      "           0       1.00      0.25      0.41       930\n",
      "           1       0.58      1.00      0.73       950\n",
      "\n",
      "    accuracy                           0.63      1880\n",
      "   macro avg       0.79      0.63      0.57      1880\n",
      "weighted avg       0.78      0.63      0.57      1880\n",
      "\n"
     ]
    }
   ],
   "source": [
    "parameters = {'var_smoothing': np.logspace(0,-9, num=100)\n",
    "}\n",
    "NB =trainmodels(GaussianNB(),X_train,y_train) "
   ]
  },
  {
   "cell_type": "markdown",
   "metadata": {
    "id": "kPTiJiVZMnQg"
   },
   "source": [
    "**Tunning using GridSearch**"
   ]
  },
  {
   "cell_type": "markdown",
   "metadata": {
    "id": "GFf8hRgA8pmh"
   },
   "source": [
    "## K-Nearest Neighbors (K-NN)"
   ]
  },
  {
   "cell_type": "markdown",
   "metadata": {
    "id": "Sl5_EXZE9Jz3"
   },
   "source": [
    "**Training the K-NN model on the Training set**"
   ]
  },
  {
   "cell_type": "code",
   "execution_count": 45,
   "metadata": {
    "colab": {
     "base_uri": "https://localhost:8080/",
     "height": 700
    },
    "id": "ylXUHqun82A3",
    "outputId": "05b51a8e-64c7-47ef-ee39-224bc7be85be"
   },
   "outputs": [
    {
     "name": "stdout",
     "output_type": "stream",
     "text": [
      "Accuracy: 93.72 %\n",
      "\n",
      "\n",
      "Predicting the Test set results \n",
      "[[1 1]\n",
      " [0 0]\n",
      " [0 0]\n",
      " ...\n",
      " [1 1]\n",
      " [1 1]\n",
      " [1 1]]\n",
      "\n",
      " Predicting for: \n",
      "  gender  age  hypertension  heart_disease ever_married work_type  \\\n",
      "0   Male   67             0              1          Yes   Private   \n",
      "\n",
      "  Residence_type  avg_glucose_level   bmi   smoking_status  stroke  \n",
      "0          Urban             228.69  36.6  formerly smoked       1  \n",
      " y_predicted :[1]\n",
      "==================================================================\n",
      "\n",
      "\n",
      "Making the Confusion Matrix\n",
      "**************************\n",
      "Accuracy: 93.72 %\n",
      "[[820 110]\n",
      " [  8 942]]\n",
      "\n",
      "\n",
      "Accuracy repeort\n",
      "              precision    recall  f1-score   support\n",
      "\n",
      "           0       0.99      0.88      0.93       930\n",
      "           1       0.90      0.99      0.94       950\n",
      "\n",
      "    accuracy                           0.94      1880\n",
      "   macro avg       0.94      0.94      0.94      1880\n",
      "weighted avg       0.94      0.94      0.94      1880\n",
      "\n"
     ]
    }
   ],
   "source": [
    "KNN = trainmodels(KNeighborsClassifier(n_neighbors = 5, metric = 'minkowski', p = 2),X_train,y_train)"
   ]
  },
  {
   "cell_type": "markdown",
   "metadata": {
    "id": "qaZWjzG8-LxA"
   },
   "source": [
    "## Kernel SVM"
   ]
  },
  {
   "cell_type": "markdown",
   "metadata": {
    "id": "UO7u5705ugV5"
   },
   "source": [
    "**Training the Kernel SVM model on the Training set**"
   ]
  },
  {
   "cell_type": "code",
   "execution_count": 46,
   "metadata": {
    "id": "tPc9s2TV-e7D"
   },
   "outputs": [
    {
     "name": "stdout",
     "output_type": "stream",
     "text": [
      "Accuracy: 93.14 %\n",
      "\n",
      "\n",
      "Predicting the Test set results \n",
      "[[1 1]\n",
      " [0 0]\n",
      " [0 0]\n",
      " ...\n",
      " [1 1]\n",
      " [1 1]\n",
      " [1 1]]\n",
      "\n",
      " Predicting for: \n",
      "  gender  age  hypertension  heart_disease ever_married work_type  \\\n",
      "0   Male   67             0              1          Yes   Private   \n",
      "\n",
      "  Residence_type  avg_glucose_level   bmi   smoking_status  stroke  \n",
      "0          Urban             228.69  36.6  formerly smoked       1  \n",
      " y_predicted :[1]\n",
      "==================================================================\n",
      "\n",
      "\n",
      "Making the Confusion Matrix\n",
      "**************************\n",
      "Accuracy: 93.14 %\n",
      "[[883  47]\n",
      " [ 82 868]]\n",
      "\n",
      "\n",
      "Accuracy repeort\n",
      "              precision    recall  f1-score   support\n",
      "\n",
      "           0       0.92      0.95      0.93       930\n",
      "           1       0.95      0.91      0.93       950\n",
      "\n",
      "    accuracy                           0.93      1880\n",
      "   macro avg       0.93      0.93      0.93      1880\n",
      "weighted avg       0.93      0.93      0.93      1880\n",
      "\n"
     ]
    }
   ],
   "source": [
    "KSVM=trainmodels(SVC(kernel = 'rbf', random_state = 0), X_train,y_train)"
   ]
  },
  {
   "cell_type": "markdown",
   "metadata": {
    "id": "gGMXUHxK48Jm"
   },
   "source": [
    "# Gradient boosting Classifications modeling"
   ]
  },
  {
   "cell_type": "markdown",
   "metadata": {
    "id": "IFb7O39w66sH"
   },
   "source": [
    "## Xgboost"
   ]
  },
  {
   "cell_type": "markdown",
   "metadata": {
    "id": "1C62AJlsA1ng"
   },
   "source": [
    "### Training xgboost"
   ]
  },
  {
   "cell_type": "code",
   "execution_count": 48,
   "metadata": {
    "colab": {
     "base_uri": "https://localhost:8080/"
    },
    "id": "Waan8ym-5DbW",
    "outputId": "c5878af7-e2e2-4b87-f97c-7b5acbbf955e"
   },
   "outputs": [
    {
     "name": "stdout",
     "output_type": "stream",
     "text": [
      "[05:42:58] WARNING: ../src/learner.cc:1115: Starting in XGBoost 1.3.0, the default evaluation metric used with the objective 'binary:logistic' was changed from 'error' to 'logloss'. Explicitly set eval_metric if you'd like to restore the old behavior.\n",
      "Accuracy: 97.18 %\n",
      "\n",
      "\n",
      "Predicting the Test set results \n",
      "[[1 1]\n",
      " [0 0]\n",
      " [0 0]\n",
      " ...\n",
      " [1 1]\n",
      " [1 1]\n",
      " [1 1]]\n",
      "\n",
      " Predicting for: \n",
      "  gender  age  hypertension  heart_disease ever_married work_type  \\\n",
      "0   Male   67             0              1          Yes   Private   \n",
      "\n",
      "  Residence_type  avg_glucose_level   bmi   smoking_status  stroke  \n",
      "0          Urban             228.69  36.6  formerly smoked       1  \n",
      " y_predicted :[1]\n",
      "==================================================================\n",
      "\n",
      "\n",
      "Making the Confusion Matrix\n",
      "**************************\n",
      "Accuracy: 97.18 %\n",
      "[[915  15]\n",
      " [ 38 912]]\n",
      "\n",
      "\n",
      "Accuracy repeort\n",
      "              precision    recall  f1-score   support\n",
      "\n",
      "           0       0.96      0.98      0.97       930\n",
      "           1       0.98      0.96      0.97       950\n",
      "\n",
      "    accuracy                           0.97      1880\n",
      "   macro avg       0.97      0.97      0.97      1880\n",
      "weighted avg       0.97      0.97      0.97      1880\n",
      "\n"
     ]
    }
   ],
   "source": [
    "XGB = trainmodels(XGBClassifier(),X_train,y_train)"
   ]
  },
  {
   "cell_type": "markdown",
   "metadata": {
    "id": "19N5ounQ7B09"
   },
   "source": [
    "## CatBoost"
   ]
  },
  {
   "cell_type": "markdown",
   "metadata": {
    "id": "OUzowpx0BFpb"
   },
   "source": [
    "###Training Catboots"
   ]
  },
  {
   "cell_type": "code",
   "execution_count": 49,
   "metadata": {
    "id": "RKheH_AD9LcL"
   },
   "outputs": [
    {
     "name": "stdout",
     "output_type": "stream",
     "text": [
      "Learning rate set to 0.02438\n",
      "0:\tlearn: 0.6515001\ttotal: 67.2ms\tremaining: 1m 7s\n",
      "1:\tlearn: 0.6251190\ttotal: 69.8ms\tremaining: 34.8s\n",
      "2:\tlearn: 0.5928733\ttotal: 72.2ms\tremaining: 24s\n",
      "3:\tlearn: 0.5665242\ttotal: 74.6ms\tremaining: 18.6s\n",
      "4:\tlearn: 0.5483826\ttotal: 77ms\tremaining: 15.3s\n",
      "5:\tlearn: 0.5295135\ttotal: 79.9ms\tremaining: 13.2s\n",
      "6:\tlearn: 0.5079601\ttotal: 82.6ms\tremaining: 11.7s\n",
      "7:\tlearn: 0.4893796\ttotal: 85.3ms\tremaining: 10.6s\n",
      "8:\tlearn: 0.4679111\ttotal: 87.7ms\tremaining: 9.65s\n",
      "9:\tlearn: 0.4457605\ttotal: 90.5ms\tremaining: 8.96s\n",
      "10:\tlearn: 0.4284794\ttotal: 92.8ms\tremaining: 8.34s\n",
      "11:\tlearn: 0.4154712\ttotal: 95.9ms\tremaining: 7.89s\n",
      "12:\tlearn: 0.4063418\ttotal: 98.6ms\tremaining: 7.49s\n",
      "13:\tlearn: 0.3911881\ttotal: 101ms\tremaining: 7.12s\n",
      "14:\tlearn: 0.3785887\ttotal: 104ms\tremaining: 6.83s\n",
      "15:\tlearn: 0.3679429\ttotal: 107ms\tremaining: 6.59s\n",
      "16:\tlearn: 0.3611088\ttotal: 110ms\tremaining: 6.38s\n",
      "17:\tlearn: 0.3482854\ttotal: 113ms\tremaining: 6.19s\n",
      "18:\tlearn: 0.3405101\ttotal: 116ms\tremaining: 5.98s\n",
      "19:\tlearn: 0.3301292\ttotal: 118ms\tremaining: 5.78s\n",
      "20:\tlearn: 0.3210586\ttotal: 121ms\tremaining: 5.62s\n",
      "21:\tlearn: 0.3118743\ttotal: 123ms\tremaining: 5.46s\n",
      "22:\tlearn: 0.3062640\ttotal: 125ms\tremaining: 5.32s\n",
      "23:\tlearn: 0.3011045\ttotal: 128ms\tremaining: 5.2s\n",
      "24:\tlearn: 0.2920405\ttotal: 131ms\tremaining: 5.1s\n",
      "25:\tlearn: 0.2835792\ttotal: 134ms\tremaining: 5s\n",
      "26:\tlearn: 0.2783466\ttotal: 136ms\tremaining: 4.89s\n",
      "27:\tlearn: 0.2682301\ttotal: 138ms\tremaining: 4.78s\n",
      "28:\tlearn: 0.2636690\ttotal: 140ms\tremaining: 4.7s\n",
      "29:\tlearn: 0.2569809\ttotal: 143ms\tremaining: 4.62s\n",
      "30:\tlearn: 0.2518652\ttotal: 145ms\tremaining: 4.55s\n",
      "31:\tlearn: 0.2460929\ttotal: 148ms\tremaining: 4.48s\n",
      "32:\tlearn: 0.2419250\ttotal: 151ms\tremaining: 4.42s\n",
      "33:\tlearn: 0.2370572\ttotal: 154ms\tremaining: 4.37s\n",
      "34:\tlearn: 0.2328882\ttotal: 156ms\tremaining: 4.3s\n",
      "35:\tlearn: 0.2274511\ttotal: 159ms\tremaining: 4.25s\n",
      "36:\tlearn: 0.2223849\ttotal: 161ms\tremaining: 4.2s\n",
      "37:\tlearn: 0.2192056\ttotal: 164ms\tremaining: 4.14s\n",
      "38:\tlearn: 0.2160126\ttotal: 166ms\tremaining: 4.08s\n",
      "39:\tlearn: 0.2126976\ttotal: 168ms\tremaining: 4.04s\n",
      "40:\tlearn: 0.2092202\ttotal: 172ms\tremaining: 4.01s\n",
      "41:\tlearn: 0.2043843\ttotal: 174ms\tremaining: 3.97s\n",
      "42:\tlearn: 0.2001393\ttotal: 177ms\tremaining: 3.93s\n",
      "43:\tlearn: 0.1967485\ttotal: 180ms\tremaining: 3.9s\n",
      "44:\tlearn: 0.1932784\ttotal: 182ms\tremaining: 3.86s\n",
      "45:\tlearn: 0.1895820\ttotal: 184ms\tremaining: 3.83s\n",
      "46:\tlearn: 0.1878136\ttotal: 187ms\tremaining: 3.79s\n",
      "47:\tlearn: 0.1857779\ttotal: 190ms\tremaining: 3.76s\n",
      "48:\tlearn: 0.1830659\ttotal: 192ms\tremaining: 3.73s\n",
      "49:\tlearn: 0.1801227\ttotal: 195ms\tremaining: 3.71s\n",
      "50:\tlearn: 0.1775588\ttotal: 197ms\tremaining: 3.67s\n",
      "51:\tlearn: 0.1760242\ttotal: 200ms\tremaining: 3.64s\n",
      "52:\tlearn: 0.1732909\ttotal: 203ms\tremaining: 3.62s\n",
      "53:\tlearn: 0.1717627\ttotal: 206ms\tremaining: 3.61s\n",
      "54:\tlearn: 0.1688328\ttotal: 209ms\tremaining: 3.6s\n",
      "55:\tlearn: 0.1667428\ttotal: 212ms\tremaining: 3.58s\n",
      "56:\tlearn: 0.1638672\ttotal: 215ms\tremaining: 3.55s\n",
      "57:\tlearn: 0.1617036\ttotal: 217ms\tremaining: 3.53s\n",
      "58:\tlearn: 0.1594247\ttotal: 220ms\tremaining: 3.5s\n",
      "59:\tlearn: 0.1572149\ttotal: 223ms\tremaining: 3.49s\n",
      "60:\tlearn: 0.1558575\ttotal: 226ms\tremaining: 3.47s\n",
      "61:\tlearn: 0.1541212\ttotal: 228ms\tremaining: 3.45s\n",
      "62:\tlearn: 0.1525746\ttotal: 231ms\tremaining: 3.44s\n",
      "63:\tlearn: 0.1513587\ttotal: 234ms\tremaining: 3.43s\n",
      "64:\tlearn: 0.1494831\ttotal: 236ms\tremaining: 3.4s\n",
      "65:\tlearn: 0.1481052\ttotal: 239ms\tremaining: 3.38s\n",
      "66:\tlearn: 0.1464022\ttotal: 242ms\tremaining: 3.37s\n",
      "67:\tlearn: 0.1453012\ttotal: 244ms\tremaining: 3.35s\n",
      "68:\tlearn: 0.1439861\ttotal: 247ms\tremaining: 3.33s\n",
      "69:\tlearn: 0.1429938\ttotal: 249ms\tremaining: 3.31s\n",
      "70:\tlearn: 0.1420854\ttotal: 252ms\tremaining: 3.29s\n",
      "71:\tlearn: 0.1405529\ttotal: 255ms\tremaining: 3.28s\n",
      "72:\tlearn: 0.1388869\ttotal: 257ms\tremaining: 3.27s\n",
      "73:\tlearn: 0.1376579\ttotal: 260ms\tremaining: 3.25s\n",
      "74:\tlearn: 0.1366116\ttotal: 262ms\tremaining: 3.23s\n",
      "75:\tlearn: 0.1353302\ttotal: 266ms\tremaining: 3.23s\n",
      "76:\tlearn: 0.1344084\ttotal: 268ms\tremaining: 3.22s\n",
      "77:\tlearn: 0.1336309\ttotal: 271ms\tremaining: 3.2s\n",
      "78:\tlearn: 0.1329459\ttotal: 273ms\tremaining: 3.19s\n",
      "79:\tlearn: 0.1321171\ttotal: 276ms\tremaining: 3.17s\n",
      "80:\tlearn: 0.1312546\ttotal: 278ms\tremaining: 3.15s\n",
      "81:\tlearn: 0.1305074\ttotal: 280ms\tremaining: 3.14s\n",
      "82:\tlearn: 0.1295366\ttotal: 283ms\tremaining: 3.13s\n",
      "83:\tlearn: 0.1284662\ttotal: 286ms\tremaining: 3.11s\n",
      "84:\tlearn: 0.1279436\ttotal: 289ms\tremaining: 3.11s\n",
      "85:\tlearn: 0.1272725\ttotal: 291ms\tremaining: 3.09s\n",
      "86:\tlearn: 0.1264439\ttotal: 294ms\tremaining: 3.08s\n",
      "87:\tlearn: 0.1252960\ttotal: 297ms\tremaining: 3.07s\n",
      "88:\tlearn: 0.1239622\ttotal: 299ms\tremaining: 3.06s\n",
      "89:\tlearn: 0.1229676\ttotal: 302ms\tremaining: 3.05s\n",
      "90:\tlearn: 0.1220684\ttotal: 304ms\tremaining: 3.04s\n",
      "91:\tlearn: 0.1215422\ttotal: 306ms\tremaining: 3.02s\n",
      "92:\tlearn: 0.1209626\ttotal: 309ms\tremaining: 3.01s\n",
      "93:\tlearn: 0.1200940\ttotal: 312ms\tremaining: 3.01s\n",
      "94:\tlearn: 0.1197349\ttotal: 315ms\tremaining: 3s\n",
      "95:\tlearn: 0.1189817\ttotal: 318ms\tremaining: 2.99s\n",
      "96:\tlearn: 0.1186212\ttotal: 321ms\tremaining: 2.98s\n",
      "97:\tlearn: 0.1180726\ttotal: 323ms\tremaining: 2.98s\n",
      "98:\tlearn: 0.1176067\ttotal: 327ms\tremaining: 2.98s\n",
      "99:\tlearn: 0.1169274\ttotal: 330ms\tremaining: 2.97s\n",
      "100:\tlearn: 0.1162984\ttotal: 334ms\tremaining: 2.97s\n",
      "101:\tlearn: 0.1158844\ttotal: 336ms\tremaining: 2.96s\n",
      "102:\tlearn: 0.1153461\ttotal: 339ms\tremaining: 2.95s\n",
      "103:\tlearn: 0.1149935\ttotal: 341ms\tremaining: 2.94s\n",
      "104:\tlearn: 0.1146391\ttotal: 347ms\tremaining: 2.96s\n",
      "105:\tlearn: 0.1142098\ttotal: 349ms\tremaining: 2.94s\n",
      "106:\tlearn: 0.1134485\ttotal: 352ms\tremaining: 2.93s\n",
      "107:\tlearn: 0.1126448\ttotal: 354ms\tremaining: 2.92s\n",
      "108:\tlearn: 0.1123061\ttotal: 356ms\tremaining: 2.91s\n",
      "109:\tlearn: 0.1120178\ttotal: 359ms\tremaining: 2.9s\n",
      "110:\tlearn: 0.1117301\ttotal: 361ms\tremaining: 2.89s\n",
      "111:\tlearn: 0.1112064\ttotal: 364ms\tremaining: 2.88s\n",
      "112:\tlearn: 0.1107933\ttotal: 366ms\tremaining: 2.87s\n",
      "113:\tlearn: 0.1103865\ttotal: 369ms\tremaining: 2.87s\n",
      "114:\tlearn: 0.1096783\ttotal: 372ms\tremaining: 2.87s\n",
      "115:\tlearn: 0.1094281\ttotal: 376ms\tremaining: 2.86s\n",
      "116:\tlearn: 0.1091161\ttotal: 378ms\tremaining: 2.85s\n",
      "117:\tlearn: 0.1087168\ttotal: 381ms\tremaining: 2.85s\n",
      "118:\tlearn: 0.1081706\ttotal: 383ms\tremaining: 2.84s\n",
      "119:\tlearn: 0.1079788\ttotal: 386ms\tremaining: 2.83s\n",
      "120:\tlearn: 0.1076162\ttotal: 389ms\tremaining: 2.82s\n",
      "121:\tlearn: 0.1073280\ttotal: 392ms\tremaining: 2.82s\n",
      "122:\tlearn: 0.1069404\ttotal: 395ms\tremaining: 2.81s\n",
      "123:\tlearn: 0.1065653\ttotal: 398ms\tremaining: 2.81s\n",
      "124:\tlearn: 0.1061676\ttotal: 400ms\tremaining: 2.8s\n",
      "125:\tlearn: 0.1059398\ttotal: 402ms\tremaining: 2.79s\n",
      "126:\tlearn: 0.1053862\ttotal: 406ms\tremaining: 2.79s\n",
      "127:\tlearn: 0.1051030\ttotal: 408ms\tremaining: 2.78s\n",
      "128:\tlearn: 0.1046367\ttotal: 410ms\tremaining: 2.77s\n",
      "129:\tlearn: 0.1043844\ttotal: 413ms\tremaining: 2.76s\n",
      "130:\tlearn: 0.1040896\ttotal: 415ms\tremaining: 2.75s\n",
      "131:\tlearn: 0.1037977\ttotal: 418ms\tremaining: 2.75s\n",
      "132:\tlearn: 0.1034016\ttotal: 421ms\tremaining: 2.74s\n",
      "133:\tlearn: 0.1030634\ttotal: 423ms\tremaining: 2.73s\n",
      "134:\tlearn: 0.1026419\ttotal: 426ms\tremaining: 2.73s\n",
      "135:\tlearn: 0.1023414\ttotal: 428ms\tremaining: 2.72s\n",
      "136:\tlearn: 0.1019960\ttotal: 431ms\tremaining: 2.71s\n",
      "137:\tlearn: 0.1016768\ttotal: 434ms\tremaining: 2.71s\n",
      "138:\tlearn: 0.1013808\ttotal: 436ms\tremaining: 2.7s\n",
      "139:\tlearn: 0.1011336\ttotal: 439ms\tremaining: 2.7s\n",
      "140:\tlearn: 0.1007689\ttotal: 442ms\tremaining: 2.69s\n",
      "141:\tlearn: 0.1005189\ttotal: 444ms\tremaining: 2.68s\n",
      "142:\tlearn: 0.1001694\ttotal: 447ms\tremaining: 2.68s\n",
      "143:\tlearn: 0.1000487\ttotal: 449ms\tremaining: 2.67s\n",
      "144:\tlearn: 0.0998257\ttotal: 452ms\tremaining: 2.67s\n",
      "145:\tlearn: 0.0994186\ttotal: 456ms\tremaining: 2.67s\n",
      "146:\tlearn: 0.0992276\ttotal: 458ms\tremaining: 2.66s\n",
      "147:\tlearn: 0.0990413\ttotal: 462ms\tremaining: 2.66s\n",
      "148:\tlearn: 0.0986506\ttotal: 464ms\tremaining: 2.65s\n",
      "149:\tlearn: 0.0983623\ttotal: 467ms\tremaining: 2.65s\n",
      "150:\tlearn: 0.0980351\ttotal: 470ms\tremaining: 2.64s\n",
      "151:\tlearn: 0.0978086\ttotal: 472ms\tremaining: 2.63s\n",
      "152:\tlearn: 0.0976115\ttotal: 474ms\tremaining: 2.62s\n",
      "153:\tlearn: 0.0974182\ttotal: 476ms\tremaining: 2.62s\n",
      "154:\tlearn: 0.0970869\ttotal: 479ms\tremaining: 2.61s\n",
      "155:\tlearn: 0.0969350\ttotal: 481ms\tremaining: 2.6s\n",
      "156:\tlearn: 0.0966841\ttotal: 484ms\tremaining: 2.6s\n",
      "157:\tlearn: 0.0965354\ttotal: 487ms\tremaining: 2.6s\n",
      "158:\tlearn: 0.0963420\ttotal: 490ms\tremaining: 2.59s\n",
      "159:\tlearn: 0.0959468\ttotal: 492ms\tremaining: 2.58s\n",
      "160:\tlearn: 0.0957891\ttotal: 495ms\tremaining: 2.58s\n",
      "161:\tlearn: 0.0955631\ttotal: 498ms\tremaining: 2.58s\n"
     ]
    },
    {
     "name": "stdout",
     "output_type": "stream",
     "text": [
      "162:\tlearn: 0.0954161\ttotal: 501ms\tremaining: 2.57s\n",
      "163:\tlearn: 0.0952468\ttotal: 503ms\tremaining: 2.56s\n",
      "164:\tlearn: 0.0950581\ttotal: 505ms\tremaining: 2.56s\n",
      "165:\tlearn: 0.0949001\ttotal: 508ms\tremaining: 2.55s\n",
      "166:\tlearn: 0.0946780\ttotal: 510ms\tremaining: 2.54s\n",
      "167:\tlearn: 0.0944227\ttotal: 513ms\tremaining: 2.54s\n",
      "168:\tlearn: 0.0940979\ttotal: 516ms\tremaining: 2.54s\n",
      "169:\tlearn: 0.0937941\ttotal: 518ms\tremaining: 2.53s\n",
      "170:\tlearn: 0.0936813\ttotal: 521ms\tremaining: 2.52s\n",
      "171:\tlearn: 0.0934960\ttotal: 524ms\tremaining: 2.52s\n",
      "172:\tlearn: 0.0932256\ttotal: 526ms\tremaining: 2.52s\n",
      "173:\tlearn: 0.0930647\ttotal: 529ms\tremaining: 2.51s\n",
      "174:\tlearn: 0.0927119\ttotal: 531ms\tremaining: 2.5s\n",
      "175:\tlearn: 0.0924837\ttotal: 534ms\tremaining: 2.5s\n",
      "176:\tlearn: 0.0921950\ttotal: 537ms\tremaining: 2.49s\n",
      "177:\tlearn: 0.0918941\ttotal: 540ms\tremaining: 2.49s\n",
      "178:\tlearn: 0.0917410\ttotal: 542ms\tremaining: 2.48s\n",
      "179:\tlearn: 0.0915558\ttotal: 545ms\tremaining: 2.48s\n",
      "180:\tlearn: 0.0913630\ttotal: 548ms\tremaining: 2.48s\n",
      "181:\tlearn: 0.0912883\ttotal: 550ms\tremaining: 2.47s\n",
      "182:\tlearn: 0.0911606\ttotal: 553ms\tremaining: 2.47s\n",
      "183:\tlearn: 0.0910270\ttotal: 555ms\tremaining: 2.46s\n",
      "184:\tlearn: 0.0908434\ttotal: 558ms\tremaining: 2.46s\n",
      "185:\tlearn: 0.0906407\ttotal: 561ms\tremaining: 2.45s\n",
      "186:\tlearn: 0.0904980\ttotal: 563ms\tremaining: 2.45s\n",
      "187:\tlearn: 0.0903441\ttotal: 566ms\tremaining: 2.44s\n",
      "188:\tlearn: 0.0902866\ttotal: 569ms\tremaining: 2.44s\n",
      "189:\tlearn: 0.0901378\ttotal: 572ms\tremaining: 2.44s\n",
      "190:\tlearn: 0.0900118\ttotal: 575ms\tremaining: 2.44s\n",
      "191:\tlearn: 0.0899494\ttotal: 578ms\tremaining: 2.43s\n",
      "192:\tlearn: 0.0898319\ttotal: 581ms\tremaining: 2.43s\n",
      "193:\tlearn: 0.0895623\ttotal: 583ms\tremaining: 2.42s\n",
      "194:\tlearn: 0.0894901\ttotal: 586ms\tremaining: 2.42s\n",
      "195:\tlearn: 0.0892634\ttotal: 588ms\tremaining: 2.41s\n",
      "196:\tlearn: 0.0890330\ttotal: 591ms\tremaining: 2.41s\n",
      "197:\tlearn: 0.0888335\ttotal: 594ms\tremaining: 2.41s\n",
      "198:\tlearn: 0.0886615\ttotal: 597ms\tremaining: 2.4s\n",
      "199:\tlearn: 0.0885177\ttotal: 601ms\tremaining: 2.4s\n",
      "200:\tlearn: 0.0883439\ttotal: 603ms\tremaining: 2.4s\n",
      "201:\tlearn: 0.0882668\ttotal: 607ms\tremaining: 2.4s\n",
      "202:\tlearn: 0.0881060\ttotal: 610ms\tremaining: 2.39s\n",
      "203:\tlearn: 0.0879015\ttotal: 612ms\tremaining: 2.39s\n",
      "204:\tlearn: 0.0878018\ttotal: 615ms\tremaining: 2.38s\n",
      "205:\tlearn: 0.0877153\ttotal: 618ms\tremaining: 2.38s\n",
      "206:\tlearn: 0.0875262\ttotal: 621ms\tremaining: 2.38s\n",
      "207:\tlearn: 0.0874535\ttotal: 623ms\tremaining: 2.37s\n",
      "208:\tlearn: 0.0873504\ttotal: 626ms\tremaining: 2.37s\n",
      "209:\tlearn: 0.0871716\ttotal: 628ms\tremaining: 2.36s\n",
      "210:\tlearn: 0.0870608\ttotal: 631ms\tremaining: 2.36s\n",
      "211:\tlearn: 0.0869803\ttotal: 634ms\tremaining: 2.35s\n",
      "212:\tlearn: 0.0867880\ttotal: 636ms\tremaining: 2.35s\n",
      "213:\tlearn: 0.0866665\ttotal: 638ms\tremaining: 2.34s\n",
      "214:\tlearn: 0.0864520\ttotal: 641ms\tremaining: 2.34s\n",
      "215:\tlearn: 0.0863253\ttotal: 644ms\tremaining: 2.34s\n",
      "216:\tlearn: 0.0861385\ttotal: 646ms\tremaining: 2.33s\n",
      "217:\tlearn: 0.0860333\ttotal: 649ms\tremaining: 2.33s\n",
      "218:\tlearn: 0.0858191\ttotal: 652ms\tremaining: 2.33s\n",
      "219:\tlearn: 0.0856348\ttotal: 655ms\tremaining: 2.32s\n",
      "220:\tlearn: 0.0854722\ttotal: 657ms\tremaining: 2.31s\n",
      "221:\tlearn: 0.0854005\ttotal: 659ms\tremaining: 2.31s\n",
      "222:\tlearn: 0.0851365\ttotal: 662ms\tremaining: 2.31s\n",
      "223:\tlearn: 0.0849731\ttotal: 664ms\tremaining: 2.3s\n",
      "224:\tlearn: 0.0847404\ttotal: 667ms\tremaining: 2.3s\n",
      "225:\tlearn: 0.0844877\ttotal: 669ms\tremaining: 2.29s\n",
      "226:\tlearn: 0.0843642\ttotal: 672ms\tremaining: 2.29s\n",
      "227:\tlearn: 0.0842295\ttotal: 674ms\tremaining: 2.28s\n",
      "228:\tlearn: 0.0839559\ttotal: 677ms\tremaining: 2.28s\n",
      "229:\tlearn: 0.0838041\ttotal: 680ms\tremaining: 2.28s\n",
      "230:\tlearn: 0.0835472\ttotal: 682ms\tremaining: 2.27s\n",
      "231:\tlearn: 0.0833925\ttotal: 684ms\tremaining: 2.27s\n",
      "232:\tlearn: 0.0833215\ttotal: 687ms\tremaining: 2.26s\n",
      "233:\tlearn: 0.0831527\ttotal: 689ms\tremaining: 2.25s\n",
      "234:\tlearn: 0.0830886\ttotal: 691ms\tremaining: 2.25s\n",
      "235:\tlearn: 0.0829618\ttotal: 694ms\tremaining: 2.25s\n",
      "236:\tlearn: 0.0827965\ttotal: 697ms\tremaining: 2.25s\n",
      "237:\tlearn: 0.0826623\ttotal: 700ms\tremaining: 2.24s\n",
      "238:\tlearn: 0.0825294\ttotal: 703ms\tremaining: 2.24s\n",
      "239:\tlearn: 0.0823890\ttotal: 705ms\tremaining: 2.23s\n",
      "240:\tlearn: 0.0822895\ttotal: 708ms\tremaining: 2.23s\n",
      "241:\tlearn: 0.0822049\ttotal: 710ms\tremaining: 2.22s\n",
      "242:\tlearn: 0.0821179\ttotal: 713ms\tremaining: 2.22s\n",
      "243:\tlearn: 0.0819752\ttotal: 715ms\tremaining: 2.21s\n",
      "244:\tlearn: 0.0818154\ttotal: 717ms\tremaining: 2.21s\n",
      "245:\tlearn: 0.0817483\ttotal: 720ms\tremaining: 2.21s\n",
      "246:\tlearn: 0.0816544\ttotal: 722ms\tremaining: 2.2s\n",
      "247:\tlearn: 0.0815341\ttotal: 724ms\tremaining: 2.2s\n",
      "248:\tlearn: 0.0813477\ttotal: 726ms\tremaining: 2.19s\n",
      "249:\tlearn: 0.0811352\ttotal: 728ms\tremaining: 2.18s\n",
      "250:\tlearn: 0.0810307\ttotal: 730ms\tremaining: 2.18s\n",
      "251:\tlearn: 0.0809080\ttotal: 733ms\tremaining: 2.18s\n",
      "252:\tlearn: 0.0807476\ttotal: 735ms\tremaining: 2.17s\n",
      "253:\tlearn: 0.0806187\ttotal: 738ms\tremaining: 2.17s\n",
      "254:\tlearn: 0.0804781\ttotal: 740ms\tremaining: 2.16s\n",
      "255:\tlearn: 0.0803846\ttotal: 742ms\tremaining: 2.16s\n",
      "256:\tlearn: 0.0802030\ttotal: 745ms\tremaining: 2.15s\n",
      "257:\tlearn: 0.0800635\ttotal: 747ms\tremaining: 2.15s\n",
      "258:\tlearn: 0.0799684\ttotal: 750ms\tremaining: 2.15s\n",
      "259:\tlearn: 0.0798348\ttotal: 752ms\tremaining: 2.14s\n",
      "260:\tlearn: 0.0797148\ttotal: 755ms\tremaining: 2.14s\n",
      "261:\tlearn: 0.0795904\ttotal: 757ms\tremaining: 2.13s\n",
      "262:\tlearn: 0.0794876\ttotal: 760ms\tremaining: 2.13s\n",
      "263:\tlearn: 0.0792510\ttotal: 762ms\tremaining: 2.12s\n",
      "264:\tlearn: 0.0790837\ttotal: 764ms\tremaining: 2.12s\n",
      "265:\tlearn: 0.0788482\ttotal: 766ms\tremaining: 2.11s\n",
      "266:\tlearn: 0.0787162\ttotal: 769ms\tremaining: 2.11s\n",
      "267:\tlearn: 0.0785758\ttotal: 775ms\tremaining: 2.12s\n",
      "268:\tlearn: 0.0784340\ttotal: 778ms\tremaining: 2.11s\n",
      "269:\tlearn: 0.0782847\ttotal: 781ms\tremaining: 2.11s\n",
      "270:\tlearn: 0.0780854\ttotal: 784ms\tremaining: 2.11s\n",
      "271:\tlearn: 0.0779838\ttotal: 786ms\tremaining: 2.1s\n",
      "272:\tlearn: 0.0778564\ttotal: 788ms\tremaining: 2.1s\n",
      "273:\tlearn: 0.0777559\ttotal: 791ms\tremaining: 2.1s\n",
      "274:\tlearn: 0.0776935\ttotal: 794ms\tremaining: 2.09s\n",
      "275:\tlearn: 0.0775498\ttotal: 796ms\tremaining: 2.09s\n",
      "276:\tlearn: 0.0774466\ttotal: 799ms\tremaining: 2.08s\n",
      "277:\tlearn: 0.0773201\ttotal: 801ms\tremaining: 2.08s\n",
      "278:\tlearn: 0.0771917\ttotal: 804ms\tremaining: 2.08s\n",
      "279:\tlearn: 0.0770910\ttotal: 807ms\tremaining: 2.07s\n",
      "280:\tlearn: 0.0769580\ttotal: 809ms\tremaining: 2.07s\n",
      "281:\tlearn: 0.0768498\ttotal: 812ms\tremaining: 2.07s\n",
      "282:\tlearn: 0.0767281\ttotal: 814ms\tremaining: 2.06s\n",
      "283:\tlearn: 0.0766427\ttotal: 817ms\tremaining: 2.06s\n",
      "284:\tlearn: 0.0764536\ttotal: 820ms\tremaining: 2.06s\n",
      "285:\tlearn: 0.0763506\ttotal: 822ms\tremaining: 2.05s\n",
      "286:\tlearn: 0.0762778\ttotal: 825ms\tremaining: 2.05s\n",
      "287:\tlearn: 0.0761544\ttotal: 828ms\tremaining: 2.04s\n",
      "288:\tlearn: 0.0760392\ttotal: 830ms\tremaining: 2.04s\n",
      "289:\tlearn: 0.0758870\ttotal: 833ms\tremaining: 2.04s\n",
      "290:\tlearn: 0.0757375\ttotal: 836ms\tremaining: 2.04s\n",
      "291:\tlearn: 0.0756052\ttotal: 838ms\tremaining: 2.03s\n",
      "292:\tlearn: 0.0754565\ttotal: 841ms\tremaining: 2.03s\n",
      "293:\tlearn: 0.0753794\ttotal: 843ms\tremaining: 2.02s\n",
      "294:\tlearn: 0.0752931\ttotal: 846ms\tremaining: 2.02s\n",
      "295:\tlearn: 0.0751647\ttotal: 848ms\tremaining: 2.02s\n",
      "296:\tlearn: 0.0750362\ttotal: 851ms\tremaining: 2.01s\n",
      "297:\tlearn: 0.0749644\ttotal: 854ms\tremaining: 2.01s\n",
      "298:\tlearn: 0.0748350\ttotal: 856ms\tremaining: 2.01s\n",
      "299:\tlearn: 0.0747788\ttotal: 859ms\tremaining: 2s\n",
      "300:\tlearn: 0.0746152\ttotal: 861ms\tremaining: 2s\n",
      "301:\tlearn: 0.0745501\ttotal: 864ms\tremaining: 2s\n",
      "302:\tlearn: 0.0744586\ttotal: 867ms\tremaining: 1.99s\n",
      "303:\tlearn: 0.0743596\ttotal: 869ms\tremaining: 1.99s\n",
      "304:\tlearn: 0.0741781\ttotal: 872ms\tremaining: 1.99s\n",
      "305:\tlearn: 0.0740465\ttotal: 874ms\tremaining: 1.98s\n",
      "306:\tlearn: 0.0739163\ttotal: 877ms\tremaining: 1.98s\n",
      "307:\tlearn: 0.0738387\ttotal: 879ms\tremaining: 1.97s\n",
      "308:\tlearn: 0.0737345\ttotal: 881ms\tremaining: 1.97s\n",
      "309:\tlearn: 0.0735584\ttotal: 884ms\tremaining: 1.97s\n",
      "310:\tlearn: 0.0734612\ttotal: 886ms\tremaining: 1.96s\n",
      "311:\tlearn: 0.0733950\ttotal: 889ms\tremaining: 1.96s\n",
      "312:\tlearn: 0.0733052\ttotal: 894ms\tremaining: 1.96s\n",
      "313:\tlearn: 0.0732197\ttotal: 897ms\tremaining: 1.96s\n",
      "314:\tlearn: 0.0730354\ttotal: 900ms\tremaining: 1.96s\n",
      "315:\tlearn: 0.0728761\ttotal: 903ms\tremaining: 1.95s\n",
      "316:\tlearn: 0.0727894\ttotal: 907ms\tremaining: 1.95s\n",
      "317:\tlearn: 0.0726905\ttotal: 910ms\tremaining: 1.95s\n",
      "318:\tlearn: 0.0726321\ttotal: 914ms\tremaining: 1.95s\n",
      "319:\tlearn: 0.0725246\ttotal: 917ms\tremaining: 1.95s\n",
      "320:\tlearn: 0.0723999\ttotal: 922ms\tremaining: 1.95s\n",
      "321:\tlearn: 0.0723312\ttotal: 926ms\tremaining: 1.95s\n",
      "322:\tlearn: 0.0722542\ttotal: 928ms\tremaining: 1.95s\n",
      "323:\tlearn: 0.0721531\ttotal: 931ms\tremaining: 1.94s\n",
      "324:\tlearn: 0.0720898\ttotal: 933ms\tremaining: 1.94s\n",
      "325:\tlearn: 0.0719207\ttotal: 936ms\tremaining: 1.93s\n",
      "326:\tlearn: 0.0718803\ttotal: 938ms\tremaining: 1.93s\n",
      "327:\tlearn: 0.0717807\ttotal: 941ms\tremaining: 1.93s\n",
      "328:\tlearn: 0.0716234\ttotal: 943ms\tremaining: 1.92s\n",
      "329:\tlearn: 0.0715482\ttotal: 946ms\tremaining: 1.92s\n",
      "330:\tlearn: 0.0714037\ttotal: 949ms\tremaining: 1.92s\n",
      "331:\tlearn: 0.0713288\ttotal: 951ms\tremaining: 1.91s\n",
      "332:\tlearn: 0.0711767\ttotal: 954ms\tremaining: 1.91s\n",
      "333:\tlearn: 0.0711114\ttotal: 957ms\tremaining: 1.91s\n",
      "334:\tlearn: 0.0709935\ttotal: 959ms\tremaining: 1.9s\n",
      "335:\tlearn: 0.0709148\ttotal: 961ms\tremaining: 1.9s\n",
      "336:\tlearn: 0.0708409\ttotal: 964ms\tremaining: 1.9s\n",
      "337:\tlearn: 0.0707165\ttotal: 966ms\tremaining: 1.89s\n",
      "338:\tlearn: 0.0706313\ttotal: 969ms\tremaining: 1.89s\n"
     ]
    },
    {
     "name": "stdout",
     "output_type": "stream",
     "text": [
      "339:\tlearn: 0.0705133\ttotal: 972ms\tremaining: 1.89s\n",
      "340:\tlearn: 0.0703983\ttotal: 974ms\tremaining: 1.88s\n",
      "341:\tlearn: 0.0703435\ttotal: 977ms\tremaining: 1.88s\n",
      "342:\tlearn: 0.0702758\ttotal: 980ms\tremaining: 1.88s\n",
      "343:\tlearn: 0.0702080\ttotal: 983ms\tremaining: 1.87s\n",
      "344:\tlearn: 0.0701407\ttotal: 986ms\tremaining: 1.87s\n",
      "345:\tlearn: 0.0700204\ttotal: 988ms\tremaining: 1.87s\n",
      "346:\tlearn: 0.0699486\ttotal: 991ms\tremaining: 1.86s\n",
      "347:\tlearn: 0.0698113\ttotal: 993ms\tremaining: 1.86s\n",
      "348:\tlearn: 0.0697571\ttotal: 995ms\tremaining: 1.86s\n",
      "349:\tlearn: 0.0697176\ttotal: 998ms\tremaining: 1.85s\n",
      "350:\tlearn: 0.0695959\ttotal: 1s\tremaining: 1.85s\n",
      "351:\tlearn: 0.0695094\ttotal: 1s\tremaining: 1.85s\n",
      "352:\tlearn: 0.0694012\ttotal: 1s\tremaining: 1.84s\n",
      "353:\tlearn: 0.0692928\ttotal: 1.01s\tremaining: 1.84s\n",
      "354:\tlearn: 0.0692228\ttotal: 1.01s\tremaining: 1.84s\n",
      "355:\tlearn: 0.0690759\ttotal: 1.01s\tremaining: 1.83s\n",
      "356:\tlearn: 0.0689594\ttotal: 1.01s\tremaining: 1.83s\n",
      "357:\tlearn: 0.0688531\ttotal: 1.02s\tremaining: 1.83s\n",
      "358:\tlearn: 0.0687721\ttotal: 1.02s\tremaining: 1.82s\n",
      "359:\tlearn: 0.0686646\ttotal: 1.02s\tremaining: 1.82s\n",
      "360:\tlearn: 0.0685732\ttotal: 1.03s\tremaining: 1.82s\n",
      "361:\tlearn: 0.0685209\ttotal: 1.03s\tremaining: 1.81s\n",
      "362:\tlearn: 0.0683421\ttotal: 1.03s\tremaining: 1.81s\n",
      "363:\tlearn: 0.0682450\ttotal: 1.03s\tremaining: 1.8s\n",
      "364:\tlearn: 0.0681729\ttotal: 1.03s\tremaining: 1.8s\n",
      "365:\tlearn: 0.0681216\ttotal: 1.04s\tremaining: 1.8s\n",
      "366:\tlearn: 0.0679774\ttotal: 1.04s\tremaining: 1.79s\n",
      "367:\tlearn: 0.0679227\ttotal: 1.04s\tremaining: 1.79s\n",
      "368:\tlearn: 0.0678359\ttotal: 1.04s\tremaining: 1.79s\n",
      "369:\tlearn: 0.0677185\ttotal: 1.05s\tremaining: 1.78s\n",
      "370:\tlearn: 0.0676252\ttotal: 1.05s\tremaining: 1.78s\n",
      "371:\tlearn: 0.0675686\ttotal: 1.05s\tremaining: 1.78s\n",
      "372:\tlearn: 0.0674694\ttotal: 1.05s\tremaining: 1.77s\n",
      "373:\tlearn: 0.0673712\ttotal: 1.06s\tremaining: 1.77s\n",
      "374:\tlearn: 0.0673300\ttotal: 1.06s\tremaining: 1.77s\n",
      "375:\tlearn: 0.0671594\ttotal: 1.06s\tremaining: 1.77s\n",
      "376:\tlearn: 0.0670844\ttotal: 1.07s\tremaining: 1.76s\n",
      "377:\tlearn: 0.0670092\ttotal: 1.07s\tremaining: 1.76s\n",
      "378:\tlearn: 0.0669048\ttotal: 1.07s\tremaining: 1.75s\n",
      "379:\tlearn: 0.0667798\ttotal: 1.07s\tremaining: 1.75s\n",
      "380:\tlearn: 0.0666863\ttotal: 1.07s\tremaining: 1.75s\n",
      "381:\tlearn: 0.0665638\ttotal: 1.08s\tremaining: 1.74s\n",
      "382:\tlearn: 0.0664794\ttotal: 1.08s\tremaining: 1.74s\n",
      "383:\tlearn: 0.0663672\ttotal: 1.08s\tremaining: 1.74s\n",
      "384:\tlearn: 0.0662876\ttotal: 1.08s\tremaining: 1.73s\n",
      "385:\tlearn: 0.0662147\ttotal: 1.09s\tremaining: 1.73s\n",
      "386:\tlearn: 0.0661096\ttotal: 1.09s\tremaining: 1.73s\n",
      "387:\tlearn: 0.0660483\ttotal: 1.09s\tremaining: 1.72s\n",
      "388:\tlearn: 0.0659705\ttotal: 1.1s\tremaining: 1.72s\n",
      "389:\tlearn: 0.0659195\ttotal: 1.1s\tremaining: 1.72s\n",
      "390:\tlearn: 0.0658478\ttotal: 1.1s\tremaining: 1.72s\n",
      "391:\tlearn: 0.0657702\ttotal: 1.1s\tremaining: 1.71s\n",
      "392:\tlearn: 0.0656974\ttotal: 1.11s\tremaining: 1.71s\n",
      "393:\tlearn: 0.0656053\ttotal: 1.11s\tremaining: 1.71s\n",
      "394:\tlearn: 0.0655076\ttotal: 1.11s\tremaining: 1.7s\n",
      "395:\tlearn: 0.0654163\ttotal: 1.11s\tremaining: 1.7s\n",
      "396:\tlearn: 0.0653289\ttotal: 1.12s\tremaining: 1.7s\n",
      "397:\tlearn: 0.0651790\ttotal: 1.12s\tremaining: 1.69s\n",
      "398:\tlearn: 0.0651046\ttotal: 1.12s\tremaining: 1.69s\n",
      "399:\tlearn: 0.0649674\ttotal: 1.13s\tremaining: 1.69s\n",
      "400:\tlearn: 0.0648123\ttotal: 1.13s\tremaining: 1.69s\n",
      "401:\tlearn: 0.0647393\ttotal: 1.13s\tremaining: 1.68s\n",
      "402:\tlearn: 0.0646407\ttotal: 1.13s\tremaining: 1.68s\n",
      "403:\tlearn: 0.0645501\ttotal: 1.14s\tremaining: 1.68s\n",
      "404:\tlearn: 0.0644827\ttotal: 1.14s\tremaining: 1.67s\n",
      "405:\tlearn: 0.0644169\ttotal: 1.14s\tremaining: 1.67s\n",
      "406:\tlearn: 0.0643691\ttotal: 1.14s\tremaining: 1.67s\n",
      "407:\tlearn: 0.0642890\ttotal: 1.15s\tremaining: 1.66s\n",
      "408:\tlearn: 0.0642069\ttotal: 1.15s\tremaining: 1.66s\n",
      "409:\tlearn: 0.0640562\ttotal: 1.15s\tremaining: 1.66s\n",
      "410:\tlearn: 0.0640224\ttotal: 1.15s\tremaining: 1.65s\n",
      "411:\tlearn: 0.0639473\ttotal: 1.16s\tremaining: 1.65s\n",
      "412:\tlearn: 0.0638460\ttotal: 1.16s\tremaining: 1.65s\n",
      "413:\tlearn: 0.0637533\ttotal: 1.16s\tremaining: 1.65s\n",
      "414:\tlearn: 0.0636729\ttotal: 1.17s\tremaining: 1.64s\n",
      "415:\tlearn: 0.0636091\ttotal: 1.17s\tremaining: 1.64s\n",
      "416:\tlearn: 0.0635096\ttotal: 1.17s\tremaining: 1.64s\n",
      "417:\tlearn: 0.0634646\ttotal: 1.17s\tremaining: 1.63s\n",
      "418:\tlearn: 0.0634013\ttotal: 1.18s\tremaining: 1.63s\n",
      "419:\tlearn: 0.0633475\ttotal: 1.18s\tremaining: 1.63s\n",
      "420:\tlearn: 0.0632998\ttotal: 1.18s\tremaining: 1.63s\n",
      "421:\tlearn: 0.0632252\ttotal: 1.18s\tremaining: 1.62s\n",
      "422:\tlearn: 0.0631415\ttotal: 1.19s\tremaining: 1.62s\n",
      "423:\tlearn: 0.0630597\ttotal: 1.19s\tremaining: 1.62s\n",
      "424:\tlearn: 0.0629407\ttotal: 1.19s\tremaining: 1.61s\n",
      "425:\tlearn: 0.0628768\ttotal: 1.2s\tremaining: 1.61s\n",
      "426:\tlearn: 0.0627947\ttotal: 1.2s\tremaining: 1.61s\n",
      "427:\tlearn: 0.0627681\ttotal: 1.2s\tremaining: 1.6s\n",
      "428:\tlearn: 0.0626622\ttotal: 1.2s\tremaining: 1.6s\n",
      "429:\tlearn: 0.0626056\ttotal: 1.21s\tremaining: 1.6s\n",
      "430:\tlearn: 0.0625510\ttotal: 1.21s\tremaining: 1.59s\n",
      "431:\tlearn: 0.0624455\ttotal: 1.21s\tremaining: 1.59s\n",
      "432:\tlearn: 0.0623519\ttotal: 1.21s\tremaining: 1.59s\n",
      "433:\tlearn: 0.0622885\ttotal: 1.22s\tremaining: 1.59s\n",
      "434:\tlearn: 0.0622164\ttotal: 1.22s\tremaining: 1.58s\n",
      "435:\tlearn: 0.0621423\ttotal: 1.22s\tremaining: 1.58s\n",
      "436:\tlearn: 0.0620727\ttotal: 1.23s\tremaining: 1.58s\n",
      "437:\tlearn: 0.0620061\ttotal: 1.23s\tremaining: 1.58s\n",
      "438:\tlearn: 0.0618810\ttotal: 1.23s\tremaining: 1.57s\n",
      "439:\tlearn: 0.0618370\ttotal: 1.23s\tremaining: 1.57s\n",
      "440:\tlearn: 0.0617953\ttotal: 1.24s\tremaining: 1.57s\n",
      "441:\tlearn: 0.0617522\ttotal: 1.24s\tremaining: 1.56s\n",
      "442:\tlearn: 0.0617029\ttotal: 1.24s\tremaining: 1.56s\n",
      "443:\tlearn: 0.0616211\ttotal: 1.25s\tremaining: 1.56s\n",
      "444:\tlearn: 0.0615419\ttotal: 1.25s\tremaining: 1.56s\n",
      "445:\tlearn: 0.0614775\ttotal: 1.25s\tremaining: 1.55s\n",
      "446:\tlearn: 0.0613690\ttotal: 1.25s\tremaining: 1.55s\n",
      "447:\tlearn: 0.0612963\ttotal: 1.26s\tremaining: 1.55s\n",
      "448:\tlearn: 0.0612434\ttotal: 1.26s\tremaining: 1.54s\n",
      "449:\tlearn: 0.0611850\ttotal: 1.26s\tremaining: 1.54s\n",
      "450:\tlearn: 0.0611145\ttotal: 1.26s\tremaining: 1.54s\n",
      "451:\tlearn: 0.0610422\ttotal: 1.27s\tremaining: 1.53s\n",
      "452:\tlearn: 0.0609756\ttotal: 1.27s\tremaining: 1.53s\n",
      "453:\tlearn: 0.0609083\ttotal: 1.27s\tremaining: 1.53s\n",
      "454:\tlearn: 0.0608520\ttotal: 1.27s\tremaining: 1.53s\n",
      "455:\tlearn: 0.0607883\ttotal: 1.28s\tremaining: 1.52s\n",
      "456:\tlearn: 0.0607099\ttotal: 1.28s\tremaining: 1.52s\n",
      "457:\tlearn: 0.0606619\ttotal: 1.28s\tremaining: 1.52s\n",
      "458:\tlearn: 0.0605818\ttotal: 1.28s\tremaining: 1.51s\n",
      "459:\tlearn: 0.0604571\ttotal: 1.29s\tremaining: 1.51s\n",
      "460:\tlearn: 0.0603488\ttotal: 1.29s\tremaining: 1.51s\n",
      "461:\tlearn: 0.0603156\ttotal: 1.3s\tremaining: 1.51s\n",
      "462:\tlearn: 0.0602221\ttotal: 1.3s\tremaining: 1.51s\n",
      "463:\tlearn: 0.0601523\ttotal: 1.3s\tremaining: 1.5s\n",
      "464:\tlearn: 0.0600432\ttotal: 1.3s\tremaining: 1.5s\n",
      "465:\tlearn: 0.0599876\ttotal: 1.31s\tremaining: 1.5s\n",
      "466:\tlearn: 0.0598234\ttotal: 1.31s\tremaining: 1.5s\n",
      "467:\tlearn: 0.0597060\ttotal: 1.31s\tremaining: 1.49s\n",
      "468:\tlearn: 0.0596704\ttotal: 1.32s\tremaining: 1.49s\n",
      "469:\tlearn: 0.0596240\ttotal: 1.32s\tremaining: 1.49s\n",
      "470:\tlearn: 0.0595931\ttotal: 1.32s\tremaining: 1.48s\n",
      "471:\tlearn: 0.0595477\ttotal: 1.32s\tremaining: 1.48s\n",
      "472:\tlearn: 0.0594768\ttotal: 1.33s\tremaining: 1.48s\n",
      "473:\tlearn: 0.0594389\ttotal: 1.33s\tremaining: 1.48s\n",
      "474:\tlearn: 0.0593632\ttotal: 1.33s\tremaining: 1.47s\n",
      "475:\tlearn: 0.0593266\ttotal: 1.33s\tremaining: 1.47s\n",
      "476:\tlearn: 0.0592703\ttotal: 1.34s\tremaining: 1.47s\n",
      "477:\tlearn: 0.0592224\ttotal: 1.34s\tremaining: 1.46s\n",
      "478:\tlearn: 0.0591409\ttotal: 1.34s\tremaining: 1.46s\n",
      "479:\tlearn: 0.0590588\ttotal: 1.34s\tremaining: 1.46s\n",
      "480:\tlearn: 0.0589726\ttotal: 1.35s\tremaining: 1.45s\n",
      "481:\tlearn: 0.0589375\ttotal: 1.35s\tremaining: 1.45s\n",
      "482:\tlearn: 0.0588935\ttotal: 1.35s\tremaining: 1.45s\n",
      "483:\tlearn: 0.0587963\ttotal: 1.36s\tremaining: 1.45s\n",
      "484:\tlearn: 0.0587044\ttotal: 1.36s\tremaining: 1.44s\n",
      "485:\tlearn: 0.0585911\ttotal: 1.36s\tremaining: 1.44s\n",
      "486:\tlearn: 0.0585640\ttotal: 1.36s\tremaining: 1.44s\n",
      "487:\tlearn: 0.0584757\ttotal: 1.37s\tremaining: 1.44s\n",
      "488:\tlearn: 0.0584400\ttotal: 1.37s\tremaining: 1.43s\n",
      "489:\tlearn: 0.0583845\ttotal: 1.37s\tremaining: 1.43s\n",
      "490:\tlearn: 0.0583494\ttotal: 1.38s\tremaining: 1.43s\n",
      "491:\tlearn: 0.0582808\ttotal: 1.38s\tremaining: 1.43s\n",
      "492:\tlearn: 0.0582527\ttotal: 1.38s\tremaining: 1.42s\n",
      "493:\tlearn: 0.0582230\ttotal: 1.39s\tremaining: 1.42s\n",
      "494:\tlearn: 0.0581582\ttotal: 1.39s\tremaining: 1.42s\n",
      "495:\tlearn: 0.0581060\ttotal: 1.39s\tremaining: 1.41s\n",
      "496:\tlearn: 0.0580605\ttotal: 1.39s\tremaining: 1.41s\n",
      "497:\tlearn: 0.0580178\ttotal: 1.4s\tremaining: 1.41s\n",
      "498:\tlearn: 0.0579588\ttotal: 1.4s\tremaining: 1.4s\n",
      "499:\tlearn: 0.0578874\ttotal: 1.4s\tremaining: 1.4s\n",
      "500:\tlearn: 0.0578442\ttotal: 1.4s\tremaining: 1.4s\n",
      "501:\tlearn: 0.0578248\ttotal: 1.41s\tremaining: 1.39s\n",
      "502:\tlearn: 0.0577228\ttotal: 1.41s\tremaining: 1.39s\n",
      "503:\tlearn: 0.0576816\ttotal: 1.41s\tremaining: 1.39s\n",
      "504:\tlearn: 0.0575790\ttotal: 1.42s\tremaining: 1.39s\n",
      "505:\tlearn: 0.0575351\ttotal: 1.42s\tremaining: 1.38s\n",
      "506:\tlearn: 0.0574957\ttotal: 1.42s\tremaining: 1.38s\n",
      "507:\tlearn: 0.0574658\ttotal: 1.42s\tremaining: 1.38s\n",
      "508:\tlearn: 0.0574210\ttotal: 1.43s\tremaining: 1.38s\n",
      "509:\tlearn: 0.0573304\ttotal: 1.43s\tremaining: 1.37s\n",
      "510:\tlearn: 0.0572578\ttotal: 1.43s\tremaining: 1.37s\n",
      "511:\tlearn: 0.0572026\ttotal: 1.43s\tremaining: 1.37s\n",
      "512:\tlearn: 0.0571409\ttotal: 1.44s\tremaining: 1.36s\n",
      "513:\tlearn: 0.0571090\ttotal: 1.44s\tremaining: 1.36s\n",
      "514:\tlearn: 0.0570629\ttotal: 1.44s\tremaining: 1.36s\n",
      "515:\tlearn: 0.0570353\ttotal: 1.44s\tremaining: 1.35s\n",
      "516:\tlearn: 0.0569851\ttotal: 1.45s\tremaining: 1.35s\n",
      "517:\tlearn: 0.0569146\ttotal: 1.45s\tremaining: 1.35s\n",
      "518:\tlearn: 0.0567934\ttotal: 1.45s\tremaining: 1.34s\n",
      "519:\tlearn: 0.0567007\ttotal: 1.45s\tremaining: 1.34s\n",
      "520:\tlearn: 0.0566397\ttotal: 1.46s\tremaining: 1.34s\n",
      "521:\tlearn: 0.0565962\ttotal: 1.46s\tremaining: 1.34s\n",
      "522:\tlearn: 0.0565585\ttotal: 1.46s\tremaining: 1.33s\n",
      "523:\tlearn: 0.0564376\ttotal: 1.46s\tremaining: 1.33s\n",
      "524:\tlearn: 0.0563674\ttotal: 1.47s\tremaining: 1.33s\n",
      "525:\tlearn: 0.0563311\ttotal: 1.47s\tremaining: 1.32s\n",
      "526:\tlearn: 0.0562879\ttotal: 1.47s\tremaining: 1.32s\n",
      "527:\tlearn: 0.0562443\ttotal: 1.48s\tremaining: 1.32s\n",
      "528:\tlearn: 0.0561907\ttotal: 1.48s\tremaining: 1.32s\n",
      "529:\tlearn: 0.0561246\ttotal: 1.48s\tremaining: 1.31s\n"
     ]
    },
    {
     "name": "stdout",
     "output_type": "stream",
     "text": [
      "530:\tlearn: 0.0560242\ttotal: 1.48s\tremaining: 1.31s\n",
      "531:\tlearn: 0.0559892\ttotal: 1.49s\tremaining: 1.31s\n",
      "532:\tlearn: 0.0559294\ttotal: 1.49s\tremaining: 1.3s\n",
      "533:\tlearn: 0.0558558\ttotal: 1.49s\tremaining: 1.3s\n",
      "534:\tlearn: 0.0558133\ttotal: 1.5s\tremaining: 1.3s\n",
      "535:\tlearn: 0.0557497\ttotal: 1.5s\tremaining: 1.3s\n",
      "536:\tlearn: 0.0556386\ttotal: 1.5s\tremaining: 1.29s\n",
      "537:\tlearn: 0.0555984\ttotal: 1.51s\tremaining: 1.29s\n",
      "538:\tlearn: 0.0555457\ttotal: 1.51s\tremaining: 1.29s\n",
      "539:\tlearn: 0.0554940\ttotal: 1.51s\tremaining: 1.29s\n",
      "540:\tlearn: 0.0554485\ttotal: 1.51s\tremaining: 1.28s\n",
      "541:\tlearn: 0.0553876\ttotal: 1.52s\tremaining: 1.28s\n",
      "542:\tlearn: 0.0553708\ttotal: 1.52s\tremaining: 1.28s\n",
      "543:\tlearn: 0.0552514\ttotal: 1.52s\tremaining: 1.28s\n",
      "544:\tlearn: 0.0551583\ttotal: 1.52s\tremaining: 1.27s\n",
      "545:\tlearn: 0.0550958\ttotal: 1.53s\tremaining: 1.27s\n",
      "546:\tlearn: 0.0550276\ttotal: 1.53s\tremaining: 1.27s\n",
      "547:\tlearn: 0.0549760\ttotal: 1.53s\tremaining: 1.26s\n",
      "548:\tlearn: 0.0549423\ttotal: 1.54s\tremaining: 1.26s\n",
      "549:\tlearn: 0.0549045\ttotal: 1.54s\tremaining: 1.26s\n",
      "550:\tlearn: 0.0548462\ttotal: 1.54s\tremaining: 1.26s\n",
      "551:\tlearn: 0.0548078\ttotal: 1.54s\tremaining: 1.25s\n",
      "552:\tlearn: 0.0547755\ttotal: 1.55s\tremaining: 1.25s\n",
      "553:\tlearn: 0.0547320\ttotal: 1.55s\tremaining: 1.25s\n",
      "554:\tlearn: 0.0546754\ttotal: 1.55s\tremaining: 1.24s\n",
      "555:\tlearn: 0.0546508\ttotal: 1.55s\tremaining: 1.24s\n",
      "556:\tlearn: 0.0546000\ttotal: 1.56s\tremaining: 1.24s\n",
      "557:\tlearn: 0.0545481\ttotal: 1.56s\tremaining: 1.24s\n",
      "558:\tlearn: 0.0544713\ttotal: 1.56s\tremaining: 1.23s\n",
      "559:\tlearn: 0.0544153\ttotal: 1.57s\tremaining: 1.23s\n",
      "560:\tlearn: 0.0543735\ttotal: 1.57s\tremaining: 1.23s\n",
      "561:\tlearn: 0.0543259\ttotal: 1.57s\tremaining: 1.22s\n",
      "562:\tlearn: 0.0542733\ttotal: 1.57s\tremaining: 1.22s\n",
      "563:\tlearn: 0.0542183\ttotal: 1.58s\tremaining: 1.22s\n",
      "564:\tlearn: 0.0541182\ttotal: 1.58s\tremaining: 1.22s\n",
      "565:\tlearn: 0.0540821\ttotal: 1.58s\tremaining: 1.21s\n",
      "566:\tlearn: 0.0539804\ttotal: 1.58s\tremaining: 1.21s\n",
      "567:\tlearn: 0.0539491\ttotal: 1.59s\tremaining: 1.21s\n",
      "568:\tlearn: 0.0539092\ttotal: 1.59s\tremaining: 1.21s\n",
      "569:\tlearn: 0.0537903\ttotal: 1.59s\tremaining: 1.2s\n",
      "570:\tlearn: 0.0537770\ttotal: 1.6s\tremaining: 1.2s\n",
      "571:\tlearn: 0.0536825\ttotal: 1.6s\tremaining: 1.2s\n",
      "572:\tlearn: 0.0536367\ttotal: 1.6s\tremaining: 1.19s\n",
      "573:\tlearn: 0.0535501\ttotal: 1.6s\tremaining: 1.19s\n",
      "574:\tlearn: 0.0534864\ttotal: 1.61s\tremaining: 1.19s\n",
      "575:\tlearn: 0.0534313\ttotal: 1.61s\tremaining: 1.19s\n",
      "576:\tlearn: 0.0533840\ttotal: 1.61s\tremaining: 1.18s\n",
      "577:\tlearn: 0.0532865\ttotal: 1.62s\tremaining: 1.18s\n",
      "578:\tlearn: 0.0532451\ttotal: 1.63s\tremaining: 1.18s\n",
      "579:\tlearn: 0.0531935\ttotal: 1.63s\tremaining: 1.18s\n",
      "580:\tlearn: 0.0531438\ttotal: 1.63s\tremaining: 1.18s\n",
      "581:\tlearn: 0.0530415\ttotal: 1.63s\tremaining: 1.17s\n",
      "582:\tlearn: 0.0529777\ttotal: 1.64s\tremaining: 1.17s\n",
      "583:\tlearn: 0.0529318\ttotal: 1.64s\tremaining: 1.17s\n",
      "584:\tlearn: 0.0528635\ttotal: 1.64s\tremaining: 1.16s\n",
      "585:\tlearn: 0.0528103\ttotal: 1.64s\tremaining: 1.16s\n",
      "586:\tlearn: 0.0527547\ttotal: 1.65s\tremaining: 1.16s\n",
      "587:\tlearn: 0.0527201\ttotal: 1.65s\tremaining: 1.16s\n",
      "588:\tlearn: 0.0526649\ttotal: 1.65s\tremaining: 1.15s\n",
      "589:\tlearn: 0.0526122\ttotal: 1.65s\tremaining: 1.15s\n",
      "590:\tlearn: 0.0525891\ttotal: 1.66s\tremaining: 1.15s\n",
      "591:\tlearn: 0.0525566\ttotal: 1.66s\tremaining: 1.14s\n",
      "592:\tlearn: 0.0525067\ttotal: 1.66s\tremaining: 1.14s\n",
      "593:\tlearn: 0.0524771\ttotal: 1.66s\tremaining: 1.14s\n",
      "594:\tlearn: 0.0524230\ttotal: 1.67s\tremaining: 1.14s\n",
      "595:\tlearn: 0.0523828\ttotal: 1.67s\tremaining: 1.13s\n",
      "596:\tlearn: 0.0523246\ttotal: 1.67s\tremaining: 1.13s\n",
      "597:\tlearn: 0.0523133\ttotal: 1.68s\tremaining: 1.13s\n",
      "598:\tlearn: 0.0523000\ttotal: 1.68s\tremaining: 1.12s\n",
      "599:\tlearn: 0.0522565\ttotal: 1.68s\tremaining: 1.12s\n",
      "600:\tlearn: 0.0521754\ttotal: 1.68s\tremaining: 1.12s\n",
      "601:\tlearn: 0.0521278\ttotal: 1.69s\tremaining: 1.11s\n",
      "602:\tlearn: 0.0521057\ttotal: 1.69s\tremaining: 1.11s\n",
      "603:\tlearn: 0.0519973\ttotal: 1.69s\tremaining: 1.11s\n",
      "604:\tlearn: 0.0519444\ttotal: 1.69s\tremaining: 1.11s\n",
      "605:\tlearn: 0.0518935\ttotal: 1.7s\tremaining: 1.1s\n",
      "606:\tlearn: 0.0518621\ttotal: 1.7s\tremaining: 1.1s\n",
      "607:\tlearn: 0.0518208\ttotal: 1.7s\tremaining: 1.1s\n",
      "608:\tlearn: 0.0517601\ttotal: 1.7s\tremaining: 1.09s\n",
      "609:\tlearn: 0.0517070\ttotal: 1.71s\tremaining: 1.09s\n",
      "610:\tlearn: 0.0516745\ttotal: 1.71s\tremaining: 1.09s\n",
      "611:\tlearn: 0.0516099\ttotal: 1.71s\tremaining: 1.08s\n",
      "612:\tlearn: 0.0515817\ttotal: 1.71s\tremaining: 1.08s\n",
      "613:\tlearn: 0.0515238\ttotal: 1.72s\tremaining: 1.08s\n",
      "614:\tlearn: 0.0514728\ttotal: 1.72s\tremaining: 1.08s\n",
      "615:\tlearn: 0.0514070\ttotal: 1.72s\tremaining: 1.07s\n",
      "616:\tlearn: 0.0513698\ttotal: 1.73s\tremaining: 1.07s\n",
      "617:\tlearn: 0.0513262\ttotal: 1.73s\tremaining: 1.07s\n",
      "618:\tlearn: 0.0512990\ttotal: 1.73s\tremaining: 1.06s\n",
      "619:\tlearn: 0.0512213\ttotal: 1.73s\tremaining: 1.06s\n",
      "620:\tlearn: 0.0511705\ttotal: 1.74s\tremaining: 1.06s\n",
      "621:\tlearn: 0.0511339\ttotal: 1.74s\tremaining: 1.06s\n",
      "622:\tlearn: 0.0510838\ttotal: 1.74s\tremaining: 1.05s\n",
      "623:\tlearn: 0.0510299\ttotal: 1.74s\tremaining: 1.05s\n",
      "624:\tlearn: 0.0509941\ttotal: 1.75s\tremaining: 1.05s\n",
      "625:\tlearn: 0.0509460\ttotal: 1.75s\tremaining: 1.04s\n",
      "626:\tlearn: 0.0508601\ttotal: 1.75s\tremaining: 1.04s\n",
      "627:\tlearn: 0.0508178\ttotal: 1.75s\tremaining: 1.04s\n",
      "628:\tlearn: 0.0507694\ttotal: 1.76s\tremaining: 1.04s\n",
      "629:\tlearn: 0.0507170\ttotal: 1.76s\tremaining: 1.03s\n",
      "630:\tlearn: 0.0506537\ttotal: 1.76s\tremaining: 1.03s\n",
      "631:\tlearn: 0.0505694\ttotal: 1.76s\tremaining: 1.03s\n",
      "632:\tlearn: 0.0505234\ttotal: 1.77s\tremaining: 1.02s\n",
      "633:\tlearn: 0.0504363\ttotal: 1.77s\tremaining: 1.02s\n",
      "634:\tlearn: 0.0504201\ttotal: 1.77s\tremaining: 1.02s\n",
      "635:\tlearn: 0.0503701\ttotal: 1.77s\tremaining: 1.01s\n",
      "636:\tlearn: 0.0503436\ttotal: 1.78s\tremaining: 1.01s\n",
      "637:\tlearn: 0.0502870\ttotal: 1.78s\tremaining: 1.01s\n",
      "638:\tlearn: 0.0502190\ttotal: 1.78s\tremaining: 1.01s\n",
      "639:\tlearn: 0.0501646\ttotal: 1.78s\tremaining: 1s\n",
      "640:\tlearn: 0.0501209\ttotal: 1.79s\tremaining: 1s\n",
      "641:\tlearn: 0.0501063\ttotal: 1.79s\tremaining: 999ms\n",
      "642:\tlearn: 0.0500554\ttotal: 1.79s\tremaining: 996ms\n",
      "643:\tlearn: 0.0499995\ttotal: 1.8s\tremaining: 993ms\n",
      "644:\tlearn: 0.0499623\ttotal: 1.8s\tremaining: 990ms\n",
      "645:\tlearn: 0.0499215\ttotal: 1.8s\tremaining: 987ms\n",
      "646:\tlearn: 0.0498164\ttotal: 1.8s\tremaining: 984ms\n",
      "647:\tlearn: 0.0497756\ttotal: 1.81s\tremaining: 981ms\n",
      "648:\tlearn: 0.0497164\ttotal: 1.81s\tremaining: 978ms\n",
      "649:\tlearn: 0.0496483\ttotal: 1.81s\tremaining: 975ms\n",
      "650:\tlearn: 0.0495923\ttotal: 1.81s\tremaining: 972ms\n",
      "651:\tlearn: 0.0495286\ttotal: 1.81s\tremaining: 969ms\n",
      "652:\tlearn: 0.0494542\ttotal: 1.82s\tremaining: 966ms\n",
      "653:\tlearn: 0.0493835\ttotal: 1.82s\tremaining: 964ms\n",
      "654:\tlearn: 0.0493687\ttotal: 1.82s\tremaining: 961ms\n",
      "655:\tlearn: 0.0493241\ttotal: 1.83s\tremaining: 958ms\n",
      "656:\tlearn: 0.0492771\ttotal: 1.83s\tremaining: 955ms\n",
      "657:\tlearn: 0.0492524\ttotal: 1.83s\tremaining: 953ms\n",
      "658:\tlearn: 0.0491778\ttotal: 1.83s\tremaining: 950ms\n",
      "659:\tlearn: 0.0491578\ttotal: 1.84s\tremaining: 947ms\n",
      "660:\tlearn: 0.0491107\ttotal: 1.84s\tremaining: 944ms\n",
      "661:\tlearn: 0.0490351\ttotal: 1.84s\tremaining: 941ms\n",
      "662:\tlearn: 0.0489865\ttotal: 1.85s\tremaining: 938ms\n",
      "663:\tlearn: 0.0489454\ttotal: 1.85s\tremaining: 936ms\n",
      "664:\tlearn: 0.0488981\ttotal: 1.85s\tremaining: 933ms\n",
      "665:\tlearn: 0.0488845\ttotal: 1.85s\tremaining: 930ms\n",
      "666:\tlearn: 0.0488158\ttotal: 1.86s\tremaining: 927ms\n",
      "667:\tlearn: 0.0487631\ttotal: 1.86s\tremaining: 925ms\n",
      "668:\tlearn: 0.0486666\ttotal: 1.86s\tremaining: 922ms\n",
      "669:\tlearn: 0.0486352\ttotal: 1.87s\tremaining: 919ms\n",
      "670:\tlearn: 0.0485850\ttotal: 1.87s\tremaining: 916ms\n",
      "671:\tlearn: 0.0484885\ttotal: 1.87s\tremaining: 914ms\n",
      "672:\tlearn: 0.0484379\ttotal: 1.88s\tremaining: 911ms\n",
      "673:\tlearn: 0.0484199\ttotal: 1.88s\tremaining: 909ms\n",
      "674:\tlearn: 0.0483286\ttotal: 1.88s\tremaining: 906ms\n",
      "675:\tlearn: 0.0483004\ttotal: 1.88s\tremaining: 903ms\n",
      "676:\tlearn: 0.0482446\ttotal: 1.89s\tremaining: 900ms\n",
      "677:\tlearn: 0.0482012\ttotal: 1.89s\tremaining: 897ms\n",
      "678:\tlearn: 0.0481376\ttotal: 1.89s\tremaining: 895ms\n",
      "679:\tlearn: 0.0480665\ttotal: 1.9s\tremaining: 892ms\n",
      "680:\tlearn: 0.0480366\ttotal: 1.9s\tremaining: 889ms\n",
      "681:\tlearn: 0.0479974\ttotal: 1.9s\tremaining: 886ms\n",
      "682:\tlearn: 0.0479809\ttotal: 1.9s\tremaining: 884ms\n",
      "683:\tlearn: 0.0479260\ttotal: 1.91s\tremaining: 881ms\n",
      "684:\tlearn: 0.0479032\ttotal: 1.91s\tremaining: 878ms\n",
      "685:\tlearn: 0.0478669\ttotal: 1.91s\tremaining: 876ms\n",
      "686:\tlearn: 0.0477925\ttotal: 1.92s\tremaining: 873ms\n",
      "687:\tlearn: 0.0477322\ttotal: 1.92s\tremaining: 870ms\n",
      "688:\tlearn: 0.0476580\ttotal: 1.92s\tremaining: 867ms\n",
      "689:\tlearn: 0.0476292\ttotal: 1.92s\tremaining: 865ms\n",
      "690:\tlearn: 0.0475805\ttotal: 1.93s\tremaining: 862ms\n",
      "691:\tlearn: 0.0475200\ttotal: 1.93s\tremaining: 859ms\n",
      "692:\tlearn: 0.0474582\ttotal: 1.93s\tremaining: 856ms\n",
      "693:\tlearn: 0.0474454\ttotal: 1.94s\tremaining: 853ms\n",
      "694:\tlearn: 0.0474038\ttotal: 1.94s\tremaining: 850ms\n",
      "695:\tlearn: 0.0473772\ttotal: 1.94s\tremaining: 848ms\n",
      "696:\tlearn: 0.0473316\ttotal: 1.94s\tremaining: 845ms\n",
      "697:\tlearn: 0.0472603\ttotal: 1.95s\tremaining: 842ms\n"
     ]
    },
    {
     "name": "stdout",
     "output_type": "stream",
     "text": [
      "698:\tlearn: 0.0471592\ttotal: 1.95s\tremaining: 839ms\n",
      "699:\tlearn: 0.0470983\ttotal: 1.95s\tremaining: 837ms\n",
      "700:\tlearn: 0.0470520\ttotal: 1.95s\tremaining: 834ms\n",
      "701:\tlearn: 0.0470313\ttotal: 1.96s\tremaining: 831ms\n",
      "702:\tlearn: 0.0469892\ttotal: 1.96s\tremaining: 828ms\n",
      "703:\tlearn: 0.0469517\ttotal: 1.96s\tremaining: 826ms\n",
      "704:\tlearn: 0.0468815\ttotal: 1.97s\tremaining: 823ms\n",
      "705:\tlearn: 0.0468603\ttotal: 1.97s\tremaining: 821ms\n",
      "706:\tlearn: 0.0467937\ttotal: 1.97s\tremaining: 818ms\n",
      "707:\tlearn: 0.0467434\ttotal: 1.98s\tremaining: 815ms\n",
      "708:\tlearn: 0.0466801\ttotal: 1.98s\tremaining: 812ms\n",
      "709:\tlearn: 0.0466329\ttotal: 1.98s\tremaining: 810ms\n",
      "710:\tlearn: 0.0466095\ttotal: 1.99s\tremaining: 807ms\n",
      "711:\tlearn: 0.0465460\ttotal: 1.99s\tremaining: 804ms\n",
      "712:\tlearn: 0.0465038\ttotal: 1.99s\tremaining: 802ms\n",
      "713:\tlearn: 0.0464752\ttotal: 1.99s\tremaining: 799ms\n",
      "714:\tlearn: 0.0464632\ttotal: 2s\tremaining: 796ms\n",
      "715:\tlearn: 0.0464339\ttotal: 2s\tremaining: 794ms\n",
      "716:\tlearn: 0.0464048\ttotal: 2s\tremaining: 791ms\n",
      "717:\tlearn: 0.0463159\ttotal: 2.01s\tremaining: 788ms\n",
      "718:\tlearn: 0.0462754\ttotal: 2.01s\tremaining: 785ms\n",
      "719:\tlearn: 0.0462495\ttotal: 2.01s\tremaining: 782ms\n",
      "720:\tlearn: 0.0462105\ttotal: 2.01s\tremaining: 779ms\n",
      "721:\tlearn: 0.0461460\ttotal: 2.02s\tremaining: 777ms\n",
      "722:\tlearn: 0.0461344\ttotal: 2.02s\tremaining: 774ms\n",
      "723:\tlearn: 0.0459917\ttotal: 2.02s\tremaining: 771ms\n",
      "724:\tlearn: 0.0459383\ttotal: 2.02s\tremaining: 768ms\n",
      "725:\tlearn: 0.0458717\ttotal: 2.03s\tremaining: 765ms\n",
      "726:\tlearn: 0.0458436\ttotal: 2.03s\tremaining: 762ms\n",
      "727:\tlearn: 0.0457960\ttotal: 2.03s\tremaining: 759ms\n",
      "728:\tlearn: 0.0457610\ttotal: 2.03s\tremaining: 756ms\n",
      "729:\tlearn: 0.0457108\ttotal: 2.04s\tremaining: 754ms\n",
      "730:\tlearn: 0.0455940\ttotal: 2.04s\tremaining: 751ms\n",
      "731:\tlearn: 0.0455247\ttotal: 2.04s\tremaining: 748ms\n",
      "732:\tlearn: 0.0455001\ttotal: 2.05s\tremaining: 745ms\n",
      "733:\tlearn: 0.0454526\ttotal: 2.05s\tremaining: 742ms\n",
      "734:\tlearn: 0.0454167\ttotal: 2.05s\tremaining: 740ms\n",
      "735:\tlearn: 0.0453973\ttotal: 2.05s\tremaining: 737ms\n",
      "736:\tlearn: 0.0453190\ttotal: 2.06s\tremaining: 734ms\n",
      "737:\tlearn: 0.0452984\ttotal: 2.06s\tremaining: 731ms\n",
      "738:\tlearn: 0.0452157\ttotal: 2.06s\tremaining: 728ms\n",
      "739:\tlearn: 0.0451676\ttotal: 2.06s\tremaining: 725ms\n",
      "740:\tlearn: 0.0450781\ttotal: 2.07s\tremaining: 723ms\n",
      "741:\tlearn: 0.0450422\ttotal: 2.07s\tremaining: 720ms\n",
      "742:\tlearn: 0.0450064\ttotal: 2.07s\tremaining: 717ms\n",
      "743:\tlearn: 0.0449470\ttotal: 2.08s\tremaining: 714ms\n",
      "744:\tlearn: 0.0449053\ttotal: 2.08s\tremaining: 711ms\n",
      "745:\tlearn: 0.0448481\ttotal: 2.08s\tremaining: 708ms\n",
      "746:\tlearn: 0.0447634\ttotal: 2.08s\tremaining: 706ms\n",
      "747:\tlearn: 0.0447025\ttotal: 2.08s\tremaining: 703ms\n",
      "748:\tlearn: 0.0446733\ttotal: 2.09s\tremaining: 700ms\n",
      "749:\tlearn: 0.0446390\ttotal: 2.09s\tremaining: 697ms\n",
      "750:\tlearn: 0.0446050\ttotal: 2.09s\tremaining: 694ms\n",
      "751:\tlearn: 0.0445120\ttotal: 2.1s\tremaining: 691ms\n",
      "752:\tlearn: 0.0444597\ttotal: 2.1s\tremaining: 688ms\n",
      "753:\tlearn: 0.0444144\ttotal: 2.1s\tremaining: 686ms\n",
      "754:\tlearn: 0.0443763\ttotal: 2.1s\tremaining: 683ms\n",
      "755:\tlearn: 0.0443379\ttotal: 2.11s\tremaining: 680ms\n",
      "756:\tlearn: 0.0443031\ttotal: 2.11s\tremaining: 677ms\n",
      "757:\tlearn: 0.0442719\ttotal: 2.11s\tremaining: 674ms\n",
      "758:\tlearn: 0.0442109\ttotal: 2.11s\tremaining: 672ms\n",
      "759:\tlearn: 0.0441218\ttotal: 2.12s\tremaining: 669ms\n",
      "760:\tlearn: 0.0441052\ttotal: 2.12s\tremaining: 666ms\n",
      "761:\tlearn: 0.0440679\ttotal: 2.12s\tremaining: 663ms\n",
      "762:\tlearn: 0.0440322\ttotal: 2.13s\tremaining: 660ms\n",
      "763:\tlearn: 0.0440123\ttotal: 2.13s\tremaining: 657ms\n",
      "764:\tlearn: 0.0439277\ttotal: 2.13s\tremaining: 654ms\n",
      "765:\tlearn: 0.0438839\ttotal: 2.13s\tremaining: 652ms\n",
      "766:\tlearn: 0.0438451\ttotal: 2.13s\tremaining: 649ms\n",
      "767:\tlearn: 0.0438364\ttotal: 2.14s\tremaining: 646ms\n",
      "768:\tlearn: 0.0438186\ttotal: 2.14s\tremaining: 643ms\n",
      "769:\tlearn: 0.0437676\ttotal: 2.14s\tremaining: 640ms\n",
      "770:\tlearn: 0.0437390\ttotal: 2.15s\tremaining: 638ms\n",
      "771:\tlearn: 0.0437003\ttotal: 2.15s\tremaining: 635ms\n",
      "772:\tlearn: 0.0436581\ttotal: 2.15s\tremaining: 632ms\n",
      "773:\tlearn: 0.0435450\ttotal: 2.15s\tremaining: 629ms\n",
      "774:\tlearn: 0.0434852\ttotal: 2.16s\tremaining: 626ms\n",
      "775:\tlearn: 0.0434160\ttotal: 2.16s\tremaining: 623ms\n",
      "776:\tlearn: 0.0433730\ttotal: 2.16s\tremaining: 621ms\n",
      "777:\tlearn: 0.0433278\ttotal: 2.17s\tremaining: 618ms\n",
      "778:\tlearn: 0.0432448\ttotal: 2.17s\tremaining: 615ms\n",
      "779:\tlearn: 0.0432208\ttotal: 2.17s\tremaining: 612ms\n",
      "780:\tlearn: 0.0431798\ttotal: 2.17s\tremaining: 609ms\n",
      "781:\tlearn: 0.0431473\ttotal: 2.17s\tremaining: 606ms\n",
      "782:\tlearn: 0.0431086\ttotal: 2.18s\tremaining: 604ms\n",
      "783:\tlearn: 0.0430822\ttotal: 2.18s\tremaining: 601ms\n",
      "784:\tlearn: 0.0430569\ttotal: 2.18s\tremaining: 598ms\n",
      "785:\tlearn: 0.0430415\ttotal: 2.19s\tremaining: 595ms\n",
      "786:\tlearn: 0.0429983\ttotal: 2.19s\tremaining: 592ms\n",
      "787:\tlearn: 0.0429573\ttotal: 2.19s\tremaining: 589ms\n",
      "788:\tlearn: 0.0428881\ttotal: 2.19s\tremaining: 587ms\n",
      "789:\tlearn: 0.0428612\ttotal: 2.2s\tremaining: 584ms\n",
      "790:\tlearn: 0.0428232\ttotal: 2.2s\tremaining: 581ms\n",
      "791:\tlearn: 0.0427665\ttotal: 2.2s\tremaining: 578ms\n",
      "792:\tlearn: 0.0427048\ttotal: 2.2s\tremaining: 575ms\n",
      "793:\tlearn: 0.0426756\ttotal: 2.21s\tremaining: 572ms\n",
      "794:\tlearn: 0.0426443\ttotal: 2.21s\tremaining: 570ms\n",
      "795:\tlearn: 0.0426318\ttotal: 2.21s\tremaining: 567ms\n",
      "796:\tlearn: 0.0425945\ttotal: 2.21s\tremaining: 564ms\n",
      "797:\tlearn: 0.0425635\ttotal: 2.22s\tremaining: 561ms\n",
      "798:\tlearn: 0.0425317\ttotal: 2.22s\tremaining: 558ms\n",
      "799:\tlearn: 0.0424901\ttotal: 2.22s\tremaining: 556ms\n",
      "800:\tlearn: 0.0424716\ttotal: 2.23s\tremaining: 553ms\n",
      "801:\tlearn: 0.0424298\ttotal: 2.23s\tremaining: 550ms\n",
      "802:\tlearn: 0.0423941\ttotal: 2.23s\tremaining: 547ms\n",
      "803:\tlearn: 0.0423420\ttotal: 2.23s\tremaining: 545ms\n",
      "804:\tlearn: 0.0423175\ttotal: 2.24s\tremaining: 542ms\n",
      "805:\tlearn: 0.0422608\ttotal: 2.24s\tremaining: 539ms\n",
      "806:\tlearn: 0.0422094\ttotal: 2.24s\tremaining: 536ms\n",
      "807:\tlearn: 0.0421740\ttotal: 2.24s\tremaining: 533ms\n",
      "808:\tlearn: 0.0421077\ttotal: 2.25s\tremaining: 530ms\n",
      "809:\tlearn: 0.0420721\ttotal: 2.25s\tremaining: 528ms\n",
      "810:\tlearn: 0.0420571\ttotal: 2.25s\tremaining: 525ms\n",
      "811:\tlearn: 0.0420088\ttotal: 2.26s\tremaining: 522ms\n",
      "812:\tlearn: 0.0419893\ttotal: 2.26s\tremaining: 520ms\n",
      "813:\tlearn: 0.0419434\ttotal: 2.26s\tremaining: 517ms\n",
      "814:\tlearn: 0.0419088\ttotal: 2.26s\tremaining: 514ms\n",
      "815:\tlearn: 0.0418993\ttotal: 2.27s\tremaining: 511ms\n",
      "816:\tlearn: 0.0418002\ttotal: 2.27s\tremaining: 508ms\n",
      "817:\tlearn: 0.0417252\ttotal: 2.27s\tremaining: 506ms\n",
      "818:\tlearn: 0.0416862\ttotal: 2.28s\tremaining: 503ms\n",
      "819:\tlearn: 0.0416742\ttotal: 2.28s\tremaining: 500ms\n",
      "820:\tlearn: 0.0416334\ttotal: 2.28s\tremaining: 498ms\n",
      "821:\tlearn: 0.0415950\ttotal: 2.29s\tremaining: 495ms\n",
      "822:\tlearn: 0.0415499\ttotal: 2.29s\tremaining: 492ms\n",
      "823:\tlearn: 0.0415111\ttotal: 2.29s\tremaining: 489ms\n",
      "824:\tlearn: 0.0414622\ttotal: 2.29s\tremaining: 487ms\n",
      "825:\tlearn: 0.0413787\ttotal: 2.3s\tremaining: 484ms\n",
      "826:\tlearn: 0.0413494\ttotal: 2.3s\tremaining: 481ms\n",
      "827:\tlearn: 0.0413106\ttotal: 2.3s\tremaining: 478ms\n",
      "828:\tlearn: 0.0413019\ttotal: 2.31s\tremaining: 476ms\n",
      "829:\tlearn: 0.0412934\ttotal: 2.31s\tremaining: 473ms\n",
      "830:\tlearn: 0.0412458\ttotal: 2.31s\tremaining: 470ms\n",
      "831:\tlearn: 0.0412375\ttotal: 2.31s\tremaining: 467ms\n",
      "832:\tlearn: 0.0411604\ttotal: 2.32s\tremaining: 464ms\n",
      "833:\tlearn: 0.0410930\ttotal: 2.32s\tremaining: 462ms\n",
      "834:\tlearn: 0.0410415\ttotal: 2.32s\tremaining: 459ms\n",
      "835:\tlearn: 0.0410148\ttotal: 2.32s\tremaining: 456ms\n",
      "836:\tlearn: 0.0409814\ttotal: 2.33s\tremaining: 454ms\n",
      "837:\tlearn: 0.0409287\ttotal: 2.33s\tremaining: 451ms\n",
      "838:\tlearn: 0.0408839\ttotal: 2.33s\tremaining: 448ms\n",
      "839:\tlearn: 0.0408239\ttotal: 2.34s\tremaining: 445ms\n",
      "840:\tlearn: 0.0407577\ttotal: 2.34s\tremaining: 442ms\n",
      "841:\tlearn: 0.0407357\ttotal: 2.34s\tremaining: 440ms\n",
      "842:\tlearn: 0.0407007\ttotal: 2.35s\tremaining: 437ms\n",
      "843:\tlearn: 0.0406292\ttotal: 2.35s\tremaining: 434ms\n",
      "844:\tlearn: 0.0406198\ttotal: 2.35s\tremaining: 431ms\n",
      "845:\tlearn: 0.0405744\ttotal: 2.35s\tremaining: 429ms\n",
      "846:\tlearn: 0.0405594\ttotal: 2.36s\tremaining: 426ms\n",
      "847:\tlearn: 0.0405535\ttotal: 2.36s\tremaining: 423ms\n",
      "848:\tlearn: 0.0404925\ttotal: 2.36s\tremaining: 420ms\n",
      "849:\tlearn: 0.0404514\ttotal: 2.37s\tremaining: 417ms\n",
      "850:\tlearn: 0.0404061\ttotal: 2.37s\tremaining: 415ms\n",
      "851:\tlearn: 0.0403687\ttotal: 2.37s\tremaining: 412ms\n",
      "852:\tlearn: 0.0403358\ttotal: 2.37s\tremaining: 409ms\n",
      "853:\tlearn: 0.0403103\ttotal: 2.38s\tremaining: 406ms\n",
      "854:\tlearn: 0.0402888\ttotal: 2.38s\tremaining: 403ms\n",
      "855:\tlearn: 0.0402584\ttotal: 2.38s\tremaining: 401ms\n",
      "856:\tlearn: 0.0402094\ttotal: 2.38s\tremaining: 398ms\n",
      "857:\tlearn: 0.0401764\ttotal: 2.39s\tremaining: 395ms\n",
      "858:\tlearn: 0.0401580\ttotal: 2.39s\tremaining: 392ms\n",
      "859:\tlearn: 0.0400903\ttotal: 2.39s\tremaining: 389ms\n",
      "860:\tlearn: 0.0400328\ttotal: 2.39s\tremaining: 387ms\n",
      "861:\tlearn: 0.0399820\ttotal: 2.4s\tremaining: 384ms\n",
      "862:\tlearn: 0.0399506\ttotal: 2.4s\tremaining: 381ms\n",
      "863:\tlearn: 0.0399199\ttotal: 2.4s\tremaining: 378ms\n",
      "864:\tlearn: 0.0398935\ttotal: 2.4s\tremaining: 375ms\n",
      "865:\tlearn: 0.0398534\ttotal: 2.41s\tremaining: 373ms\n",
      "866:\tlearn: 0.0398358\ttotal: 2.41s\tremaining: 370ms\n",
      "867:\tlearn: 0.0398273\ttotal: 2.41s\tremaining: 367ms\n",
      "868:\tlearn: 0.0397528\ttotal: 2.42s\tremaining: 364ms\n",
      "869:\tlearn: 0.0397219\ttotal: 2.42s\tremaining: 361ms\n",
      "870:\tlearn: 0.0396602\ttotal: 2.42s\tremaining: 359ms\n",
      "871:\tlearn: 0.0396232\ttotal: 2.42s\tremaining: 356ms\n",
      "872:\tlearn: 0.0395717\ttotal: 2.43s\tremaining: 353ms\n",
      "873:\tlearn: 0.0395031\ttotal: 2.43s\tremaining: 350ms\n",
      "874:\tlearn: 0.0394615\ttotal: 2.43s\tremaining: 347ms\n",
      "875:\tlearn: 0.0394445\ttotal: 2.43s\tremaining: 345ms\n",
      "876:\tlearn: 0.0394148\ttotal: 2.44s\tremaining: 342ms\n",
      "877:\tlearn: 0.0393727\ttotal: 2.44s\tremaining: 339ms\n",
      "878:\tlearn: 0.0393260\ttotal: 2.44s\tremaining: 336ms\n",
      "879:\tlearn: 0.0392831\ttotal: 2.44s\tremaining: 333ms\n",
      "880:\tlearn: 0.0392414\ttotal: 2.45s\tremaining: 331ms\n",
      "881:\tlearn: 0.0391966\ttotal: 2.45s\tremaining: 328ms\n",
      "882:\tlearn: 0.0391515\ttotal: 2.45s\tremaining: 325ms\n",
      "883:\tlearn: 0.0391111\ttotal: 2.46s\tremaining: 322ms\n",
      "884:\tlearn: 0.0390488\ttotal: 2.46s\tremaining: 319ms\n",
      "885:\tlearn: 0.0389976\ttotal: 2.46s\tremaining: 317ms\n",
      "886:\tlearn: 0.0389805\ttotal: 2.46s\tremaining: 314ms\n",
      "887:\tlearn: 0.0389564\ttotal: 2.46s\tremaining: 311ms\n"
     ]
    },
    {
     "name": "stdout",
     "output_type": "stream",
     "text": [
      "888:\tlearn: 0.0389108\ttotal: 2.47s\tremaining: 308ms\n",
      "889:\tlearn: 0.0388618\ttotal: 2.47s\tremaining: 305ms\n",
      "890:\tlearn: 0.0388270\ttotal: 2.47s\tremaining: 303ms\n",
      "891:\tlearn: 0.0387483\ttotal: 2.48s\tremaining: 300ms\n",
      "892:\tlearn: 0.0387424\ttotal: 2.48s\tremaining: 297ms\n",
      "893:\tlearn: 0.0386955\ttotal: 2.48s\tremaining: 294ms\n",
      "894:\tlearn: 0.0386672\ttotal: 2.48s\tremaining: 291ms\n",
      "895:\tlearn: 0.0385930\ttotal: 2.49s\tremaining: 289ms\n",
      "896:\tlearn: 0.0385647\ttotal: 2.49s\tremaining: 286ms\n",
      "897:\tlearn: 0.0385579\ttotal: 2.49s\tremaining: 283ms\n",
      "898:\tlearn: 0.0385342\ttotal: 2.5s\tremaining: 280ms\n",
      "899:\tlearn: 0.0384886\ttotal: 2.5s\tremaining: 278ms\n",
      "900:\tlearn: 0.0384531\ttotal: 2.5s\tremaining: 275ms\n",
      "901:\tlearn: 0.0383946\ttotal: 2.5s\tremaining: 272ms\n",
      "902:\tlearn: 0.0383507\ttotal: 2.5s\tremaining: 269ms\n",
      "903:\tlearn: 0.0383081\ttotal: 2.51s\tremaining: 266ms\n",
      "904:\tlearn: 0.0382728\ttotal: 2.51s\tremaining: 264ms\n",
      "905:\tlearn: 0.0382025\ttotal: 2.51s\tremaining: 261ms\n",
      "906:\tlearn: 0.0381884\ttotal: 2.52s\tremaining: 258ms\n",
      "907:\tlearn: 0.0381597\ttotal: 2.52s\tremaining: 255ms\n",
      "908:\tlearn: 0.0380961\ttotal: 2.52s\tremaining: 253ms\n",
      "909:\tlearn: 0.0380636\ttotal: 2.52s\tremaining: 250ms\n",
      "910:\tlearn: 0.0380339\ttotal: 2.53s\tremaining: 247ms\n",
      "911:\tlearn: 0.0380031\ttotal: 2.53s\tremaining: 244ms\n",
      "912:\tlearn: 0.0379861\ttotal: 2.53s\tremaining: 241ms\n",
      "913:\tlearn: 0.0379502\ttotal: 2.54s\tremaining: 239ms\n",
      "914:\tlearn: 0.0378757\ttotal: 2.54s\tremaining: 236ms\n",
      "915:\tlearn: 0.0378587\ttotal: 2.54s\tremaining: 233ms\n",
      "916:\tlearn: 0.0378191\ttotal: 2.54s\tremaining: 230ms\n",
      "917:\tlearn: 0.0378068\ttotal: 2.55s\tremaining: 227ms\n",
      "918:\tlearn: 0.0377714\ttotal: 2.55s\tremaining: 225ms\n",
      "919:\tlearn: 0.0377364\ttotal: 2.55s\tremaining: 222ms\n",
      "920:\tlearn: 0.0376927\ttotal: 2.56s\tremaining: 219ms\n",
      "921:\tlearn: 0.0376503\ttotal: 2.56s\tremaining: 216ms\n",
      "922:\tlearn: 0.0376248\ttotal: 2.56s\tremaining: 214ms\n",
      "923:\tlearn: 0.0375901\ttotal: 2.56s\tremaining: 211ms\n",
      "924:\tlearn: 0.0375704\ttotal: 2.57s\tremaining: 208ms\n",
      "925:\tlearn: 0.0375147\ttotal: 2.57s\tremaining: 205ms\n",
      "926:\tlearn: 0.0374670\ttotal: 2.57s\tremaining: 203ms\n",
      "927:\tlearn: 0.0374373\ttotal: 2.57s\tremaining: 200ms\n",
      "928:\tlearn: 0.0374108\ttotal: 2.58s\tremaining: 197ms\n",
      "929:\tlearn: 0.0373747\ttotal: 2.58s\tremaining: 194ms\n",
      "930:\tlearn: 0.0373544\ttotal: 2.58s\tremaining: 191ms\n",
      "931:\tlearn: 0.0373064\ttotal: 2.58s\tremaining: 189ms\n",
      "932:\tlearn: 0.0372686\ttotal: 2.59s\tremaining: 186ms\n",
      "933:\tlearn: 0.0372535\ttotal: 2.59s\tremaining: 183ms\n",
      "934:\tlearn: 0.0372344\ttotal: 2.59s\tremaining: 180ms\n",
      "935:\tlearn: 0.0371645\ttotal: 2.6s\tremaining: 177ms\n",
      "936:\tlearn: 0.0371436\ttotal: 2.6s\tremaining: 175ms\n",
      "937:\tlearn: 0.0370987\ttotal: 2.6s\tremaining: 172ms\n",
      "938:\tlearn: 0.0370655\ttotal: 2.6s\tremaining: 169ms\n",
      "939:\tlearn: 0.0370327\ttotal: 2.61s\tremaining: 166ms\n",
      "940:\tlearn: 0.0369759\ttotal: 2.61s\tremaining: 164ms\n",
      "941:\tlearn: 0.0369362\ttotal: 2.61s\tremaining: 161ms\n",
      "942:\tlearn: 0.0369011\ttotal: 2.61s\tremaining: 158ms\n",
      "943:\tlearn: 0.0368481\ttotal: 2.62s\tremaining: 155ms\n",
      "944:\tlearn: 0.0368052\ttotal: 2.62s\tremaining: 152ms\n",
      "945:\tlearn: 0.0367646\ttotal: 2.62s\tremaining: 150ms\n",
      "946:\tlearn: 0.0367196\ttotal: 2.63s\tremaining: 147ms\n",
      "947:\tlearn: 0.0366822\ttotal: 2.63s\tremaining: 144ms\n",
      "948:\tlearn: 0.0366326\ttotal: 2.63s\tremaining: 141ms\n",
      "949:\tlearn: 0.0365993\ttotal: 2.63s\tremaining: 139ms\n",
      "950:\tlearn: 0.0365592\ttotal: 2.64s\tremaining: 136ms\n",
      "951:\tlearn: 0.0365191\ttotal: 2.64s\tremaining: 133ms\n",
      "952:\tlearn: 0.0364666\ttotal: 2.64s\tremaining: 130ms\n",
      "953:\tlearn: 0.0364436\ttotal: 2.64s\tremaining: 128ms\n",
      "954:\tlearn: 0.0364093\ttotal: 2.65s\tremaining: 125ms\n",
      "955:\tlearn: 0.0363863\ttotal: 2.65s\tremaining: 122ms\n",
      "956:\tlearn: 0.0363608\ttotal: 2.65s\tremaining: 119ms\n",
      "957:\tlearn: 0.0363411\ttotal: 2.65s\tremaining: 116ms\n",
      "958:\tlearn: 0.0363081\ttotal: 2.66s\tremaining: 114ms\n",
      "959:\tlearn: 0.0362760\ttotal: 2.66s\tremaining: 111ms\n",
      "960:\tlearn: 0.0362687\ttotal: 2.66s\tremaining: 108ms\n",
      "961:\tlearn: 0.0362280\ttotal: 2.67s\tremaining: 105ms\n",
      "962:\tlearn: 0.0361482\ttotal: 2.67s\tremaining: 103ms\n",
      "963:\tlearn: 0.0361118\ttotal: 2.67s\tremaining: 99.8ms\n",
      "964:\tlearn: 0.0360750\ttotal: 2.67s\tremaining: 97ms\n",
      "965:\tlearn: 0.0360450\ttotal: 2.68s\tremaining: 94.2ms\n",
      "966:\tlearn: 0.0360076\ttotal: 2.68s\tremaining: 91.4ms\n",
      "967:\tlearn: 0.0359944\ttotal: 2.68s\tremaining: 88.7ms\n",
      "968:\tlearn: 0.0359662\ttotal: 2.69s\tremaining: 85.9ms\n",
      "969:\tlearn: 0.0359475\ttotal: 2.69s\tremaining: 83.1ms\n",
      "970:\tlearn: 0.0359176\ttotal: 2.69s\tremaining: 80.4ms\n",
      "971:\tlearn: 0.0358944\ttotal: 2.69s\tremaining: 77.6ms\n",
      "972:\tlearn: 0.0358709\ttotal: 2.69s\tremaining: 74.8ms\n",
      "973:\tlearn: 0.0358400\ttotal: 2.7s\tremaining: 72ms\n",
      "974:\tlearn: 0.0357960\ttotal: 2.7s\tremaining: 69.3ms\n",
      "975:\tlearn: 0.0357540\ttotal: 2.7s\tremaining: 66.5ms\n",
      "976:\tlearn: 0.0357229\ttotal: 2.71s\tremaining: 63.7ms\n",
      "977:\tlearn: 0.0356860\ttotal: 2.71s\tremaining: 61ms\n",
      "978:\tlearn: 0.0356466\ttotal: 2.71s\tremaining: 58.2ms\n",
      "979:\tlearn: 0.0356173\ttotal: 2.71s\tremaining: 55.4ms\n",
      "980:\tlearn: 0.0355922\ttotal: 2.72s\tremaining: 52.6ms\n",
      "981:\tlearn: 0.0355846\ttotal: 2.72s\tremaining: 49.9ms\n",
      "982:\tlearn: 0.0355775\ttotal: 2.72s\tremaining: 47.1ms\n",
      "983:\tlearn: 0.0355261\ttotal: 2.73s\tremaining: 44.3ms\n",
      "984:\tlearn: 0.0354648\ttotal: 2.73s\tremaining: 41.6ms\n",
      "985:\tlearn: 0.0354189\ttotal: 2.73s\tremaining: 38.8ms\n",
      "986:\tlearn: 0.0353419\ttotal: 2.73s\tremaining: 36ms\n",
      "987:\tlearn: 0.0353155\ttotal: 2.74s\tremaining: 33.3ms\n",
      "988:\tlearn: 0.0352583\ttotal: 2.74s\tremaining: 30.5ms\n",
      "989:\tlearn: 0.0352343\ttotal: 2.75s\tremaining: 27.7ms\n",
      "990:\tlearn: 0.0352012\ttotal: 2.75s\tremaining: 25ms\n",
      "991:\tlearn: 0.0351794\ttotal: 2.75s\tremaining: 22.2ms\n",
      "992:\tlearn: 0.0351515\ttotal: 2.75s\tremaining: 19.4ms\n",
      "993:\tlearn: 0.0351080\ttotal: 2.76s\tremaining: 16.7ms\n",
      "994:\tlearn: 0.0350837\ttotal: 2.76s\tremaining: 13.9ms\n",
      "995:\tlearn: 0.0350596\ttotal: 2.76s\tremaining: 11.1ms\n",
      "996:\tlearn: 0.0350107\ttotal: 2.77s\tremaining: 8.33ms\n",
      "997:\tlearn: 0.0349766\ttotal: 2.77s\tremaining: 5.55ms\n",
      "998:\tlearn: 0.0349533\ttotal: 2.77s\tremaining: 2.77ms\n",
      "999:\tlearn: 0.0349176\ttotal: 2.77s\tremaining: 0us\n",
      "Accuracy: 97.29 %\n",
      "\n",
      "\n",
      "Predicting the Test set results \n",
      "[[1 1]\n",
      " [0 0]\n",
      " [0 0]\n",
      " ...\n",
      " [1 1]\n",
      " [1 1]\n",
      " [1 1]]\n",
      "\n",
      " Predicting for: \n",
      "  gender  age  hypertension  heart_disease ever_married work_type  \\\n",
      "0   Male   67             0              1          Yes   Private   \n",
      "\n",
      "  Residence_type  avg_glucose_level   bmi   smoking_status  stroke  \n",
      "0          Urban             228.69  36.6  formerly smoked       1  \n",
      " y_predicted :[1]\n",
      "==================================================================\n",
      "\n",
      "\n",
      "Making the Confusion Matrix\n",
      "**************************\n",
      "Accuracy: 97.29 %\n",
      "[[922   8]\n",
      " [ 43 907]]\n",
      "\n",
      "\n",
      "Accuracy repeort\n",
      "              precision    recall  f1-score   support\n",
      "\n",
      "           0       0.96      0.99      0.97       930\n",
      "           1       0.99      0.95      0.97       950\n",
      "\n",
      "    accuracy                           0.97      1880\n",
      "   macro avg       0.97      0.97      0.97      1880\n",
      "weighted avg       0.97      0.97      0.97      1880\n",
      "\n"
     ]
    }
   ],
   "source": [
    "CAT =trainmodels(CatBoostClassifier(),X_train, y_train)"
   ]
  },
  {
   "cell_type": "markdown",
   "metadata": {
    "id": "US7XIJ3nS82r"
   },
   "source": [
    "**Predicting the Test set results**\n",
    "\n",
    "---\n",
    "\n",
    "\n"
   ]
  },
  {
   "cell_type": "markdown",
   "metadata": {
    "id": "FC-SRiZkQHyI"
   },
   "source": [
    "# Deep Learning Classifications Modeling"
   ]
  },
  {
   "cell_type": "code",
   "execution_count": null,
   "metadata": {
    "id": "4tFFae27QTqt"
   },
   "outputs": [],
   "source": [
    "import tensorflow as tf"
   ]
  },
  {
   "cell_type": "markdown",
   "metadata": {
    "id": "JxNKZ_6JQU8E"
   },
   "source": [
    "## Artificial Neural Network"
   ]
  },
  {
   "cell_type": "markdown",
   "metadata": {
    "id": "tMkMqmGgQ1il"
   },
   "source": [
    "### Initialising the ANN"
   ]
  },
  {
   "cell_type": "code",
   "execution_count": null,
   "metadata": {
    "id": "s3iSG4ehQ1Id"
   },
   "outputs": [],
   "source": [
    "ann = tf.keras.models.Sequential()"
   ]
  },
  {
   "cell_type": "markdown",
   "metadata": {
    "id": "l4RhDbBXSWcR"
   },
   "source": [
    "###Adding the input layer and the first hidden layer"
   ]
  },
  {
   "cell_type": "code",
   "execution_count": null,
   "metadata": {
    "id": "NdrefoyzScPT"
   },
   "outputs": [],
   "source": [
    "ann.add(tf.keras.layers.Dense(units=15, activation='relu'))"
   ]
  },
  {
   "cell_type": "markdown",
   "metadata": {
    "id": "qlA6oPpeSjcD"
   },
   "source": [
    "###Adding the second hidden layer"
   ]
  },
  {
   "cell_type": "code",
   "execution_count": null,
   "metadata": {
    "id": "cUNUYDkdShwo"
   },
   "outputs": [],
   "source": [
    "ann.add(tf.keras.layers.Dense(units=15, activation='relu'))"
   ]
  },
  {
   "cell_type": "markdown",
   "metadata": {
    "id": "aiKhMpiiSsVj"
   },
   "source": [
    "### Adding the output layer"
   ]
  },
  {
   "cell_type": "code",
   "execution_count": null,
   "metadata": {
    "id": "5sYPBdC1SzWM"
   },
   "outputs": [],
   "source": [
    "ann.add(tf.keras.layers.Dense(units=1, activation='sigmoid'))"
   ]
  },
  {
   "cell_type": "markdown",
   "metadata": {
    "id": "PSbxN4XkTWMo"
   },
   "source": [
    "###Comapeling ANN"
   ]
  },
  {
   "cell_type": "code",
   "execution_count": null,
   "metadata": {
    "id": "ku3VNFa8TESj"
   },
   "outputs": [],
   "source": [
    "ann.compile(optimizer = 'adam', loss = 'binary_crossentropy', metrics = ['accuracy'])"
   ]
  },
  {
   "cell_type": "markdown",
   "metadata": {
    "id": "-R7niSMGS45F"
   },
   "source": [
    "###Training the ANN"
   ]
  },
  {
   "cell_type": "code",
   "execution_count": null,
   "metadata": {
    "colab": {
     "base_uri": "https://localhost:8080/"
    },
    "id": "9A8Ov0VsTLmb",
    "outputId": "c719d31e-9321-41ef-e739-a3bee5604146"
   },
   "outputs": [],
   "source": [
    "ann.fit(X_train, y_train, batch_size = 32, epochs = 100)"
   ]
  },
  {
   "cell_type": "markdown",
   "metadata": {
    "id": "TZdeqRGAbzvL"
   },
   "source": [
    "**Predict stroke risk factor for a patient**"
   ]
  },
  {
   "cell_type": "code",
   "execution_count": null,
   "metadata": {
    "colab": {
     "base_uri": "https://localhost:8080/"
    },
    "id": "GNXyjjPJbyVW",
    "outputId": "a3f84eea-6abc-46bb-e014-6a3b4eb0bbda"
   },
   "outputs": [],
   "source": [
    "\n",
    "print(ann.predict(sc.transform([[0.0, 0.0, 1.0, 0.0, 0.0, 0.0, 1.0, 0.0, 0.0, 1, 67, 0, 1, 1, 1,228.69, 36.6]]))> 0.5)\n"
   ]
  },
  {
   "cell_type": "code",
   "execution_count": null,
   "metadata": {
    "colab": {
     "base_uri": "https://localhost:8080/"
    },
    "id": "MGH674y0h29w",
    "outputId": "d8020ea9-4e64-43c8-9dbb-ad9421e36a1c"
   },
   "outputs": [],
   "source": [
    "print(\" possibility\")\n",
    "\n",
    "print(ann.predict(sc.transform([[0.0, 0.0, 1.0, 0.0, 0.0, 0.0, 1.0, 0.0, 0.0, 1, 67, 0, 1, 1, 1,228.69, 36.6]])))"
   ]
  },
  {
   "cell_type": "markdown",
   "metadata": {
    "id": "M_rj6uuqT4ia"
   },
   "source": [
    "**Predicting the Test set**"
   ]
  },
  {
   "cell_type": "code",
   "execution_count": null,
   "metadata": {
    "colab": {
     "base_uri": "https://localhost:8080/"
    },
    "id": "yLF9FRpqT31N",
    "outputId": "02a195af-33c4-4b2d-a0f1-67234c3099c3"
   },
   "outputs": [],
   "source": [
    "y_pred_ann = ann.predict(X_test)\n",
    "y_pred_ann = (y_pred_ann > 0.5)\n",
    "print(np.concatenate((y_pred_ann.reshape(len(y_pred_ann),1), y_test.reshape(len(y_test),1)),1))"
   ]
  },
  {
   "cell_type": "markdown",
   "metadata": {
    "id": "CTeqERXV9kul"
   },
   "source": [
    "### Making the Confusion Matrix"
   ]
  },
  {
   "cell_type": "code",
   "execution_count": null,
   "metadata": {
    "colab": {
     "base_uri": "https://localhost:8080/",
     "height": 122
    },
    "id": "-5r_lRGL7OH6",
    "outputId": "2378278e-a1c5-46d4-c7d2-41f9ae2288d9"
   },
   "outputs": [],
   "source": [
    "cm = confusion_matrix(y_test, y_pred_ann)\n",
    "print(cm)\n",
    "accuracy_score(y_test, y_pred_ann)\n",
    "ann_report=classification_report(y_test, y_pred_ann)\n",
    "print(accuracy_score(y_test, y_pred_ann))\n",
    "sns.heatmap(confusion_matrix(y_test, y_pred_ann),annot=True,cmap='OrRd', fmt='g' )\n",
    "plt.title('Artificial Neural Network')"
   ]
  },
  {
   "cell_type": "code",
   "execution_count": null,
   "metadata": {
    "id": "kDeyRnp_9agd"
   },
   "outputs": [],
   "source": [
    "print(ann_report)"
   ]
  },
  {
   "cell_type": "markdown",
   "metadata": {
    "id": "uHWyjIDrSG2y"
   },
   "source": [
    "# Dictionary of Trained Models "
   ]
  },
  {
   "cell_type": "code",
   "execution_count": null,
   "metadata": {
    "id": "skxSrGJsSL_3"
   },
   "outputs": [],
   "source": [
    "models = { \"Logistic Regression\":LR, \" Random Forest\":RF, \"Decision Tree Classification\":DTC,\n",
    "        \"Naive Bayes\":NB ,\"K-Nearest Neighbors (K-NN)\":KNN,\"Kernel SVM\":KSVM,\n",
    "       \"XGBboots\" :XGB, \"Catboost\": CAT }\n",
    "        "
   ]
  },
  {
   "cell_type": "markdown",
   "metadata": {
    "id": "G7v4zIC9RXmr"
   },
   "source": [
    "# Applying k-Fold Cross Validation on all models "
   ]
  },
  {
   "cell_type": "code",
   "execution_count": null,
   "metadata": {
    "id": "jif0r51ZRi7D"
   },
   "outputs": [],
   "source": [
    "for names,model, in models.items():\n",
    "  print(f\" Cross validation results {names}\")\n",
    "  k_fold_cross_validation(model,X_train,y_train,15)\n",
    "  print()"
   ]
  },
  {
   "cell_type": "markdown",
   "metadata": {
    "id": "NKkA55oJ7lpT"
   },
   "source": [
    "# Evaluating and visualise results."
   ]
  },
  {
   "cell_type": "code",
   "execution_count": null,
   "metadata": {
    "id": "Xbq86F6BG3ou"
   },
   "outputs": [],
   "source": [
    "for names,model, in models.items():\n",
    "  plot_roc_curve(model, X_test, y_test)\n",
    "  plt.title(names)"
   ]
  },
  {
   "cell_type": "code",
   "execution_count": null,
   "metadata": {
    "id": "0d13ySQr8Qur"
   },
   "outputs": [],
   "source": [
    "for names,model, in models.items():\n",
    "  plt.title(names)\n",
    "  plot_confusion_matrix(model)\n",
    "  "
   ]
  }
 ],
 "metadata": {
  "colab": {
   "collapsed_sections": [
    "Hi7sq4a3d7_R",
    "W2N1r8vYed9H",
    "r_GIsnS1J_4U",
    "MByPB3r59t7C",
    "wTP4IU6_GlrY",
    "xldvKkjTeIzb",
    "Kn_UbMBZHln5",
    "JFEDskTywWSs",
    "X-saNY9IatBO",
    "7CB35zEiqy1H",
    "Lo7CNlPWQfmm",
    "tLaC4Z7GwV6e",
    "UC1djveOq0v-",
    "GFf8hRgA8pmh",
    "qaZWjzG8-LxA",
    "gGMXUHxK48Jm",
    "1C62AJlsA1ng",
    "JxNKZ_6JQU8E",
    "tMkMqmGgQ1il"
   ],
   "name": "Stroke-modeling.ipynb",
   "provenance": []
  },
  "kernelspec": {
   "display_name": "Python 3 (ipykernel)",
   "language": "python",
   "name": "python3"
  },
  "language_info": {
   "codemirror_mode": {
    "name": "ipython",
    "version": 3
   },
   "file_extension": ".py",
   "mimetype": "text/x-python",
   "name": "python",
   "nbconvert_exporter": "python",
   "pygments_lexer": "ipython3",
   "version": "3.9.7"
  }
 },
 "nbformat": 4,
 "nbformat_minor": 1
}
